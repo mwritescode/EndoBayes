{
 "cells": [
  {
   "cell_type": "markdown",
   "id": "puVr2JEa1-ny",
   "metadata": {
    "id": "puVr2JEa1-ny"
   },
   "source": [
    "# <center> **EndoBayes: a probabilistic graphical model for Endometriosis diagnosis.** </center> \n",
    "<h4> <center> Project developed for the third module of the course <br> \"Fundamentals of Artificial Intelligence and Knowledge Representation\" </center> </h4> \n",
    "<center>\n",
    "<img src=\"../figures/endo_ribbon.png\" alt=\"Endometriosis Ribbon\" />\n",
    "</center>\n",
    "\n",
    "<h6> <center> <i> Martina Rossini - <a href=\"mailto:martina.rossini3@studio.unibo.it\"> martina.rossini3@studio.unibo.it </a> </i> </center> </h6>"
   ]
  },
  {
   "cell_type": "markdown",
   "id": "D005dMj282ej",
   "metadata": {
    "id": "D005dMj282ej"
   },
   "source": [
    "## **Introduction**\n",
    "\n",
    "Endometriosis is a condition where tissue similar to the lining of the uterus is found elsewhere in the body. This causes a chronic inflammatory reaction that may result in the formation of scar tissue within the pelvis and other parts if the body. According to World Health Organization (WHO), about 10% of women of reproductive age are affected by endometriosis, which currently means around 190 million people. However, the general public still has got limited awareness of this condition, which  is  also,  due  to  its  variable  and  broad  symptoms,  very  much  under-diagnosed. \n",
    "\n",
    "This work explores the possibility of making use of new computational models - in particular, bayesian belief networks - to aid medical specialists in diagnosing Endometriosis and to spread awareness thoughout the community. A small bayesian network, including common risk factors, symptoms and comorbidities for the condition of interest, is shown, followed by an analysis of the network structure an a couple of different example diagnosis. The implementation makes use of the pgmpy library, which provides a pure python implementation for bayesian networks while focusing on modularity and extensibility.\n",
    "\n"
   ]
  },
  {
   "cell_type": "code",
   "execution_count": 1,
   "id": "UeTO0kLZE6cb",
   "metadata": {
    "colab": {
     "base_uri": "https://localhost:8080/"
    },
    "id": "UeTO0kLZE6cb",
    "outputId": "50500209-f0b1-4166-9e01-ba6d65c56c37"
   },
   "outputs": [
    {
     "name": "stdout",
     "output_type": "stream",
     "text": [
      "Collecting pgmpy\n",
      "  Downloading pgmpy-0.1.16-py3-none-any.whl (1.9 MB)\n",
      "\u001b[?25l\r",
      "\u001b[K     |▏                               | 10 kB 21.3 MB/s eta 0:00:01\r",
      "\u001b[K     |▍                               | 20 kB 28.3 MB/s eta 0:00:01\r",
      "\u001b[K     |▌                               | 30 kB 28.3 MB/s eta 0:00:01\r",
      "\u001b[K     |▊                               | 40 kB 27.7 MB/s eta 0:00:01\r",
      "\u001b[K     |▉                               | 51 kB 29.8 MB/s eta 0:00:01\r",
      "\u001b[K     |█                               | 61 kB 32.5 MB/s eta 0:00:01\r",
      "\u001b[K     |█▏                              | 71 kB 28.5 MB/s eta 0:00:01\r",
      "\u001b[K     |█▍                              | 81 kB 29.1 MB/s eta 0:00:01\r",
      "\u001b[K     |█▌                              | 92 kB 29.9 MB/s eta 0:00:01\r",
      "\u001b[K     |█▊                              | 102 kB 29.3 MB/s eta 0:00:01\r",
      "\u001b[K     |█▉                              | 112 kB 29.3 MB/s eta 0:00:01\r",
      "\u001b[K     |██                              | 122 kB 29.3 MB/s eta 0:00:01\r",
      "\u001b[K     |██▏                             | 133 kB 29.3 MB/s eta 0:00:01\r",
      "\u001b[K     |██▍                             | 143 kB 29.3 MB/s eta 0:00:01\r",
      "\u001b[K     |██▋                             | 153 kB 29.3 MB/s eta 0:00:01\r",
      "\u001b[K     |██▊                             | 163 kB 29.3 MB/s eta 0:00:01\r",
      "\u001b[K     |███                             | 174 kB 29.3 MB/s eta 0:00:01\r",
      "\u001b[K     |███                             | 184 kB 29.3 MB/s eta 0:00:01\r",
      "\u001b[K     |███▎                            | 194 kB 29.3 MB/s eta 0:00:01\r",
      "\u001b[K     |███▍                            | 204 kB 29.3 MB/s eta 0:00:01\r",
      "\u001b[K     |███▋                            | 215 kB 29.3 MB/s eta 0:00:01\r",
      "\u001b[K     |███▊                            | 225 kB 29.3 MB/s eta 0:00:01\r",
      "\u001b[K     |████                            | 235 kB 29.3 MB/s eta 0:00:01\r",
      "\u001b[K     |████                            | 245 kB 29.3 MB/s eta 0:00:01\r",
      "\u001b[K     |████▎                           | 256 kB 29.3 MB/s eta 0:00:01\r",
      "\u001b[K     |████▍                           | 266 kB 29.3 MB/s eta 0:00:01\r",
      "\u001b[K     |████▋                           | 276 kB 29.3 MB/s eta 0:00:01\r",
      "\u001b[K     |████▉                           | 286 kB 29.3 MB/s eta 0:00:01\r",
      "\u001b[K     |█████                           | 296 kB 29.3 MB/s eta 0:00:01\r",
      "\u001b[K     |█████▏                          | 307 kB 29.3 MB/s eta 0:00:01\r",
      "\u001b[K     |█████▎                          | 317 kB 29.3 MB/s eta 0:00:01\r",
      "\u001b[K     |█████▌                          | 327 kB 29.3 MB/s eta 0:00:01\r",
      "\u001b[K     |█████▋                          | 337 kB 29.3 MB/s eta 0:00:01\r",
      "\u001b[K     |█████▉                          | 348 kB 29.3 MB/s eta 0:00:01\r",
      "\u001b[K     |██████                          | 358 kB 29.3 MB/s eta 0:00:01\r",
      "\u001b[K     |██████▏                         | 368 kB 29.3 MB/s eta 0:00:01\r",
      "\u001b[K     |██████▎                         | 378 kB 29.3 MB/s eta 0:00:01\r",
      "\u001b[K     |██████▌                         | 389 kB 29.3 MB/s eta 0:00:01\r",
      "\u001b[K     |██████▋                         | 399 kB 29.3 MB/s eta 0:00:01\r",
      "\u001b[K     |██████▉                         | 409 kB 29.3 MB/s eta 0:00:01\r",
      "\u001b[K     |███████                         | 419 kB 29.3 MB/s eta 0:00:01\r",
      "\u001b[K     |███████▏                        | 430 kB 29.3 MB/s eta 0:00:01\r",
      "\u001b[K     |███████▍                        | 440 kB 29.3 MB/s eta 0:00:01\r",
      "\u001b[K     |███████▌                        | 450 kB 29.3 MB/s eta 0:00:01\r",
      "\u001b[K     |███████▊                        | 460 kB 29.3 MB/s eta 0:00:01\r",
      "\u001b[K     |███████▉                        | 471 kB 29.3 MB/s eta 0:00:01\r",
      "\u001b[K     |████████                        | 481 kB 29.3 MB/s eta 0:00:01\r",
      "\u001b[K     |████████▏                       | 491 kB 29.3 MB/s eta 0:00:01\r",
      "\u001b[K     |████████▍                       | 501 kB 29.3 MB/s eta 0:00:01\r",
      "\u001b[K     |████████▌                       | 512 kB 29.3 MB/s eta 0:00:01\r",
      "\u001b[K     |████████▊                       | 522 kB 29.3 MB/s eta 0:00:01\r",
      "\u001b[K     |████████▉                       | 532 kB 29.3 MB/s eta 0:00:01\r",
      "\u001b[K     |█████████                       | 542 kB 29.3 MB/s eta 0:00:01\r",
      "\u001b[K     |█████████▎                      | 552 kB 29.3 MB/s eta 0:00:01\r",
      "\u001b[K     |█████████▍                      | 563 kB 29.3 MB/s eta 0:00:01\r",
      "\u001b[K     |█████████▋                      | 573 kB 29.3 MB/s eta 0:00:01\r",
      "\u001b[K     |█████████▊                      | 583 kB 29.3 MB/s eta 0:00:01\r",
      "\u001b[K     |██████████                      | 593 kB 29.3 MB/s eta 0:00:01\r",
      "\u001b[K     |██████████                      | 604 kB 29.3 MB/s eta 0:00:01\r",
      "\u001b[K     |██████████▎                     | 614 kB 29.3 MB/s eta 0:00:01\r",
      "\u001b[K     |██████████▍                     | 624 kB 29.3 MB/s eta 0:00:01\r",
      "\u001b[K     |██████████▋                     | 634 kB 29.3 MB/s eta 0:00:01\r",
      "\u001b[K     |██████████▊                     | 645 kB 29.3 MB/s eta 0:00:01\r",
      "\u001b[K     |███████████                     | 655 kB 29.3 MB/s eta 0:00:01\r",
      "\u001b[K     |███████████                     | 665 kB 29.3 MB/s eta 0:00:01\r",
      "\u001b[K     |███████████▎                    | 675 kB 29.3 MB/s eta 0:00:01\r",
      "\u001b[K     |███████████▍                    | 686 kB 29.3 MB/s eta 0:00:01\r",
      "\u001b[K     |███████████▋                    | 696 kB 29.3 MB/s eta 0:00:01\r",
      "\u001b[K     |███████████▉                    | 706 kB 29.3 MB/s eta 0:00:01\r",
      "\u001b[K     |████████████                    | 716 kB 29.3 MB/s eta 0:00:01\r",
      "\u001b[K     |████████████▏                   | 727 kB 29.3 MB/s eta 0:00:01\r",
      "\u001b[K     |████████████▎                   | 737 kB 29.3 MB/s eta 0:00:01\r",
      "\u001b[K     |████████████▌                   | 747 kB 29.3 MB/s eta 0:00:01\r",
      "\u001b[K     |████████████▋                   | 757 kB 29.3 MB/s eta 0:00:01\r",
      "\u001b[K     |████████████▉                   | 768 kB 29.3 MB/s eta 0:00:01\r",
      "\u001b[K     |█████████████                   | 778 kB 29.3 MB/s eta 0:00:01\r",
      "\u001b[K     |█████████████▏                  | 788 kB 29.3 MB/s eta 0:00:01\r",
      "\u001b[K     |█████████████▎                  | 798 kB 29.3 MB/s eta 0:00:01\r",
      "\u001b[K     |█████████████▌                  | 808 kB 29.3 MB/s eta 0:00:01\r",
      "\u001b[K     |█████████████▋                  | 819 kB 29.3 MB/s eta 0:00:01\r",
      "\u001b[K     |█████████████▉                  | 829 kB 29.3 MB/s eta 0:00:01\r",
      "\u001b[K     |██████████████                  | 839 kB 29.3 MB/s eta 0:00:01\r",
      "\u001b[K     |██████████████▏                 | 849 kB 29.3 MB/s eta 0:00:01\r",
      "\u001b[K     |██████████████▍                 | 860 kB 29.3 MB/s eta 0:00:01\r",
      "\u001b[K     |██████████████▌                 | 870 kB 29.3 MB/s eta 0:00:01\r",
      "\u001b[K     |██████████████▊                 | 880 kB 29.3 MB/s eta 0:00:01\r",
      "\u001b[K     |██████████████▉                 | 890 kB 29.3 MB/s eta 0:00:01\r",
      "\u001b[K     |███████████████                 | 901 kB 29.3 MB/s eta 0:00:01\r",
      "\u001b[K     |███████████████▏                | 911 kB 29.3 MB/s eta 0:00:01\r",
      "\u001b[K     |███████████████▍                | 921 kB 29.3 MB/s eta 0:00:01\r",
      "\u001b[K     |███████████████▌                | 931 kB 29.3 MB/s eta 0:00:01\r",
      "\u001b[K     |███████████████▊                | 942 kB 29.3 MB/s eta 0:00:01\r",
      "\u001b[K     |███████████████▉                | 952 kB 29.3 MB/s eta 0:00:01\r",
      "\u001b[K     |████████████████                | 962 kB 29.3 MB/s eta 0:00:01\r",
      "\u001b[K     |████████████████▎               | 972 kB 29.3 MB/s eta 0:00:01\r",
      "\u001b[K     |████████████████▍               | 983 kB 29.3 MB/s eta 0:00:01\r",
      "\u001b[K     |████████████████▋               | 993 kB 29.3 MB/s eta 0:00:01\r",
      "\u001b[K     |████████████████▊               | 1.0 MB 29.3 MB/s eta 0:00:01\r",
      "\u001b[K     |█████████████████               | 1.0 MB 29.3 MB/s eta 0:00:01\r",
      "\u001b[K     |█████████████████               | 1.0 MB 29.3 MB/s eta 0:00:01\r",
      "\u001b[K     |█████████████████▎              | 1.0 MB 29.3 MB/s eta 0:00:01\r",
      "\u001b[K     |█████████████████▍              | 1.0 MB 29.3 MB/s eta 0:00:01\r",
      "\u001b[K     |█████████████████▋              | 1.1 MB 29.3 MB/s eta 0:00:01\r",
      "\u001b[K     |█████████████████▊              | 1.1 MB 29.3 MB/s eta 0:00:01\r",
      "\u001b[K     |██████████████████              | 1.1 MB 29.3 MB/s eta 0:00:01\r",
      "\u001b[K     |██████████████████              | 1.1 MB 29.3 MB/s eta 0:00:01\r",
      "\u001b[K     |██████████████████▎             | 1.1 MB 29.3 MB/s eta 0:00:01\r",
      "\u001b[K     |██████████████████▌             | 1.1 MB 29.3 MB/s eta 0:00:01\r",
      "\u001b[K     |██████████████████▋             | 1.1 MB 29.3 MB/s eta 0:00:01\r",
      "\u001b[K     |██████████████████▉             | 1.1 MB 29.3 MB/s eta 0:00:01\r",
      "\u001b[K     |███████████████████             | 1.1 MB 29.3 MB/s eta 0:00:01\r",
      "\u001b[K     |███████████████████▏            | 1.1 MB 29.3 MB/s eta 0:00:01\r",
      "\u001b[K     |███████████████████▎            | 1.2 MB 29.3 MB/s eta 0:00:01\r",
      "\u001b[K     |███████████████████▌            | 1.2 MB 29.3 MB/s eta 0:00:01\r",
      "\u001b[K     |███████████████████▋            | 1.2 MB 29.3 MB/s eta 0:00:01\r",
      "\u001b[K     |███████████████████▉            | 1.2 MB 29.3 MB/s eta 0:00:01\r",
      "\u001b[K     |████████████████████            | 1.2 MB 29.3 MB/s eta 0:00:01\r",
      "\u001b[K     |████████████████████▏           | 1.2 MB 29.3 MB/s eta 0:00:01\r",
      "\u001b[K     |████████████████████▎           | 1.2 MB 29.3 MB/s eta 0:00:01\r",
      "\u001b[K     |████████████████████▌           | 1.2 MB 29.3 MB/s eta 0:00:01\r",
      "\u001b[K     |████████████████████▋           | 1.2 MB 29.3 MB/s eta 0:00:01\r",
      "\u001b[K     |████████████████████▉           | 1.2 MB 29.3 MB/s eta 0:00:01\r",
      "\u001b[K     |█████████████████████           | 1.3 MB 29.3 MB/s eta 0:00:01\r",
      "\u001b[K     |█████████████████████▏          | 1.3 MB 29.3 MB/s eta 0:00:01\r",
      "\u001b[K     |█████████████████████▍          | 1.3 MB 29.3 MB/s eta 0:00:01\r",
      "\u001b[K     |█████████████████████▌          | 1.3 MB 29.3 MB/s eta 0:00:01\r",
      "\u001b[K     |█████████████████████▊          | 1.3 MB 29.3 MB/s eta 0:00:01\r",
      "\u001b[K     |█████████████████████▉          | 1.3 MB 29.3 MB/s eta 0:00:01\r",
      "\u001b[K     |██████████████████████          | 1.3 MB 29.3 MB/s eta 0:00:01\r",
      "\u001b[K     |██████████████████████▏         | 1.3 MB 29.3 MB/s eta 0:00:01\r",
      "\u001b[K     |██████████████████████▍         | 1.3 MB 29.3 MB/s eta 0:00:01\r",
      "\u001b[K     |██████████████████████▌         | 1.4 MB 29.3 MB/s eta 0:00:01\r",
      "\u001b[K     |██████████████████████▊         | 1.4 MB 29.3 MB/s eta 0:00:01\r",
      "\u001b[K     |██████████████████████▉         | 1.4 MB 29.3 MB/s eta 0:00:01\r",
      "\u001b[K     |███████████████████████         | 1.4 MB 29.3 MB/s eta 0:00:01\r",
      "\u001b[K     |███████████████████████▎        | 1.4 MB 29.3 MB/s eta 0:00:01\r",
      "\u001b[K     |███████████████████████▍        | 1.4 MB 29.3 MB/s eta 0:00:01\r",
      "\u001b[K     |███████████████████████▋        | 1.4 MB 29.3 MB/s eta 0:00:01\r",
      "\u001b[K     |███████████████████████▊        | 1.4 MB 29.3 MB/s eta 0:00:01\r",
      "\u001b[K     |████████████████████████        | 1.4 MB 29.3 MB/s eta 0:00:01\r",
      "\u001b[K     |████████████████████████        | 1.4 MB 29.3 MB/s eta 0:00:01\r",
      "\u001b[K     |████████████████████████▎       | 1.5 MB 29.3 MB/s eta 0:00:01\r",
      "\u001b[K     |████████████████████████▍       | 1.5 MB 29.3 MB/s eta 0:00:01\r",
      "\u001b[K     |████████████████████████▋       | 1.5 MB 29.3 MB/s eta 0:00:01\r",
      "\u001b[K     |████████████████████████▊       | 1.5 MB 29.3 MB/s eta 0:00:01\r",
      "\u001b[K     |█████████████████████████       | 1.5 MB 29.3 MB/s eta 0:00:01\r",
      "\u001b[K     |█████████████████████████       | 1.5 MB 29.3 MB/s eta 0:00:01\r",
      "\u001b[K     |█████████████████████████▎      | 1.5 MB 29.3 MB/s eta 0:00:01\r",
      "\u001b[K     |█████████████████████████▌      | 1.5 MB 29.3 MB/s eta 0:00:01\r",
      "\u001b[K     |█████████████████████████▋      | 1.5 MB 29.3 MB/s eta 0:00:01\r",
      "\u001b[K     |█████████████████████████▉      | 1.5 MB 29.3 MB/s eta 0:00:01\r",
      "\u001b[K     |██████████████████████████      | 1.6 MB 29.3 MB/s eta 0:00:01\r",
      "\u001b[K     |██████████████████████████▏     | 1.6 MB 29.3 MB/s eta 0:00:01\r",
      "\u001b[K     |██████████████████████████▎     | 1.6 MB 29.3 MB/s eta 0:00:01\r",
      "\u001b[K     |██████████████████████████▌     | 1.6 MB 29.3 MB/s eta 0:00:01\r",
      "\u001b[K     |██████████████████████████▋     | 1.6 MB 29.3 MB/s eta 0:00:01\r",
      "\u001b[K     |██████████████████████████▉     | 1.6 MB 29.3 MB/s eta 0:00:01\r",
      "\u001b[K     |███████████████████████████     | 1.6 MB 29.3 MB/s eta 0:00:01\r",
      "\u001b[K     |███████████████████████████▏    | 1.6 MB 29.3 MB/s eta 0:00:01\r",
      "\u001b[K     |███████████████████████████▎    | 1.6 MB 29.3 MB/s eta 0:00:01\r",
      "\u001b[K     |███████████████████████████▌    | 1.6 MB 29.3 MB/s eta 0:00:01\r",
      "\u001b[K     |███████████████████████████▊    | 1.7 MB 29.3 MB/s eta 0:00:01\r",
      "\u001b[K     |███████████████████████████▉    | 1.7 MB 29.3 MB/s eta 0:00:01\r",
      "\u001b[K     |████████████████████████████    | 1.7 MB 29.3 MB/s eta 0:00:01\r",
      "\u001b[K     |████████████████████████████▏   | 1.7 MB 29.3 MB/s eta 0:00:01\r",
      "\u001b[K     |████████████████████████████▍   | 1.7 MB 29.3 MB/s eta 0:00:01\r",
      "\u001b[K     |████████████████████████████▌   | 1.7 MB 29.3 MB/s eta 0:00:01\r",
      "\u001b[K     |████████████████████████████▊   | 1.7 MB 29.3 MB/s eta 0:00:01\r",
      "\u001b[K     |████████████████████████████▉   | 1.7 MB 29.3 MB/s eta 0:00:01\r",
      "\u001b[K     |█████████████████████████████   | 1.7 MB 29.3 MB/s eta 0:00:01\r",
      "\u001b[K     |█████████████████████████████▏  | 1.8 MB 29.3 MB/s eta 0:00:01\r",
      "\u001b[K     |█████████████████████████████▍  | 1.8 MB 29.3 MB/s eta 0:00:01\r",
      "\u001b[K     |█████████████████████████████▌  | 1.8 MB 29.3 MB/s eta 0:00:01\r",
      "\u001b[K     |█████████████████████████████▊  | 1.8 MB 29.3 MB/s eta 0:00:01\r",
      "\u001b[K     |█████████████████████████████▉  | 1.8 MB 29.3 MB/s eta 0:00:01\r",
      "\u001b[K     |██████████████████████████████  | 1.8 MB 29.3 MB/s eta 0:00:01\r",
      "\u001b[K     |██████████████████████████████▎ | 1.8 MB 29.3 MB/s eta 0:00:01\r",
      "\u001b[K     |██████████████████████████████▍ | 1.8 MB 29.3 MB/s eta 0:00:01\r",
      "\u001b[K     |██████████████████████████████▋ | 1.8 MB 29.3 MB/s eta 0:00:01\r",
      "\u001b[K     |██████████████████████████████▊ | 1.8 MB 29.3 MB/s eta 0:00:01\r",
      "\u001b[K     |███████████████████████████████ | 1.9 MB 29.3 MB/s eta 0:00:01\r",
      "\u001b[K     |███████████████████████████████ | 1.9 MB 29.3 MB/s eta 0:00:01\r",
      "\u001b[K     |███████████████████████████████▎| 1.9 MB 29.3 MB/s eta 0:00:01\r",
      "\u001b[K     |███████████████████████████████▍| 1.9 MB 29.3 MB/s eta 0:00:01\r",
      "\u001b[K     |███████████████████████████████▋| 1.9 MB 29.3 MB/s eta 0:00:01\r",
      "\u001b[K     |███████████████████████████████▊| 1.9 MB 29.3 MB/s eta 0:00:01\r",
      "\u001b[K     |████████████████████████████████| 1.9 MB 29.3 MB/s eta 0:00:01\r",
      "\u001b[K     |████████████████████████████████| 1.9 MB 29.3 MB/s \n",
      "\u001b[?25hRequirement already satisfied: scipy in /usr/local/lib/python3.7/dist-packages (from pgmpy) (1.4.1)\n",
      "Requirement already satisfied: pyparsing in /usr/local/lib/python3.7/dist-packages (from pgmpy) (2.4.7)\n",
      "Requirement already satisfied: networkx in /usr/local/lib/python3.7/dist-packages (from pgmpy) (2.6.3)\n",
      "Requirement already satisfied: statsmodels in /usr/local/lib/python3.7/dist-packages (from pgmpy) (0.10.2)\n",
      "Requirement already satisfied: tqdm in /usr/local/lib/python3.7/dist-packages (from pgmpy) (4.62.3)\n",
      "Requirement already satisfied: joblib in /usr/local/lib/python3.7/dist-packages (from pgmpy) (1.0.1)\n",
      "Requirement already satisfied: scikit-learn in /usr/local/lib/python3.7/dist-packages (from pgmpy) (0.22.2.post1)\n",
      "Requirement already satisfied: numpy in /usr/local/lib/python3.7/dist-packages (from pgmpy) (1.19.5)\n",
      "Requirement already satisfied: torch in /usr/local/lib/python3.7/dist-packages (from pgmpy) (1.9.0+cu111)\n",
      "Requirement already satisfied: pandas in /usr/local/lib/python3.7/dist-packages (from pgmpy) (1.1.5)\n",
      "Requirement already satisfied: pytz>=2017.2 in /usr/local/lib/python3.7/dist-packages (from pandas->pgmpy) (2018.9)\n",
      "Requirement already satisfied: python-dateutil>=2.7.3 in /usr/local/lib/python3.7/dist-packages (from pandas->pgmpy) (2.8.2)\n",
      "Requirement already satisfied: six>=1.5 in /usr/local/lib/python3.7/dist-packages (from python-dateutil>=2.7.3->pandas->pgmpy) (1.15.0)\n",
      "Requirement already satisfied: patsy>=0.4.0 in /usr/local/lib/python3.7/dist-packages (from statsmodels->pgmpy) (0.5.2)\n",
      "Requirement already satisfied: typing-extensions in /usr/local/lib/python3.7/dist-packages (from torch->pgmpy) (3.7.4.3)\n",
      "Installing collected packages: pgmpy\n",
      "Successfully installed pgmpy-0.1.16\n",
      "Collecting pyvis\n",
      "  Downloading pyvis-0.1.9-py3-none-any.whl (23 kB)\n",
      "Collecting jsonpickle>=1.4.1\n",
      "  Downloading jsonpickle-2.0.0-py2.py3-none-any.whl (37 kB)\n",
      "Requirement already satisfied: jinja2>=2.9.6 in /usr/local/lib/python3.7/dist-packages (from pyvis) (2.11.3)\n",
      "Requirement already satisfied: ipython>=5.3.0 in /usr/local/lib/python3.7/dist-packages (from pyvis) (5.5.0)\n",
      "Requirement already satisfied: networkx>=1.11 in /usr/local/lib/python3.7/dist-packages (from pyvis) (2.6.3)\n",
      "Requirement already satisfied: decorator in /usr/local/lib/python3.7/dist-packages (from ipython>=5.3.0->pyvis) (4.4.2)\n",
      "Requirement already satisfied: prompt-toolkit<2.0.0,>=1.0.4 in /usr/local/lib/python3.7/dist-packages (from ipython>=5.3.0->pyvis) (1.0.18)\n",
      "Requirement already satisfied: pygments in /usr/local/lib/python3.7/dist-packages (from ipython>=5.3.0->pyvis) (2.6.1)\n",
      "Requirement already satisfied: pickleshare in /usr/local/lib/python3.7/dist-packages (from ipython>=5.3.0->pyvis) (0.7.5)\n",
      "Requirement already satisfied: pexpect in /usr/local/lib/python3.7/dist-packages (from ipython>=5.3.0->pyvis) (4.8.0)\n",
      "Requirement already satisfied: traitlets>=4.2 in /usr/local/lib/python3.7/dist-packages (from ipython>=5.3.0->pyvis) (5.1.0)\n",
      "Requirement already satisfied: setuptools>=18.5 in /usr/local/lib/python3.7/dist-packages (from ipython>=5.3.0->pyvis) (57.4.0)\n",
      "Requirement already satisfied: simplegeneric>0.8 in /usr/local/lib/python3.7/dist-packages (from ipython>=5.3.0->pyvis) (0.8.1)\n",
      "Requirement already satisfied: MarkupSafe>=0.23 in /usr/local/lib/python3.7/dist-packages (from jinja2>=2.9.6->pyvis) (2.0.1)\n",
      "Requirement already satisfied: importlib-metadata in /usr/local/lib/python3.7/dist-packages (from jsonpickle>=1.4.1->pyvis) (4.8.1)\n",
      "Requirement already satisfied: wcwidth in /usr/local/lib/python3.7/dist-packages (from prompt-toolkit<2.0.0,>=1.0.4->ipython>=5.3.0->pyvis) (0.2.5)\n",
      "Requirement already satisfied: six>=1.9.0 in /usr/local/lib/python3.7/dist-packages (from prompt-toolkit<2.0.0,>=1.0.4->ipython>=5.3.0->pyvis) (1.15.0)\n",
      "Requirement already satisfied: zipp>=0.5 in /usr/local/lib/python3.7/dist-packages (from importlib-metadata->jsonpickle>=1.4.1->pyvis) (3.6.0)\n",
      "Requirement already satisfied: typing-extensions>=3.6.4 in /usr/local/lib/python3.7/dist-packages (from importlib-metadata->jsonpickle>=1.4.1->pyvis) (3.7.4.3)\n",
      "Requirement already satisfied: ptyprocess>=0.5 in /usr/local/lib/python3.7/dist-packages (from pexpect->ipython>=5.3.0->pyvis) (0.7.0)\n",
      "Installing collected packages: jsonpickle, pyvis\n",
      "Successfully installed jsonpickle-2.0.0 pyvis-0.1.9\n"
     ]
    }
   ],
   "source": [
    "# Install necessary libraries\n",
    "import sys\n",
    "!{sys.executable} -m pip install pgmpy\n",
    "!{sys.executable} -m pip install pyvis"
   ]
  },
  {
   "cell_type": "code",
   "execution_count": 2,
   "id": "Q-f0vaKgFAul",
   "metadata": {
    "id": "Q-f0vaKgFAul"
   },
   "outputs": [],
   "source": [
    "# Clone git repository\n",
    "#!git clone https://github.com/mwritescode/endobayes.git"
   ]
  },
  {
   "cell_type": "code",
   "execution_count": 1,
   "id": "99koUZ9eF6nw",
   "metadata": {
    "id": "99koUZ9eF6nw"
   },
   "outputs": [],
   "source": [
    "# Avoid showing pgmpy warnings\n",
    "import warnings\n",
    "warnings.filterwarnings('ignore')"
   ]
  },
  {
   "cell_type": "code",
   "execution_count": 2,
   "id": "_I5V68fzCEAG",
   "metadata": {
    "id": "_I5V68fzCEAG"
   },
   "outputs": [],
   "source": [
    "import time\n",
    "\n",
    "import math\n",
    "import numpy as np\n",
    "import pandas as pd\n",
    "\n",
    "import seaborn as sns\n",
    "import IPython.display as ipd\n",
    "import matplotlib.pyplot as plt\n",
    "from pyvis.network import Network\n",
    "\n",
    "from pgmpy.models import BayesianModel\n",
    "from pgmpy.sampling import GibbsSampling\n",
    "from pgmpy.inference import VariableElimination\n",
    "from pgmpy.factors.discrete.CPD import TabularCPD\n",
    "from parameter_estimators import ExpectationMaximizationWithPriors\n",
    "from pgmpy.estimators import BayesianEstimator, ExpectationMaximization"
   ]
  },
  {
   "cell_type": "markdown",
   "id": "YdaWzrFAD3mz",
   "metadata": {
    "id": "YdaWzrFAD3mz"
   },
   "source": [
    "## **Data Processing**\n",
    "\n",
    "All the data used in this work was collected last year by Shani Cohen, a computer science student at Ariel University (Israel) who was kind enough to let me access and use it. She collected information regarding the occourrence of 50 common Endometriosis symptoms/comorbidities in both healthy people and in individuals affected by the interested condition. Her dataset was originally intended for a deep learning project aiming to diagnose Endometriosis, which can be found [here](https://github.com/shani-co/-Deeplearning-Endo).\n",
    "\n",
    "The dataset will now be preprocessed and visualized: only a small subset of the symptoms and comorbidities it contains are included in this diagnostic network, thus we'll separate them from the rest and we'll visualized their correlation to Endometriosis. In particular, our network will have nodes for `Endometriosis`, `IBS-like Symptoms`, `IBS`, `Infertility`, `Chronic Fatigue`, `Heavy Menstrual Bleeding`, `Depression / Anxiety`, `Pain During Intercourse`, `Painful Periods`, `Ovarian Cysts`, `Painful Bowel Movements`, `Diarrhea`, `Nausea`, `Bloating` and `Abdominal Cramps`. Note that the initial DataFrame doesn't have columns for `Depression / Anxiety` and for `Painful Periods`, but we manually computed them starting from other available symptoms."
   ]
  },
  {
   "cell_type": "code",
   "execution_count": 3,
   "id": "80c30ac2",
   "metadata": {
    "id": "80c30ac2"
   },
   "outputs": [],
   "source": [
    "data = pd.read_excel('../data/dataset.xlsx')\n",
    "data['Endometriosis'] = data['label']"
   ]
  },
  {
   "cell_type": "code",
   "execution_count": 4,
   "id": "314dae6e",
   "metadata": {
    "colab": {
     "base_uri": "https://localhost:8080/",
     "height": 470
    },
    "id": "314dae6e",
    "outputId": "1cbc5b7d-f154-4869-9714-14e068dc1800"
   },
   "outputs": [
    {
     "data": {
      "text/html": [
       "<div>\n",
       "<style scoped>\n",
       "    .dataframe tbody tr th:only-of-type {\n",
       "        vertical-align: middle;\n",
       "    }\n",
       "\n",
       "    .dataframe tbody tr th {\n",
       "        vertical-align: top;\n",
       "    }\n",
       "\n",
       "    .dataframe thead th {\n",
       "        text-align: right;\n",
       "    }\n",
       "</style>\n",
       "<table border=\"1\" class=\"dataframe\">\n",
       "  <thead>\n",
       "    <tr style=\"text-align: right;\">\n",
       "      <th></th>\n",
       "      <th>Heavy / Extreme menstrual bleeding</th>\n",
       "      <th>Painful / Burning pain during sex (Dyspareunia)</th>\n",
       "      <th>Abdominal pain / pressure</th>\n",
       "      <th>Painful bowel movements</th>\n",
       "      <th>Nausea</th>\n",
       "      <th>Infertility</th>\n",
       "      <th>Diarrhea</th>\n",
       "      <th>Fatigue / Chronic fatigue</th>\n",
       "      <th>Irritable Bowel Syndrome (IBS)</th>\n",
       "      <th>Ovarian cysts</th>\n",
       "      <th>IBS-like symptoms</th>\n",
       "      <th>Bloating</th>\n",
       "      <th>Endometriosis</th>\n",
       "      <th>Painful Periods</th>\n",
       "      <th>Depression / Anxiety</th>\n",
       "    </tr>\n",
       "  </thead>\n",
       "  <tbody>\n",
       "    <tr>\n",
       "      <th>0</th>\n",
       "      <td>1</td>\n",
       "      <td>1</td>\n",
       "      <td>1</td>\n",
       "      <td>1</td>\n",
       "      <td>1</td>\n",
       "      <td>0</td>\n",
       "      <td>1</td>\n",
       "      <td>1</td>\n",
       "      <td>1</td>\n",
       "      <td>0</td>\n",
       "      <td>1</td>\n",
       "      <td>1</td>\n",
       "      <td>1</td>\n",
       "      <td>1</td>\n",
       "      <td>1</td>\n",
       "    </tr>\n",
       "    <tr>\n",
       "      <th>1</th>\n",
       "      <td>1</td>\n",
       "      <td>1</td>\n",
       "      <td>1</td>\n",
       "      <td>1</td>\n",
       "      <td>1</td>\n",
       "      <td>0</td>\n",
       "      <td>1</td>\n",
       "      <td>0</td>\n",
       "      <td>0</td>\n",
       "      <td>1</td>\n",
       "      <td>0</td>\n",
       "      <td>0</td>\n",
       "      <td>1</td>\n",
       "      <td>1</td>\n",
       "      <td>0</td>\n",
       "    </tr>\n",
       "    <tr>\n",
       "      <th>2</th>\n",
       "      <td>0</td>\n",
       "      <td>0</td>\n",
       "      <td>0</td>\n",
       "      <td>0</td>\n",
       "      <td>1</td>\n",
       "      <td>0</td>\n",
       "      <td>1</td>\n",
       "      <td>1</td>\n",
       "      <td>0</td>\n",
       "      <td>0</td>\n",
       "      <td>1</td>\n",
       "      <td>1</td>\n",
       "      <td>1</td>\n",
       "      <td>1</td>\n",
       "      <td>1</td>\n",
       "    </tr>\n",
       "    <tr>\n",
       "      <th>3</th>\n",
       "      <td>1</td>\n",
       "      <td>0</td>\n",
       "      <td>1</td>\n",
       "      <td>0</td>\n",
       "      <td>0</td>\n",
       "      <td>0</td>\n",
       "      <td>0</td>\n",
       "      <td>1</td>\n",
       "      <td>0</td>\n",
       "      <td>0</td>\n",
       "      <td>0</td>\n",
       "      <td>1</td>\n",
       "      <td>1</td>\n",
       "      <td>0</td>\n",
       "      <td>1</td>\n",
       "    </tr>\n",
       "    <tr>\n",
       "      <th>4</th>\n",
       "      <td>0</td>\n",
       "      <td>1</td>\n",
       "      <td>0</td>\n",
       "      <td>1</td>\n",
       "      <td>0</td>\n",
       "      <td>0</td>\n",
       "      <td>1</td>\n",
       "      <td>1</td>\n",
       "      <td>1</td>\n",
       "      <td>0</td>\n",
       "      <td>1</td>\n",
       "      <td>0</td>\n",
       "      <td>1</td>\n",
       "      <td>1</td>\n",
       "      <td>1</td>\n",
       "    </tr>\n",
       "    <tr>\n",
       "      <th>...</th>\n",
       "      <td>...</td>\n",
       "      <td>...</td>\n",
       "      <td>...</td>\n",
       "      <td>...</td>\n",
       "      <td>...</td>\n",
       "      <td>...</td>\n",
       "      <td>...</td>\n",
       "      <td>...</td>\n",
       "      <td>...</td>\n",
       "      <td>...</td>\n",
       "      <td>...</td>\n",
       "      <td>...</td>\n",
       "      <td>...</td>\n",
       "      <td>...</td>\n",
       "      <td>...</td>\n",
       "    </tr>\n",
       "    <tr>\n",
       "      <th>881</th>\n",
       "      <td>0</td>\n",
       "      <td>0</td>\n",
       "      <td>0</td>\n",
       "      <td>0</td>\n",
       "      <td>0</td>\n",
       "      <td>0</td>\n",
       "      <td>0</td>\n",
       "      <td>0</td>\n",
       "      <td>0</td>\n",
       "      <td>0</td>\n",
       "      <td>0</td>\n",
       "      <td>0</td>\n",
       "      <td>0</td>\n",
       "      <td>0</td>\n",
       "      <td>0</td>\n",
       "    </tr>\n",
       "    <tr>\n",
       "      <th>882</th>\n",
       "      <td>0</td>\n",
       "      <td>1</td>\n",
       "      <td>0</td>\n",
       "      <td>0</td>\n",
       "      <td>0</td>\n",
       "      <td>0</td>\n",
       "      <td>0</td>\n",
       "      <td>0</td>\n",
       "      <td>0</td>\n",
       "      <td>0</td>\n",
       "      <td>0</td>\n",
       "      <td>0</td>\n",
       "      <td>0</td>\n",
       "      <td>1</td>\n",
       "      <td>0</td>\n",
       "    </tr>\n",
       "    <tr>\n",
       "      <th>883</th>\n",
       "      <td>0</td>\n",
       "      <td>0</td>\n",
       "      <td>0</td>\n",
       "      <td>1</td>\n",
       "      <td>1</td>\n",
       "      <td>0</td>\n",
       "      <td>0</td>\n",
       "      <td>1</td>\n",
       "      <td>0</td>\n",
       "      <td>0</td>\n",
       "      <td>0</td>\n",
       "      <td>0</td>\n",
       "      <td>0</td>\n",
       "      <td>0</td>\n",
       "      <td>1</td>\n",
       "    </tr>\n",
       "    <tr>\n",
       "      <th>884</th>\n",
       "      <td>0</td>\n",
       "      <td>0</td>\n",
       "      <td>0</td>\n",
       "      <td>0</td>\n",
       "      <td>0</td>\n",
       "      <td>0</td>\n",
       "      <td>0</td>\n",
       "      <td>0</td>\n",
       "      <td>0</td>\n",
       "      <td>0</td>\n",
       "      <td>0</td>\n",
       "      <td>0</td>\n",
       "      <td>0</td>\n",
       "      <td>0</td>\n",
       "      <td>1</td>\n",
       "    </tr>\n",
       "    <tr>\n",
       "      <th>885</th>\n",
       "      <td>0</td>\n",
       "      <td>0</td>\n",
       "      <td>0</td>\n",
       "      <td>0</td>\n",
       "      <td>0</td>\n",
       "      <td>0</td>\n",
       "      <td>0</td>\n",
       "      <td>0</td>\n",
       "      <td>0</td>\n",
       "      <td>0</td>\n",
       "      <td>0</td>\n",
       "      <td>1</td>\n",
       "      <td>0</td>\n",
       "      <td>0</td>\n",
       "      <td>1</td>\n",
       "    </tr>\n",
       "  </tbody>\n",
       "</table>\n",
       "<p>886 rows × 15 columns</p>\n",
       "</div>"
      ],
      "text/plain": [
       "     Heavy / Extreme menstrual bleeding  \\\n",
       "0                                     1   \n",
       "1                                     1   \n",
       "2                                     0   \n",
       "3                                     1   \n",
       "4                                     0   \n",
       "..                                  ...   \n",
       "881                                   0   \n",
       "882                                   0   \n",
       "883                                   0   \n",
       "884                                   0   \n",
       "885                                   0   \n",
       "\n",
       "     Painful / Burning pain during sex (Dyspareunia)  \\\n",
       "0                                                  1   \n",
       "1                                                  1   \n",
       "2                                                  0   \n",
       "3                                                  0   \n",
       "4                                                  1   \n",
       "..                                               ...   \n",
       "881                                                0   \n",
       "882                                                1   \n",
       "883                                                0   \n",
       "884                                                0   \n",
       "885                                                0   \n",
       "\n",
       "     Abdominal pain / pressure  Painful bowel movements  Nausea  Infertility  \\\n",
       "0                            1                        1       1            0   \n",
       "1                            1                        1       1            0   \n",
       "2                            0                        0       1            0   \n",
       "3                            1                        0       0            0   \n",
       "4                            0                        1       0            0   \n",
       "..                         ...                      ...     ...          ...   \n",
       "881                          0                        0       0            0   \n",
       "882                          0                        0       0            0   \n",
       "883                          0                        1       1            0   \n",
       "884                          0                        0       0            0   \n",
       "885                          0                        0       0            0   \n",
       "\n",
       "     Diarrhea  Fatigue / Chronic fatigue  Irritable Bowel Syndrome (IBS)  \\\n",
       "0           1                          1                               1   \n",
       "1           1                          0                               0   \n",
       "2           1                          1                               0   \n",
       "3           0                          1                               0   \n",
       "4           1                          1                               1   \n",
       "..        ...                        ...                             ...   \n",
       "881         0                          0                               0   \n",
       "882         0                          0                               0   \n",
       "883         0                          1                               0   \n",
       "884         0                          0                               0   \n",
       "885         0                          0                               0   \n",
       "\n",
       "     Ovarian cysts  IBS-like symptoms  Bloating  Endometriosis  \\\n",
       "0                0                  1         1              1   \n",
       "1                1                  0         0              1   \n",
       "2                0                  1         1              1   \n",
       "3                0                  0         1              1   \n",
       "4                0                  1         0              1   \n",
       "..             ...                ...       ...            ...   \n",
       "881              0                  0         0              0   \n",
       "882              0                  0         0              0   \n",
       "883              0                  0         0              0   \n",
       "884              0                  0         0              0   \n",
       "885              0                  0         1              0   \n",
       "\n",
       "     Painful Periods  Depression / Anxiety  \n",
       "0                  1                     1  \n",
       "1                  1                     0  \n",
       "2                  1                     1  \n",
       "3                  0                     1  \n",
       "4                  1                     1  \n",
       "..               ...                   ...  \n",
       "881                0                     0  \n",
       "882                1                     0  \n",
       "883                0                     1  \n",
       "884                0                     1  \n",
       "885                0                     1  \n",
       "\n",
       "[886 rows x 15 columns]"
      ]
     },
     "execution_count": 4,
     "metadata": {},
     "output_type": "execute_result"
    }
   ],
   "source": [
    "USED_COLUMNS = ['Endometriosis', 'IBS-like symptoms', 'Irritable Bowel Syndrome (IBS)',\n",
    "                'Fatigue / Chronic fatigue', 'Infertility', 'Heavy / Extreme menstrual bleeding',\n",
    "                'Depression', 'Anxiety', 'Painful / Burning pain during sex (Dyspareunia)',\n",
    "                'Menstrual pain (Dysmenorrhea)', 'Painful cramps during period', 'Ovarian cysts',\n",
    "                'Painful bowel movements', 'Diarrhea', 'Nausea', 'Bloating', 'Abdominal pain / pressure']\n",
    "\n",
    "# Note that 'Depression' and 'Anxiety' should be combined in a single column, as should\n",
    "# 'Menstrual pain (Dysmenorrhea)' and 'Painful cramps during period'\n",
    "\n",
    "data = data.drop([col for col in data.columns if col not in USED_COLUMNS], axis=1)\n",
    "\n",
    "data['Painful Periods'] = data[['Menstrual pain (Dysmenorrhea)', 'Painful cramps during period']].max(axis=1)\n",
    "data = data.drop(['Menstrual pain (Dysmenorrhea)', 'Painful cramps during period'], axis=1)\n",
    "\n",
    "data['Depression / Anxiety'] = data[['Depression', 'Anxiety']].max(axis=1)\n",
    "data = data.drop(['Depression', 'Anxiety'], axis=1)\n",
    "\n",
    "data"
   ]
  },
  {
   "cell_type": "code",
   "execution_count": 5,
   "id": "27642b57",
   "metadata": {
    "id": "27642b57"
   },
   "outputs": [],
   "source": [
    "NAME_MAPPING = {\n",
    "    'IBS-like symptoms': 'IBS-like Symptoms', \n",
    "    'Irritable Bowel Syndrome (IBS)': 'IBS',\n",
    "    'Fatigue / Chronic fatigue': 'Chronic Fatigue',\n",
    "    'Heavy / Extreme menstrual bleeding': 'Heavy Menstrual Bleeding',\n",
    "    'Painful / Burning pain during sex (Dyspareunia)': 'Pain During Intercourse',\n",
    "    'Ovarian cysts': 'Ovarian Cysts',\n",
    "    'Painful bowel movements': 'Painful Bowel Movements',\n",
    "    'Abdominal pain / pressure': 'Abdominal Cramps'   \n",
    "}\n",
    "data.rename(columns=NAME_MAPPING, inplace=True)"
   ]
  },
  {
   "cell_type": "code",
   "execution_count": 6,
   "id": "6b5db507",
   "metadata": {
    "colab": {
     "base_uri": "https://localhost:8080/",
     "height": 453
    },
    "id": "6b5db507",
    "outputId": "b6aaeeb7-5177-412f-9393-251ba24258a4"
   },
   "outputs": [
    {
     "data": {
      "text/html": [
       "<div>\n",
       "<style scoped>\n",
       "    .dataframe tbody tr th:only-of-type {\n",
       "        vertical-align: middle;\n",
       "    }\n",
       "\n",
       "    .dataframe tbody tr th {\n",
       "        vertical-align: top;\n",
       "    }\n",
       "\n",
       "    .dataframe thead th {\n",
       "        text-align: right;\n",
       "    }\n",
       "</style>\n",
       "<table border=\"1\" class=\"dataframe\">\n",
       "  <thead>\n",
       "    <tr style=\"text-align: right;\">\n",
       "      <th></th>\n",
       "      <th>Heavy Menstrual Bleeding</th>\n",
       "      <th>Pain During Intercourse</th>\n",
       "      <th>Abdominal Cramps</th>\n",
       "      <th>Painful Bowel Movements</th>\n",
       "      <th>Nausea</th>\n",
       "      <th>Infertility</th>\n",
       "      <th>Diarrhea</th>\n",
       "      <th>Chronic Fatigue</th>\n",
       "      <th>IBS</th>\n",
       "      <th>Ovarian Cysts</th>\n",
       "      <th>IBS-like Symptoms</th>\n",
       "      <th>Bloating</th>\n",
       "      <th>Endometriosis</th>\n",
       "      <th>Painful Periods</th>\n",
       "      <th>Depression / Anxiety</th>\n",
       "    </tr>\n",
       "  </thead>\n",
       "  <tbody>\n",
       "    <tr>\n",
       "      <th>0</th>\n",
       "      <td>True</td>\n",
       "      <td>True</td>\n",
       "      <td>True</td>\n",
       "      <td>True</td>\n",
       "      <td>True</td>\n",
       "      <td>False</td>\n",
       "      <td>True</td>\n",
       "      <td>True</td>\n",
       "      <td>True</td>\n",
       "      <td>False</td>\n",
       "      <td>True</td>\n",
       "      <td>True</td>\n",
       "      <td>True</td>\n",
       "      <td>True</td>\n",
       "      <td>True</td>\n",
       "    </tr>\n",
       "    <tr>\n",
       "      <th>1</th>\n",
       "      <td>True</td>\n",
       "      <td>True</td>\n",
       "      <td>True</td>\n",
       "      <td>True</td>\n",
       "      <td>True</td>\n",
       "      <td>False</td>\n",
       "      <td>True</td>\n",
       "      <td>False</td>\n",
       "      <td>False</td>\n",
       "      <td>True</td>\n",
       "      <td>False</td>\n",
       "      <td>False</td>\n",
       "      <td>True</td>\n",
       "      <td>True</td>\n",
       "      <td>False</td>\n",
       "    </tr>\n",
       "    <tr>\n",
       "      <th>2</th>\n",
       "      <td>False</td>\n",
       "      <td>False</td>\n",
       "      <td>False</td>\n",
       "      <td>False</td>\n",
       "      <td>True</td>\n",
       "      <td>False</td>\n",
       "      <td>True</td>\n",
       "      <td>True</td>\n",
       "      <td>False</td>\n",
       "      <td>False</td>\n",
       "      <td>True</td>\n",
       "      <td>True</td>\n",
       "      <td>True</td>\n",
       "      <td>True</td>\n",
       "      <td>True</td>\n",
       "    </tr>\n",
       "    <tr>\n",
       "      <th>3</th>\n",
       "      <td>True</td>\n",
       "      <td>False</td>\n",
       "      <td>True</td>\n",
       "      <td>False</td>\n",
       "      <td>False</td>\n",
       "      <td>False</td>\n",
       "      <td>False</td>\n",
       "      <td>True</td>\n",
       "      <td>False</td>\n",
       "      <td>False</td>\n",
       "      <td>False</td>\n",
       "      <td>True</td>\n",
       "      <td>True</td>\n",
       "      <td>False</td>\n",
       "      <td>True</td>\n",
       "    </tr>\n",
       "    <tr>\n",
       "      <th>4</th>\n",
       "      <td>False</td>\n",
       "      <td>True</td>\n",
       "      <td>False</td>\n",
       "      <td>True</td>\n",
       "      <td>False</td>\n",
       "      <td>False</td>\n",
       "      <td>True</td>\n",
       "      <td>True</td>\n",
       "      <td>True</td>\n",
       "      <td>False</td>\n",
       "      <td>True</td>\n",
       "      <td>False</td>\n",
       "      <td>True</td>\n",
       "      <td>True</td>\n",
       "      <td>True</td>\n",
       "    </tr>\n",
       "    <tr>\n",
       "      <th>...</th>\n",
       "      <td>...</td>\n",
       "      <td>...</td>\n",
       "      <td>...</td>\n",
       "      <td>...</td>\n",
       "      <td>...</td>\n",
       "      <td>...</td>\n",
       "      <td>...</td>\n",
       "      <td>...</td>\n",
       "      <td>...</td>\n",
       "      <td>...</td>\n",
       "      <td>...</td>\n",
       "      <td>...</td>\n",
       "      <td>...</td>\n",
       "      <td>...</td>\n",
       "      <td>...</td>\n",
       "    </tr>\n",
       "    <tr>\n",
       "      <th>881</th>\n",
       "      <td>False</td>\n",
       "      <td>False</td>\n",
       "      <td>False</td>\n",
       "      <td>False</td>\n",
       "      <td>False</td>\n",
       "      <td>False</td>\n",
       "      <td>False</td>\n",
       "      <td>False</td>\n",
       "      <td>False</td>\n",
       "      <td>False</td>\n",
       "      <td>False</td>\n",
       "      <td>False</td>\n",
       "      <td>False</td>\n",
       "      <td>False</td>\n",
       "      <td>False</td>\n",
       "    </tr>\n",
       "    <tr>\n",
       "      <th>882</th>\n",
       "      <td>False</td>\n",
       "      <td>True</td>\n",
       "      <td>False</td>\n",
       "      <td>False</td>\n",
       "      <td>False</td>\n",
       "      <td>False</td>\n",
       "      <td>False</td>\n",
       "      <td>False</td>\n",
       "      <td>False</td>\n",
       "      <td>False</td>\n",
       "      <td>False</td>\n",
       "      <td>False</td>\n",
       "      <td>False</td>\n",
       "      <td>True</td>\n",
       "      <td>False</td>\n",
       "    </tr>\n",
       "    <tr>\n",
       "      <th>883</th>\n",
       "      <td>False</td>\n",
       "      <td>False</td>\n",
       "      <td>False</td>\n",
       "      <td>True</td>\n",
       "      <td>True</td>\n",
       "      <td>False</td>\n",
       "      <td>False</td>\n",
       "      <td>True</td>\n",
       "      <td>False</td>\n",
       "      <td>False</td>\n",
       "      <td>False</td>\n",
       "      <td>False</td>\n",
       "      <td>False</td>\n",
       "      <td>False</td>\n",
       "      <td>True</td>\n",
       "    </tr>\n",
       "    <tr>\n",
       "      <th>884</th>\n",
       "      <td>False</td>\n",
       "      <td>False</td>\n",
       "      <td>False</td>\n",
       "      <td>False</td>\n",
       "      <td>False</td>\n",
       "      <td>False</td>\n",
       "      <td>False</td>\n",
       "      <td>False</td>\n",
       "      <td>False</td>\n",
       "      <td>False</td>\n",
       "      <td>False</td>\n",
       "      <td>False</td>\n",
       "      <td>False</td>\n",
       "      <td>False</td>\n",
       "      <td>True</td>\n",
       "    </tr>\n",
       "    <tr>\n",
       "      <th>885</th>\n",
       "      <td>False</td>\n",
       "      <td>False</td>\n",
       "      <td>False</td>\n",
       "      <td>False</td>\n",
       "      <td>False</td>\n",
       "      <td>False</td>\n",
       "      <td>False</td>\n",
       "      <td>False</td>\n",
       "      <td>False</td>\n",
       "      <td>False</td>\n",
       "      <td>False</td>\n",
       "      <td>True</td>\n",
       "      <td>False</td>\n",
       "      <td>False</td>\n",
       "      <td>True</td>\n",
       "    </tr>\n",
       "  </tbody>\n",
       "</table>\n",
       "<p>886 rows × 15 columns</p>\n",
       "</div>"
      ],
      "text/plain": [
       "     Heavy Menstrual Bleeding  Pain During Intercourse  Abdominal Cramps  \\\n",
       "0                        True                     True              True   \n",
       "1                        True                     True              True   \n",
       "2                       False                    False             False   \n",
       "3                        True                    False              True   \n",
       "4                       False                     True             False   \n",
       "..                        ...                      ...               ...   \n",
       "881                     False                    False             False   \n",
       "882                     False                     True             False   \n",
       "883                     False                    False             False   \n",
       "884                     False                    False             False   \n",
       "885                     False                    False             False   \n",
       "\n",
       "     Painful Bowel Movements  Nausea  Infertility  Diarrhea  Chronic Fatigue  \\\n",
       "0                       True    True        False      True             True   \n",
       "1                       True    True        False      True            False   \n",
       "2                      False    True        False      True             True   \n",
       "3                      False   False        False     False             True   \n",
       "4                       True   False        False      True             True   \n",
       "..                       ...     ...          ...       ...              ...   \n",
       "881                    False   False        False     False            False   \n",
       "882                    False   False        False     False            False   \n",
       "883                     True    True        False     False             True   \n",
       "884                    False   False        False     False            False   \n",
       "885                    False   False        False     False            False   \n",
       "\n",
       "       IBS  Ovarian Cysts  IBS-like Symptoms  Bloating  Endometriosis  \\\n",
       "0     True          False               True      True           True   \n",
       "1    False           True              False     False           True   \n",
       "2    False          False               True      True           True   \n",
       "3    False          False              False      True           True   \n",
       "4     True          False               True     False           True   \n",
       "..     ...            ...                ...       ...            ...   \n",
       "881  False          False              False     False          False   \n",
       "882  False          False              False     False          False   \n",
       "883  False          False              False     False          False   \n",
       "884  False          False              False     False          False   \n",
       "885  False          False              False      True          False   \n",
       "\n",
       "     Painful Periods  Depression / Anxiety  \n",
       "0               True                  True  \n",
       "1               True                 False  \n",
       "2               True                  True  \n",
       "3              False                  True  \n",
       "4               True                  True  \n",
       "..               ...                   ...  \n",
       "881            False                 False  \n",
       "882             True                 False  \n",
       "883            False                  True  \n",
       "884            False                  True  \n",
       "885            False                  True  \n",
       "\n",
       "[886 rows x 15 columns]"
      ]
     },
     "execution_count": 6,
     "metadata": {},
     "output_type": "execute_result"
    }
   ],
   "source": [
    "# Now for a more immediate understanding of the data let's turn all these \n",
    "# numeric columns into boolean ones. This will make the plots of the \n",
    "# following cells easier to interpret at first glance\n",
    "\n",
    "data_bool = data.copy()\n",
    "for col in data.columns:\n",
    "    data_bool[col] = data[col].apply(lambda x: True if x > 0 else False)\n",
    "\n",
    "data_bool"
   ]
  },
  {
   "cell_type": "code",
   "execution_count": 7,
   "id": "f9ff8f2c",
   "metadata": {
    "colab": {
     "base_uri": "https://localhost:8080/"
    },
    "id": "f9ff8f2c",
    "outputId": "e1d6b075-615c-4595-ebbf-ff6aee4f7348"
   },
   "outputs": [
    {
     "data": {
      "text/plain": [
       "Heavy Menstrual Bleeding    bool\n",
       "Pain During Intercourse     bool\n",
       "Abdominal Cramps            bool\n",
       "Painful Bowel Movements     bool\n",
       "Nausea                      bool\n",
       "Infertility                 bool\n",
       "Diarrhea                    bool\n",
       "Chronic Fatigue             bool\n",
       "IBS                         bool\n",
       "Ovarian Cysts               bool\n",
       "IBS-like Symptoms           bool\n",
       "Bloating                    bool\n",
       "Endometriosis               bool\n",
       "Painful Periods             bool\n",
       "Depression / Anxiety        bool\n",
       "dtype: object"
      ]
     },
     "execution_count": 7,
     "metadata": {},
     "output_type": "execute_result"
    }
   ],
   "source": [
    "data_bool.dtypes"
   ]
  },
  {
   "cell_type": "code",
   "execution_count": 8,
   "id": "4f558d2d",
   "metadata": {
    "colab": {
     "base_uri": "https://localhost:8080/",
     "height": 766
    },
    "id": "4f558d2d",
    "outputId": "4979ab41-cca3-4d0b-ecca-f339336de05b"
   },
   "outputs": [
    {
     "data": {
      "image/png": "[encoded data removed]",
      "text/plain": [
       "<Figure size 936x792 with 2 Axes>"
      ]
     },
     "metadata": {
      "needs_background": "light"
     },
     "output_type": "display_data"
    }
   ],
   "source": [
    "# Correlation matrix between columns and plots of each column value with \n",
    "# respect to 'Endometriosis'\n",
    "\n",
    "plt.figure(figsize=(13,11))\n",
    "corr = data_bool.corr(method='pearson')\n",
    "mask = np.triu(np.ones_like(corr, dtype=bool))\n",
    "plt.title('Diagonal Correlation Plot')\n",
    "sns.heatmap(corr, \n",
    "            mask=mask, \n",
    "            annot=True, \n",
    "            cmap=sns.diverging_palette(230, 20, as_cmap=True),   \n",
    "            square = True,                                 \n",
    "            linewidths = 1.5,\n",
    "            cbar_kws = {\"shrink\": .8});"
   ]
  },
  {
   "cell_type": "code",
   "execution_count": 12,
   "id": "292d9818",
   "metadata": {
    "colab": {
     "base_uri": "https://localhost:8080/",
     "height": 1000
    },
    "id": "292d9818",
    "outputId": "df93882a-d842-48c5-e10c-06f062c8010b"
   },
   "outputs": [
    {
     "data": {
      "image/png": "[encoded data removed]",
      "text/plain": [
       "<Figure size 1008x2160 with 15 Axes>"
      ]
     },
     "metadata": {
      "needs_background": "light"
     },
     "output_type": "display_data"
    }
   ],
   "source": [
    "_, axes = plt.subplots(nrows=5, ncols=3, figsize=(14, 30), sharey=True)\n",
    "axes = [axis for subl in axes for axis in subl]\n",
    "for col, ax in zip(data_bool.columns, axes):\n",
    "    if col != 'Endometriosis':\n",
    "        sns.countplot(x=col, hue=\"Endometriosis\", data=data_bool, ax=ax, palette = \"Set2\")\n",
    "    else:\n",
    "        sns.countplot(x=col, data=data_bool, ax=ax, palette = \"Set2\")"
   ]
  },
  {
   "cell_type": "markdown",
   "id": "Vegb1rRjEE9R",
   "metadata": {
    "id": "Vegb1rRjEE9R"
   },
   "source": [
    "## **Network Structure and Parameter Learning**\n",
    "In addition to the nodes representing symptoms and comorbidities we introduced above, we also decided to include two common risk factors for Endometriosis, namely Family History and Invasive Pelvic Procedure. Note that they were not included in our dataset and there was no way to derive them from the other columns in the DataFrame, thus they had to be treated as latent variables. However, using some previous literature (specifically [], [] and []) we were able to get some prior probabilities for them, which we'll employ when estimating the network's parameters."
   ]
  },
  {
   "cell_type": "markdown",
   "id": "GbuGEyGcEMMf",
   "metadata": {
    "id": "GbuGEyGcEMMf"
   },
   "source": [
    "### **Network structure**\n",
    "As shown in [], we used medical idioms in order to guide the structure of our bayesian model, producing a couple of different architectures which we'll now show and analyze. The initial proposed network is shown below."
   ]
  },
  {
   "cell_type": "code",
   "execution_count": 13,
   "id": "dbeb625b",
   "metadata": {
    "id": "dbeb625b"
   },
   "outputs": [],
   "source": [
    "RISK_FACTORS = ['Family History', \n",
    "                'Invasive Pelvic Procedure']\n",
    "SYMPTOMS = ['Painful Bowel Movements', \n",
    "            'Diarrhea', 'Nausea', \n",
    "            'Bloating', \n",
    "            'Abdominal Cramps', \n",
    "            'IBS-like Symptoms', \n",
    "            'Heavy Menstrual Bleeding', \n",
    "            'Pain During Intercourse', \n",
    "            'Painful Periods']\n",
    "\n",
    "def visualize_network(model, filename='../figures/final_network.html'):\n",
    "    \"\"\"\n",
    "    Create a pyvis visualization of the given model, save it to filename and then\n",
    "    display it using IPython.display.HTML.\n",
    "\n",
    "    \"\"\"\n",
    "    net = Network(directed=True, notebook=True, layout=True, width=960)\n",
    "    nodes = endobayes.nodes()\n",
    "    edges = endobayes.edges()\n",
    "\n",
    "    node_levels = [1 if node in RISK_FACTORS else \n",
    "                  2 if node == 'Endometriosis' else 4 \n",
    "                  if node in ['Painful Bowel Movements', 'Diarrhea', 'Nausea', 'Bloating', 'Abdominal Cramps'] \n",
    "                  else 3 for node in nodes]\n",
    "    node_colors = ['#f4cccc' if node == 'Endometriosis' else \n",
    "                  '#fffaed' if node in RISK_FACTORS else \n",
    "                  '#cfe2f3' if node in SYMPTOMS \n",
    "                  else '#d9d2e9' for node in nodes]\n",
    "\n",
    "    for node, level, color in zip(nodes, node_levels, node_colors):\n",
    "        net.add_node(node, level=level, color=color)\n",
    "\n",
    "    net.add_edges(edges)\n",
    "\n",
    "    net.set_options(\"\"\"\n",
    "    var options = {\n",
    "      \"edges\": {\n",
    "        \"color\": {\n",
    "          \"inherit\": false\n",
    "        },\n",
    "        \"smooth\": false\n",
    "      },\n",
    "      \"layout\": {\n",
    "        \"hierarchical\": {\n",
    "          \"enabled\": true\n",
    "        }\n",
    "      },\n",
    "      \"physics\": {\n",
    "        \"hierarchicalRepulsion\": {\n",
    "          \"centralGravity\": 0,\n",
    "          \"nodeDistance\": 160\n",
    "        },\n",
    "        \"minVelocity\": 0.75,\n",
    "        \"solver\": \"hierarchicalRepulsion\"\n",
    "      }\n",
    "    }\n",
    "    \"\"\") \n",
    "    net.show(filename)\n",
    "    display(ipd.HTML(filename=filename))"
   ]
  },
  {
   "cell_type": "code",
   "execution_count": 14,
   "id": "04088349",
   "metadata": {
    "colab": {
     "base_uri": "https://localhost:8080/",
     "height": 538
    },
    "id": "04088349",
    "outputId": "27ee6d5b-f319-4cf9-a4ee-5bdf35702c72"
   },
   "outputs": [
    {
     "data": {
      "text/html": [
       "<html>\n",
       "<head>\n",
       "<link rel=\"stylesheet\" href=\"https://cdnjs.cloudflare.com/ajax/libs/vis/4.16.1/vis.css\" type=\"text/css\" />\n",
       "<script type=\"text/javascript\" src=\"https://cdnjs.cloudflare.com/ajax/libs/vis/4.16.1/vis-network.min.js\"> </script>\n",
       "<center>\n",
       "<h1></h1>\n",
       "</center>\n",
       "\n",
       "<!-- <link rel=\"stylesheet\" href=\"../node_modules/vis/dist/vis.min.css\" type=\"text/css\" />\n",
       "<script type=\"text/javascript\" src=\"../node_modules/vis/dist/vis.js\"> </script>-->\n",
       "\n",
       "<style type=\"text/css\">\n",
       "\n",
       "        #mynetwork {\n",
       "            width: 960;\n",
       "            height: 500px;\n",
       "            background-color: #ffffff;\n",
       "            border: 1px solid lightgray;\n",
       "            position: relative;\n",
       "            float: left;\n",
       "        }\n",
       "\n",
       "        \n",
       "\n",
       "        \n",
       "\n",
       "        \n",
       "</style>\n",
       "\n",
       "</head>\n",
       "\n",
       "<body>\n",
       "<div id = \"mynetwork\"></div>\n",
       "\n",
       "\n",
       "<script type=\"text/javascript\">\n",
       "\n",
       "    // initialize global variables.\n",
       "    var edges;\n",
       "    var nodes;\n",
       "    var network; \n",
       "    var container;\n",
       "    var options, data;\n",
       "\n",
       "    \n",
       "    // This method is responsible for drawing the graph, returns the drawn network\n",
       "    function drawGraph() {\n",
       "        var container = document.getElementById('mynetwork');\n",
       "        \n",
       "        \n",
       "\n",
       "        // parsing and collecting nodes and edges from the python\n",
       "        nodes = new vis.DataSet([{\"color\": \"#fffaed\", \"id\": \"Family History\", \"label\": \"Family History\", \"level\": 1, \"shape\": \"dot\"}, {\"color\": \"#f4cccc\", \"id\": \"Endometriosis\", \"label\": \"Endometriosis\", \"level\": 2, \"shape\": \"dot\"}, {\"color\": \"#fffaed\", \"id\": \"Invasive Pelvic Procedure\", \"label\": \"Invasive Pelvic Procedure\", \"level\": 1, \"shape\": \"dot\"}, {\"color\": \"#cfe2f3\", \"id\": \"IBS-like Symptoms\", \"label\": \"IBS-like Symptoms\", \"level\": 3, \"shape\": \"dot\"}, {\"color\": \"#d9d2e9\", \"id\": \"IBS\", \"label\": \"IBS\", \"level\": 3, \"shape\": \"dot\"}, {\"color\": \"#d9d2e9\", \"id\": \"Infertility\", \"label\": \"Infertility\", \"level\": 3, \"shape\": \"dot\"}, {\"color\": \"#d9d2e9\", \"id\": \"Chronic Fatigue\", \"label\": \"Chronic Fatigue\", \"level\": 3, \"shape\": \"dot\"}, {\"color\": \"#cfe2f3\", \"id\": \"Heavy Menstrual Bleeding\", \"label\": \"Heavy Menstrual Bleeding\", \"level\": 3, \"shape\": \"dot\"}, {\"color\": \"#d9d2e9\", \"id\": \"Depression / Anxiety\", \"label\": \"Depression / Anxiety\", \"level\": 3, \"shape\": \"dot\"}, {\"color\": \"#cfe2f3\", \"id\": \"Pain During Intercourse\", \"label\": \"Pain During Intercourse\", \"level\": 3, \"shape\": \"dot\"}, {\"color\": \"#cfe2f3\", \"id\": \"Painful Periods\", \"label\": \"Painful Periods\", \"level\": 3, \"shape\": \"dot\"}, {\"color\": \"#d9d2e9\", \"id\": \"Ovarian Cysts\", \"label\": \"Ovarian Cysts\", \"level\": 3, \"shape\": \"dot\"}, {\"color\": \"#cfe2f3\", \"id\": \"Painful Bowel Movements\", \"label\": \"Painful Bowel Movements\", \"level\": 4, \"shape\": \"dot\"}, {\"color\": \"#cfe2f3\", \"id\": \"Diarrhea\", \"label\": \"Diarrhea\", \"level\": 4, \"shape\": \"dot\"}, {\"color\": \"#cfe2f3\", \"id\": \"Nausea\", \"label\": \"Nausea\", \"level\": 4, \"shape\": \"dot\"}, {\"color\": \"#cfe2f3\", \"id\": \"Bloating\", \"label\": \"Bloating\", \"level\": 4, \"shape\": \"dot\"}, {\"color\": \"#cfe2f3\", \"id\": \"Abdominal Cramps\", \"label\": \"Abdominal Cramps\", \"level\": 4, \"shape\": \"dot\"}]);\n",
       "        edges = new vis.DataSet([{\"arrows\": \"to\", \"from\": \"Family History\", \"to\": \"Endometriosis\"}, {\"arrows\": \"to\", \"from\": \"Endometriosis\", \"to\": \"IBS-like Symptoms\"}, {\"arrows\": \"to\", \"from\": \"Endometriosis\", \"to\": \"IBS\"}, {\"arrows\": \"to\", \"from\": \"Endometriosis\", \"to\": \"Infertility\"}, {\"arrows\": \"to\", \"from\": \"Endometriosis\", \"to\": \"Chronic Fatigue\"}, {\"arrows\": \"to\", \"from\": \"Endometriosis\", \"to\": \"Heavy Menstrual Bleeding\"}, {\"arrows\": \"to\", \"from\": \"Endometriosis\", \"to\": \"Depression / Anxiety\"}, {\"arrows\": \"to\", \"from\": \"Endometriosis\", \"to\": \"Pain During Intercourse\"}, {\"arrows\": \"to\", \"from\": \"Endometriosis\", \"to\": \"Painful Periods\"}, {\"arrows\": \"to\", \"from\": \"Endometriosis\", \"to\": \"Ovarian Cysts\"}, {\"arrows\": \"to\", \"from\": \"Invasive Pelvic Procedure\", \"to\": \"Endometriosis\"}, {\"arrows\": \"to\", \"from\": \"IBS-like Symptoms\", \"to\": \"Painful Bowel Movements\"}, {\"arrows\": \"to\", \"from\": \"IBS-like Symptoms\", \"to\": \"Diarrhea\"}, {\"arrows\": \"to\", \"from\": \"IBS-like Symptoms\", \"to\": \"Nausea\"}, {\"arrows\": \"to\", \"from\": \"IBS-like Symptoms\", \"to\": \"Bloating\"}, {\"arrows\": \"to\", \"from\": \"IBS-like Symptoms\", \"to\": \"Abdominal Cramps\"}, {\"arrows\": \"to\", \"from\": \"IBS\", \"to\": \"Painful Bowel Movements\"}, {\"arrows\": \"to\", \"from\": \"IBS\", \"to\": \"Diarrhea\"}, {\"arrows\": \"to\", \"from\": \"IBS\", \"to\": \"Nausea\"}, {\"arrows\": \"to\", \"from\": \"IBS\", \"to\": \"Bloating\"}, {\"arrows\": \"to\", \"from\": \"IBS\", \"to\": \"Abdominal Cramps\"}]);\n",
       "\n",
       "        // adding nodes and edges to the graph\n",
       "        data = {nodes: nodes, edges: edges};\n",
       "\n",
       "        var options = {\"edges\": {\"color\": {\"inherit\": false}, \"smooth\": false}, \"layout\": {\"hierarchical\": {\"enabled\": true}}, \"physics\": {\"hierarchicalRepulsion\": {\"centralGravity\": 0, \"nodeDistance\": 160}, \"minVelocity\": 0.75, \"solver\": \"hierarchicalRepulsion\"}};\n",
       "        \n",
       "        \n",
       "\n",
       "        \n",
       "\n",
       "        network = new vis.Network(container, data, options);\n",
       "\t \n",
       "        \n",
       "\n",
       "\n",
       "        \n",
       "\n",
       "        return network;\n",
       "\n",
       "    }\n",
       "\n",
       "    drawGraph();\n",
       "\n",
       "</script>\n",
       "</body>\n",
       "</html>"
      ],
      "text/plain": [
       "<IPython.core.display.HTML object>"
      ]
     },
     "metadata": {},
     "output_type": "display_data"
    }
   ],
   "source": [
    "endobayes = BayesianModel([\n",
    "    ('Family History', 'Endometriosis'),\n",
    "    ('Invasive Pelvic Procedure', 'Endometriosis'),\n",
    "    ('Endometriosis', 'IBS-like Symptoms'),\n",
    "    ('Endometriosis', 'IBS'),\n",
    "    ('Endometriosis', 'Infertility'),\n",
    "    ('Endometriosis', 'Chronic Fatigue'),\n",
    "    ('Endometriosis', 'Heavy Menstrual Bleeding'),\n",
    "    ('Endometriosis', 'Depression / Anxiety'),\n",
    "    ('Endometriosis', 'Pain During Intercourse'),\n",
    "    ('Endometriosis', 'Painful Periods'),\n",
    "    ('Endometriosis', 'Ovarian Cysts'),\n",
    "    ('IBS-like Symptoms', 'Painful Bowel Movements'),\n",
    "    ('IBS-like Symptoms', 'Diarrhea'),\n",
    "    ('IBS-like Symptoms', 'Nausea'),\n",
    "    ('IBS-like Symptoms', 'Bloating'),\n",
    "    ('IBS-like Symptoms', 'Abdominal Cramps'),\n",
    "    ('IBS', 'Painful Bowel Movements'),\n",
    "    ('IBS', 'Diarrhea'),\n",
    "    ('IBS', 'Nausea'),\n",
    "    ('IBS', 'Bloating'),\n",
    "    ('IBS', 'Abdominal Cramps')\n",
    "    ], latents={'Family History', 'Invasive Pelvic Procedure'}\n",
    ")\n",
    "\n",
    "visualize_network(endobayes, filename='../figures/first_model.html')"
   ]
  },
  {
   "cell_type": "markdown",
   "id": "NYsjIHMzSZi7",
   "metadata": {
    "id": "NYsjIHMzSZi7"
   },
   "source": [
    "As we can see, in the above model, some V-structures are present between `IBS-like Symptoms`, `IBS` and each of their five common children (`Nuasea`, `Painful Bowel Movements`, `Diarrhea`, `Bloating` and `Abdominal Cramps`), which means that we are considering `IBS` and `IBS-like Symptoms` to be mutually independent - an assumption that doesn't really relfect our reality. Due to this observation, we decided to propose another network structure, which is shown below:"
   ]
  },
  {
   "cell_type": "code",
   "execution_count": 15,
   "id": "KCBMRMzRUepj",
   "metadata": {
    "colab": {
     "base_uri": "https://localhost:8080/",
     "height": 538
    },
    "id": "KCBMRMzRUepj",
    "outputId": "1b8b32a2-0658-4701-c3f6-ca326b71e6cc"
   },
   "outputs": [
    {
     "data": {
      "text/html": [
       "<html>\n",
       "<head>\n",
       "<link rel=\"stylesheet\" href=\"https://cdnjs.cloudflare.com/ajax/libs/vis/4.16.1/vis.css\" type=\"text/css\" />\n",
       "<script type=\"text/javascript\" src=\"https://cdnjs.cloudflare.com/ajax/libs/vis/4.16.1/vis-network.min.js\"> </script>\n",
       "<center>\n",
       "<h1></h1>\n",
       "</center>\n",
       "\n",
       "<!-- <link rel=\"stylesheet\" href=\"../node_modules/vis/dist/vis.min.css\" type=\"text/css\" />\n",
       "<script type=\"text/javascript\" src=\"../node_modules/vis/dist/vis.js\"> </script>-->\n",
       "\n",
       "<style type=\"text/css\">\n",
       "\n",
       "        #mynetwork {\n",
       "            width: 960;\n",
       "            height: 500px;\n",
       "            background-color: #ffffff;\n",
       "            border: 1px solid lightgray;\n",
       "            position: relative;\n",
       "            float: left;\n",
       "        }\n",
       "\n",
       "        \n",
       "\n",
       "        \n",
       "\n",
       "        \n",
       "</style>\n",
       "\n",
       "</head>\n",
       "\n",
       "<body>\n",
       "<div id = \"mynetwork\"></div>\n",
       "\n",
       "\n",
       "<script type=\"text/javascript\">\n",
       "\n",
       "    // initialize global variables.\n",
       "    var edges;\n",
       "    var nodes;\n",
       "    var network; \n",
       "    var container;\n",
       "    var options, data;\n",
       "\n",
       "    \n",
       "    // This method is responsible for drawing the graph, returns the drawn network\n",
       "    function drawGraph() {\n",
       "        var container = document.getElementById('mynetwork');\n",
       "        \n",
       "        \n",
       "\n",
       "        // parsing and collecting nodes and edges from the python\n",
       "        nodes = new vis.DataSet([{\"color\": \"#fffaed\", \"id\": \"Family History\", \"label\": \"Family History\", \"level\": 1, \"shape\": \"dot\"}, {\"color\": \"#f4cccc\", \"id\": \"Endometriosis\", \"label\": \"Endometriosis\", \"level\": 2, \"shape\": \"dot\"}, {\"color\": \"#fffaed\", \"id\": \"Invasive Pelvic Procedure\", \"label\": \"Invasive Pelvic Procedure\", \"level\": 1, \"shape\": \"dot\"}, {\"color\": \"#cfe2f3\", \"id\": \"IBS-like Symptoms\", \"label\": \"IBS-like Symptoms\", \"level\": 3, \"shape\": \"dot\"}, {\"color\": \"#d9d2e9\", \"id\": \"IBS\", \"label\": \"IBS\", \"level\": 3, \"shape\": \"dot\"}, {\"color\": \"#d9d2e9\", \"id\": \"Infertility\", \"label\": \"Infertility\", \"level\": 3, \"shape\": \"dot\"}, {\"color\": \"#d9d2e9\", \"id\": \"Chronic Fatigue\", \"label\": \"Chronic Fatigue\", \"level\": 3, \"shape\": \"dot\"}, {\"color\": \"#cfe2f3\", \"id\": \"Heavy Menstrual Bleeding\", \"label\": \"Heavy Menstrual Bleeding\", \"level\": 3, \"shape\": \"dot\"}, {\"color\": \"#d9d2e9\", \"id\": \"Depression / Anxiety\", \"label\": \"Depression / Anxiety\", \"level\": 3, \"shape\": \"dot\"}, {\"color\": \"#cfe2f3\", \"id\": \"Pain During Intercourse\", \"label\": \"Pain During Intercourse\", \"level\": 3, \"shape\": \"dot\"}, {\"color\": \"#cfe2f3\", \"id\": \"Painful Periods\", \"label\": \"Painful Periods\", \"level\": 3, \"shape\": \"dot\"}, {\"color\": \"#d9d2e9\", \"id\": \"Ovarian Cysts\", \"label\": \"Ovarian Cysts\", \"level\": 3, \"shape\": \"dot\"}, {\"color\": \"#cfe2f3\", \"id\": \"Painful Bowel Movements\", \"label\": \"Painful Bowel Movements\", \"level\": 4, \"shape\": \"dot\"}, {\"color\": \"#cfe2f3\", \"id\": \"Diarrhea\", \"label\": \"Diarrhea\", \"level\": 4, \"shape\": \"dot\"}, {\"color\": \"#cfe2f3\", \"id\": \"Nausea\", \"label\": \"Nausea\", \"level\": 4, \"shape\": \"dot\"}, {\"color\": \"#cfe2f3\", \"id\": \"Bloating\", \"label\": \"Bloating\", \"level\": 4, \"shape\": \"dot\"}, {\"color\": \"#cfe2f3\", \"id\": \"Abdominal Cramps\", \"label\": \"Abdominal Cramps\", \"level\": 4, \"shape\": \"dot\"}]);\n",
       "        edges = new vis.DataSet([{\"arrows\": \"to\", \"from\": \"Family History\", \"to\": \"Endometriosis\"}, {\"arrows\": \"to\", \"from\": \"Endometriosis\", \"to\": \"IBS-like Symptoms\"}, {\"arrows\": \"to\", \"from\": \"Endometriosis\", \"to\": \"IBS\"}, {\"arrows\": \"to\", \"from\": \"Endometriosis\", \"to\": \"Infertility\"}, {\"arrows\": \"to\", \"from\": \"Endometriosis\", \"to\": \"Chronic Fatigue\"}, {\"arrows\": \"to\", \"from\": \"Endometriosis\", \"to\": \"Heavy Menstrual Bleeding\"}, {\"arrows\": \"to\", \"from\": \"Endometriosis\", \"to\": \"Depression / Anxiety\"}, {\"arrows\": \"to\", \"from\": \"Endometriosis\", \"to\": \"Pain During Intercourse\"}, {\"arrows\": \"to\", \"from\": \"Endometriosis\", \"to\": \"Painful Periods\"}, {\"arrows\": \"to\", \"from\": \"Endometriosis\", \"to\": \"Ovarian Cysts\"}, {\"arrows\": \"to\", \"from\": \"Invasive Pelvic Procedure\", \"to\": \"Endometriosis\"}, {\"arrows\": \"to\", \"from\": \"IBS-like Symptoms\", \"to\": \"Painful Bowel Movements\"}, {\"arrows\": \"to\", \"from\": \"IBS-like Symptoms\", \"to\": \"Diarrhea\"}, {\"arrows\": \"to\", \"from\": \"IBS-like Symptoms\", \"to\": \"Nausea\"}, {\"arrows\": \"to\", \"from\": \"IBS-like Symptoms\", \"to\": \"Bloating\"}, {\"arrows\": \"to\", \"from\": \"IBS-like Symptoms\", \"to\": \"Abdominal Cramps\"}, {\"arrows\": \"to\", \"from\": \"IBS\", \"to\": \"IBS-like Symptoms\"}]);\n",
       "\n",
       "        // adding nodes and edges to the graph\n",
       "        data = {nodes: nodes, edges: edges};\n",
       "\n",
       "        var options = {\"edges\": {\"color\": {\"inherit\": false}, \"smooth\": false}, \"layout\": {\"hierarchical\": {\"enabled\": true}}, \"physics\": {\"hierarchicalRepulsion\": {\"centralGravity\": 0, \"nodeDistance\": 160}, \"minVelocity\": 0.75, \"solver\": \"hierarchicalRepulsion\"}};\n",
       "        \n",
       "        \n",
       "\n",
       "        \n",
       "\n",
       "        network = new vis.Network(container, data, options);\n",
       "\t \n",
       "        \n",
       "\n",
       "\n",
       "        \n",
       "\n",
       "        return network;\n",
       "\n",
       "    }\n",
       "\n",
       "    drawGraph();\n",
       "\n",
       "</script>\n",
       "</body>\n",
       "</html>"
      ],
      "text/plain": [
       "<IPython.core.display.HTML object>"
      ]
     },
     "metadata": {},
     "output_type": "display_data"
    }
   ],
   "source": [
    "endobayes = BayesianModel([\n",
    "    ('Family History', 'Endometriosis'),\n",
    "    ('Invasive Pelvic Procedure', 'Endometriosis'),\n",
    "    ('Endometriosis', 'IBS-like Symptoms'),\n",
    "    ('Endometriosis', 'IBS'),\n",
    "    ('Endometriosis', 'Infertility'),\n",
    "    ('Endometriosis', 'Chronic Fatigue'),\n",
    "    ('Endometriosis', 'Heavy Menstrual Bleeding'),\n",
    "    ('Endometriosis', 'Depression / Anxiety'),\n",
    "    ('Endometriosis', 'Pain During Intercourse'),\n",
    "    ('Endometriosis', 'Painful Periods'),\n",
    "    ('Endometriosis', 'Ovarian Cysts'),\n",
    "    ('IBS-like Symptoms', 'Painful Bowel Movements'),\n",
    "    ('IBS-like Symptoms', 'Diarrhea'),\n",
    "    ('IBS-like Symptoms', 'Nausea'),\n",
    "    ('IBS-like Symptoms', 'Bloating'),\n",
    "    ('IBS-like Symptoms', 'Abdominal Cramps'),\n",
    "    ('IBS', 'IBS-like Symptoms')\n",
    "    ], latents={'Family History', 'Invasive Pelvic Procedure'}\n",
    ")\n",
    "\n",
    "visualize_network(endobayes)"
   ]
  },
  {
   "cell_type": "markdown",
   "id": "wzd1C-SaEXLH",
   "metadata": {
    "id": "wzd1C-SaEXLH"
   },
   "source": [
    "### **Parameter Learning**\n",
    "When learning the model's parameters, we had to decide how to deal with the latent variables: traditionally, their CPT can be estimated from the available data using the Expectation Maximization algorithm, however, in our case, we were able to get some estimates from the literature. Thus, some of our network parameters need to be learned from data, while the others could be manually inserted. \n",
    "\n",
    "Therefore, we tried three different approaches:\n",
    "*   We first tried to generate fictitious columns in our dataset for the missing nodes, using $P(Family\\ History\\ |\\ Endometriosis)$ and $P(Invasive\\ Pelvic\\ Procedure\\ |\\ Endometriosis)$ which we got from the literature. Then we estimated the model's CPT from the augmented dataset using  a Bayesian Estimator. Note that we choose not to use a Maximum Likelihood Estimator (MLE), as it's known to sometinmes overfit in case of small datasets: indeed, we might be providing too few observations, which makes the frequencies computed by MLE not representative. The Bayesian Estimator instead, also uses a prior distrubution in order not to rely only on the input data, and is thus intrinsically more robust than the MLE. Among the priors available in pgmpy we choose BDeu, which generates N uniform samples for each variable to compute the pseudo-counts.\n",
    "*   Then we simply tried to use Expectation Maximization to estimate the latent CPTs from the available data. However, as already pointed out, our two risk factors are not easy to estimate just from their associated condition and its symptoms, thus this approach often resulted in CPTs which were extremely different from those found in the literature and which, since the process is randomized, varied quite a lot with different random seeds.\n",
    "*   The final approach we used is based on a modified implementation of the Expectation Maximization algorithm provided by pgmpy, which can be found in `parameter_estimators.py` and now takes into consideration eventual CPTs already manually added to the networks, instead of just replacing them with random ones. Basically, we are making it possible for the EM algorithm to accept manual CPT priors and start from those, instead than starting from random ones every time.\n",
    "\n",
    "These three approaches are shown below; note that the first one requires our network not to have any latent variables, as the Bayesian Estimator only works on models with all observed variables. Thus, we first need to re-define our `endobayes` model."
   ]
  },
  {
   "cell_type": "code",
   "execution_count": 16,
   "id": "gJNlgmranovD",
   "metadata": {
    "id": "gJNlgmranovD"
   },
   "outputs": [],
   "source": [
    "endobayes_no_latents = BayesianModel([\n",
    "    ('Family History', 'Endometriosis'),\n",
    "    ('Invasive Pelvic Procedure', 'Endometriosis'),\n",
    "    ('Endometriosis', 'IBS-like Symptoms'),\n",
    "    ('Endometriosis', 'IBS'),\n",
    "    ('Endometriosis', 'Infertility'),\n",
    "    ('Endometriosis', 'Chronic Fatigue'),\n",
    "    ('Endometriosis', 'Heavy Menstrual Bleeding'),\n",
    "    ('Endometriosis', 'Depression / Anxiety'),\n",
    "    ('Endometriosis', 'Pain During Intercourse'),\n",
    "    ('Endometriosis', 'Painful Periods'),\n",
    "    ('Endometriosis', 'Ovarian Cysts'),\n",
    "    ('IBS-like Symptoms', 'Painful Bowel Movements'),\n",
    "    ('IBS-like Symptoms', 'Diarrhea'),\n",
    "    ('IBS-like Symptoms', 'Nausea'),\n",
    "    ('IBS-like Symptoms', 'Bloating'),\n",
    "    ('IBS-like Symptoms', 'Abdominal Cramps'),\n",
    "    ('IBS', 'IBS-like Symptoms')\n",
    "    ])"
   ]
  },
  {
   "cell_type": "code",
   "execution_count": 17,
   "id": "c898068c",
   "metadata": {
    "colab": {
     "base_uri": "https://localhost:8080/"
    },
    "id": "c898068c",
    "outputId": "84a6ea9b-c042-418a-d962-7cd79ab33a37"
   },
   "outputs": [
    {
     "name": "stdout",
     "output_type": "stream",
     "text": [
      "Checking the model...\n",
      "The model is True\n",
      "\n",
      "\n",
      "CPD for Family History:\n",
      "+-------------------+----------+\n",
      "| Family History(0) | 0.899594 |\n",
      "+-------------------+----------+\n",
      "| Family History(1) | 0.100406 |\n",
      "+-------------------+----------+ \n",
      "\n",
      "CPD for Endometriosis:\n",
      "+---------------------------+------------------------------+------------------------------+------------------------------+------------------------------+\n",
      "| Family History            | Family History(0)            | Family History(0)            | Family History(1)            | Family History(1)            |\n",
      "+---------------------------+------------------------------+------------------------------+------------------------------+------------------------------+\n",
      "| Invasive Pelvic Procedure | Invasive Pelvic Procedure(0) | Invasive Pelvic Procedure(1) | Invasive Pelvic Procedure(0) | Invasive Pelvic Procedure(1) |\n",
      "+---------------------------+------------------------------+------------------------------+------------------------------+------------------------------+\n",
      "| Endometriosis(0)          | 0.5872727272727273           | 0.44199346405228757          | 0.4189189189189189           | 0.23387096774193547          |\n",
      "+---------------------------+------------------------------+------------------------------+------------------------------+------------------------------+\n",
      "| Endometriosis(1)          | 0.4127272727272727           | 0.5580065359477124           | 0.581081081081081            | 0.7661290322580645           |\n",
      "+---------------------------+------------------------------+------------------------------+------------------------------+------------------------------+ \n",
      "\n",
      "CPD for Invasive Pelvic Procedure:\n",
      "+------------------------------+---------+\n",
      "| Invasive Pelvic Procedure(0) | 0.31643 |\n",
      "+------------------------------+---------+\n",
      "| Invasive Pelvic Procedure(1) | 0.68357 |\n",
      "+------------------------------+---------+ \n",
      "\n",
      "CPD for IBS-like Symptoms:\n",
      "+----------------------+--------------------+--------------------+---------------------+-------------------+\n",
      "| Endometriosis        | Endometriosis(0)   | Endometriosis(0)   | Endometriosis(1)    | Endometriosis(1)  |\n",
      "+----------------------+--------------------+--------------------+---------------------+-------------------+\n",
      "| IBS                  | IBS(0)             | IBS(1)             | IBS(0)              | IBS(1)            |\n",
      "+----------------------+--------------------+--------------------+---------------------+-------------------+\n",
      "| IBS-like Symptoms(0) | 0.9576271186440678 | 0.6632653061224489 | 0.8042253521126761  | 0.257396449704142 |\n",
      "+----------------------+--------------------+--------------------+---------------------+-------------------+\n",
      "| IBS-like Symptoms(1) | 0.0423728813559322 | 0.336734693877551  | 0.19577464788732393 | 0.742603550295858 |\n",
      "+----------------------+--------------------+--------------------+---------------------+-------------------+ \n",
      "\n",
      "CPD for IBS:\n",
      "+---------------+---------------------+---------------------+\n",
      "| Endometriosis | Endometriosis(0)    | Endometriosis(1)    |\n",
      "+---------------+---------------------+---------------------+\n",
      "| IBS(0)        | 0.8939393939393939  | 0.6774809160305344  |\n",
      "+---------------+---------------------+---------------------+\n",
      "| IBS(1)        | 0.10606060606060606 | 0.32251908396946566 |\n",
      "+---------------+---------------------+---------------------+ \n",
      "\n",
      "CPD for Infertility:\n",
      "+----------------+--------------------+--------------------+\n",
      "| Endometriosis  | Endometriosis(0)   | Endometriosis(1)   |\n",
      "+----------------+--------------------+--------------------+\n",
      "| Infertility(0) | 0.8961038961038961 | 0.6564885496183206 |\n",
      "+----------------+--------------------+--------------------+\n",
      "| Infertility(1) | 0.1038961038961039 | 0.3435114503816794 |\n",
      "+----------------+--------------------+--------------------+ \n",
      "\n",
      "CPD for Chronic Fatigue:\n",
      "+--------------------+---------------------+---------------------+\n",
      "| Endometriosis      | Endometriosis(0)    | Endometriosis(1)    |\n",
      "+--------------------+---------------------+---------------------+\n",
      "| Chronic Fatigue(0) | 0.8484848484848485  | 0.31679389312977096 |\n",
      "+--------------------+---------------------+---------------------+\n",
      "| Chronic Fatigue(1) | 0.15151515151515152 | 0.683206106870229   |\n",
      "+--------------------+---------------------+---------------------+ \n",
      "\n",
      "CPD for Heavy Menstrual Bleeding:\n",
      "+-----------------------------+---------------------+---------------------+\n",
      "| Endometriosis               | Endometriosis(0)    | Endometriosis(1)    |\n",
      "+-----------------------------+---------------------+---------------------+\n",
      "| Heavy Menstrual Bleeding(0) | 0.841991341991342   | 0.31297709923664124 |\n",
      "+-----------------------------+---------------------+---------------------+\n",
      "| Heavy Menstrual Bleeding(1) | 0.15800865800865802 | 0.6870229007633588  |\n",
      "+-----------------------------+---------------------+---------------------+ \n",
      "\n",
      "CPD for Depression / Anxiety:\n",
      "+-------------------------+-------------------+---------------------+\n",
      "| Endometriosis           | Endometriosis(0)  | Endometriosis(1)    |\n",
      "+-------------------------+-------------------+---------------------+\n",
      "| Depression / Anxiety(0) | 0.658008658008658 | 0.40076335877862596 |\n",
      "+-------------------------+-------------------+---------------------+\n",
      "| Depression / Anxiety(1) | 0.341991341991342 | 0.5992366412213741  |\n",
      "+-------------------------+-------------------+---------------------+ \n",
      "\n",
      "CPD for Pain During Intercourse:\n",
      "+----------------------------+---------------------+---------------------+\n",
      "| Endometriosis              | Endometriosis(0)    | Endometriosis(1)    |\n",
      "+----------------------------+---------------------+---------------------+\n",
      "| Pain During Intercourse(0) | 0.8376623376623377  | 0.34923664122137404 |\n",
      "+----------------------------+---------------------+---------------------+\n",
      "| Pain During Intercourse(1) | 0.16233766233766234 | 0.6507633587786259  |\n",
      "+----------------------------+---------------------+---------------------+ \n",
      "\n",
      "CPD for Painful Periods:\n",
      "+--------------------+---------------------+--------------------+\n",
      "| Endometriosis      | Endometriosis(0)    | Endometriosis(1)   |\n",
      "+--------------------+---------------------+--------------------+\n",
      "| Painful Periods(0) | 0.8398268398268398  | 0.1851145038167939 |\n",
      "+--------------------+---------------------+--------------------+\n",
      "| Painful Periods(1) | 0.16017316017316016 | 0.8148854961832062 |\n",
      "+--------------------+---------------------+--------------------+ \n",
      "\n",
      "CPD for Ovarian Cysts:\n",
      "+------------------+---------------------+---------------------+\n",
      "| Endometriosis    | Endometriosis(0)    | Endometriosis(1)    |\n",
      "+------------------+---------------------+---------------------+\n",
      "| Ovarian Cysts(0) | 0.935064935064935   | 0.5629770992366412  |\n",
      "+------------------+---------------------+---------------------+\n",
      "| Ovarian Cysts(1) | 0.06493506493506493 | 0.43702290076335876 |\n",
      "+------------------+---------------------+---------------------+ \n",
      "\n",
      "CPD for Painful Bowel Movements:\n",
      "+----------------------------+----------------------+----------------------+\n",
      "| IBS-like Symptoms          | IBS-like Symptoms(0) | IBS-like Symptoms(1) |\n",
      "+----------------------------+----------------------+----------------------+\n",
      "| Painful Bowel Movements(0) | 0.7952443857331571   | 0.314410480349345    |\n",
      "+----------------------------+----------------------+----------------------+\n",
      "| Painful Bowel Movements(1) | 0.2047556142668428   | 0.6855895196506551   |\n",
      "+----------------------------+----------------------+----------------------+ \n",
      "\n",
      "CPD for Diarrhea:\n",
      "+-------------------+----------------------+----------------------+\n",
      "| IBS-like Symptoms | IBS-like Symptoms(0) | IBS-like Symptoms(1) |\n",
      "+-------------------+----------------------+----------------------+\n",
      "| Diarrhea(0)       | 0.7582562747688243   | 0.3624454148471616   |\n",
      "+-------------------+----------------------+----------------------+\n",
      "| Diarrhea(1)       | 0.24174372523117568  | 0.6375545851528385   |\n",
      "+-------------------+----------------------+----------------------+ \n",
      "\n",
      "CPD for Nausea:\n",
      "+-------------------+----------------------+----------------------+\n",
      "| IBS-like Symptoms | IBS-like Symptoms(0) | IBS-like Symptoms(1) |\n",
      "+-------------------+----------------------+----------------------+\n",
      "| Nausea(0)         | 0.6935270805812418   | 0.31877729257641924  |\n",
      "+-------------------+----------------------+----------------------+\n",
      "| Nausea(1)         | 0.30647291941875826  | 0.6812227074235808   |\n",
      "+-------------------+----------------------+----------------------+ \n",
      "\n",
      "CPD for Bloating:\n",
      "+-------------------+----------------------+----------------------+\n",
      "| IBS-like Symptoms | IBS-like Symptoms(0) | IBS-like Symptoms(1) |\n",
      "+-------------------+----------------------+----------------------+\n",
      "| Bloating(0)       | 0.6908850726552179   | 0.2663755458515284   |\n",
      "+-------------------+----------------------+----------------------+\n",
      "| Bloating(1)       | 0.309114927344782    | 0.7336244541484717   |\n",
      "+-------------------+----------------------+----------------------+ \n",
      "\n",
      "CPD for Abdominal Cramps:\n",
      "+---------------------+----------------------+----------------------+\n",
      "| IBS-like Symptoms   | IBS-like Symptoms(0) | IBS-like Symptoms(1) |\n",
      "+---------------------+----------------------+----------------------+\n",
      "| Abdominal Cramps(0) | 0.6829590488771466   | 0.24890829694323144  |\n",
      "+---------------------+----------------------+----------------------+\n",
      "| Abdominal Cramps(1) | 0.31704095112285335  | 0.7510917030567685   |\n",
      "+---------------------+----------------------+----------------------+ \n",
      "\n"
     ]
    }
   ],
   "source": [
    "# First approach\n",
    "def generate_random_bool_values(endo_column, probs):\n",
    "    # probs = [prob_true_and_endo, prob_true_and_not_endo]\n",
    "    n_endo = endo_column.values.sum()\n",
    "    n_not_endo = len(endo_column) - n_endo\n",
    "    true_and_endo = np.ones(round(n_endo * probs[0]), dtype=np.int8)\n",
    "    false_and_endo = np.zeros(round(n_endo * (1-probs[0])), dtype=np.int8)\n",
    "    true_and_not_endo = np.ones(round(n_not_endo * probs[1]), dtype=np.int8)\n",
    "    false_and_not_endo = np.zeros(round(n_not_endo * (1-probs[1])), dtype=np.int8)\n",
    "    endo = np.concatenate([true_and_endo, false_and_endo])\n",
    "    not_endo = np.concatenate([true_and_not_endo, false_and_not_endo])\n",
    "    np.random.shuffle(endo)\n",
    "    np.random.shuffle(not_endo)\n",
    "    col = np.concatenate([not_endo, endo])\n",
    "    return col\n",
    "\n",
    "data_extended = data.copy()\n",
    "data_extended = data.sort_values(by='Endometriosis')\n",
    "\n",
    "data_extended['Family History'] = generate_random_bool_values(\n",
    "    data_extended['Endometriosis'], \n",
    "    probs=[0.093, 0.012])\n",
    "data_extended['Invasive Pelvic Procedure'] = generate_random_bool_values(\n",
    "    data_extended['Endometriosis'], \n",
    "    probs=[0.768, 0.630])\n",
    "\n",
    "estimator = BayesianEstimator(model=endobayes_no_latents, data=data_extended)\n",
    "\n",
    "cpds = []\n",
    "for node in endobayes_no_latents.nodes():\n",
    "    cpds.append(estimator.estimate_cpd(node=node, \n",
    "                                       prior_type=\"BDeu\", \n",
    "                                       equivalent_sample_size=100))\n",
    "endobayes_no_latents.add_cpds(*cpds)\n",
    "\n",
    "print('Checking the model...')\n",
    "print(f'The model is {endobayes_no_latents.check_model()}\\n\\n')\n",
    "\n",
    "for cpd in [cpd for cpd in endobayes_no_latents.get_cpds()]:\n",
    "    print(f'CPD for {cpd.variable}:')\n",
    "    print(cpd, '\\n')"
   ]
  },
  {
   "cell_type": "code",
   "execution_count": 18,
   "id": "3f026f24",
   "metadata": {
    "colab": {
     "base_uri": "https://localhost:8080/",
     "height": 1000,
     "referenced_widgets": [
      "cf7a4909e55e4fd6a0bdcdb8dc6b4fbb",
      "39ff42c196ba430abd5afeadab6e408d",
      "b01ffb6693664b9ba122b8b1b635dffc",
      "cf1bbdf1f2244c18a6807c4150612234",
      "d0bec14860d34cbabdc6090d63b7656f",
      "2a5fd5fd6315452d871125ed58aaa6db",
      "858c9e49d5804c838712d98efbd57f57",
      "b04353fe653241ccaf8293bbbba36cb3",
      "63b0a3b2f4924d70a935fcd5a1932c62",
      "0f02ba1ad1754c0fa340ce182f80c8ac",
      "40df2b5acec84a92a2853ef4ee4cfaca"
     ]
    },
    "id": "3f026f24",
    "outputId": "f4cdf25c-5144-4f48-f086-c1e972f0c40a"
   },
   "outputs": [
    {
     "name": "stderr",
     "output_type": "stream",
     "text": [
      "  6%|████▉                                                                             | 6/100 [00:09<02:29,  1.59s/it]"
     ]
    },
    {
     "name": "stdout",
     "output_type": "stream",
     "text": [
      "Checking the model...\n",
      "The model is True\n",
      "\n",
      "\n",
      "+-------------------+---------+\n",
      "| Family History(0) | 0.64809 |\n",
      "+-------------------+---------+\n",
      "| Family History(1) | 0.35191 |\n",
      "+-------------------+---------+\n",
      "+---------------------------+------------------------------+------------------------------+------------------------------+------------------------------+\n",
      "| Family History            | Family History(0)            | Family History(0)            | Family History(1)            | Family History(1)            |\n",
      "+---------------------------+------------------------------+------------------------------+------------------------------+------------------------------+\n",
      "| Invasive Pelvic Procedure | Invasive Pelvic Procedure(0) | Invasive Pelvic Procedure(1) | Invasive Pelvic Procedure(0) | Invasive Pelvic Procedure(1) |\n",
      "+---------------------------+------------------------------+------------------------------+------------------------------+------------------------------+\n",
      "| Endometriosis(0)          | 0.3255175734939401           | 0.9823248578215196           | 0.5719142886514061           | 0.1940322918864534           |\n",
      "+---------------------------+------------------------------+------------------------------+------------------------------+------------------------------+\n",
      "| Endometriosis(1)          | 0.6744824265060599           | 0.017675142178480322         | 0.42808571134859386          | 0.8059677081135466           |\n",
      "+---------------------------+------------------------------+------------------------------+------------------------------+------------------------------+\n",
      "+------------------------------+----------+\n",
      "| Invasive Pelvic Procedure(0) | 0.819657 |\n",
      "+------------------------------+----------+\n",
      "| Invasive Pelvic Procedure(1) | 0.180343 |\n",
      "+------------------------------+----------+\n",
      "+----------------------+---------------------+---------------------+---------------------+--------------------+\n",
      "| Endometriosis        | Endometriosis(0)    | Endometriosis(0)    | Endometriosis(1)    | Endometriosis(1)   |\n",
      "+----------------------+---------------------+---------------------+---------------------+--------------------+\n",
      "| IBS                  | IBS(0)              | IBS(1)              | IBS(0)              | IBS(1)             |\n",
      "+----------------------+---------------------+---------------------+---------------------+--------------------+\n",
      "| IBS-like Symptoms(0) | 0.9871134020618557  | 0.8333333333333334  | 0.8272727272727273  | 0.2152777777777778 |\n",
      "+----------------------+---------------------+---------------------+---------------------+--------------------+\n",
      "| IBS-like Symptoms(1) | 0.01288659793814433 | 0.16666666666666666 | 0.17272727272727273 | 0.7847222222222222 |\n",
      "+----------------------+---------------------+---------------------+---------------------+--------------------+\n",
      "+---------------+---------------------+--------------------+\n",
      "| Endometriosis | Endometriosis(0)    | Endometriosis(1)   |\n",
      "+---------------+---------------------+--------------------+\n",
      "| IBS(0)        | 0.941747572815534   | 0.6962025316455697 |\n",
      "+---------------+---------------------+--------------------+\n",
      "| IBS(1)        | 0.05825242718446602 | 0.3037974683544304 |\n",
      "+---------------+---------------------+--------------------+\n",
      "+----------------+----------------------+--------------------+\n",
      "| Endometriosis  | Endometriosis(0)     | Endometriosis(1)   |\n",
      "+----------------+----------------------+--------------------+\n",
      "| Infertility(0) | 0.9441747572815534   | 0.6729957805907173 |\n",
      "+----------------+----------------------+--------------------+\n",
      "| Infertility(1) | 0.055825242718446605 | 0.3270042194092827 |\n",
      "+----------------+----------------------+--------------------+\n",
      "+--------------------+---------------------+--------------------+\n",
      "| Endometriosis      | Endometriosis(0)    | Endometriosis(1)   |\n",
      "+--------------------+---------------------+--------------------+\n",
      "| Chronic Fatigue(0) | 0.8907766990291263  | 0.2974683544303797 |\n",
      "+--------------------+---------------------+--------------------+\n",
      "| Chronic Fatigue(1) | 0.10922330097087378 | 0.7025316455696202 |\n",
      "+--------------------+---------------------+--------------------+\n",
      "+-----------------------------+---------------------+---------------------+\n",
      "| Endometriosis               | Endometriosis(0)    | Endometriosis(1)    |\n",
      "+-----------------------------+---------------------+---------------------+\n",
      "| Heavy Menstrual Bleeding(0) | 0.883495145631068   | 0.29324894514767935 |\n",
      "+-----------------------------+---------------------+---------------------+\n",
      "| Heavy Menstrual Bleeding(1) | 0.11650485436893204 | 0.7067510548523207  |\n",
      "+-----------------------------+---------------------+---------------------+\n",
      "+-------------------------+---------------------+---------------------+\n",
      "| Endometriosis           | Endometriosis(0)    | Endometriosis(1)    |\n",
      "+-------------------------+---------------------+---------------------+\n",
      "| Depression / Anxiety(0) | 0.6771844660194175  | 0.39029535864978904 |\n",
      "+-------------------------+---------------------+---------------------+\n",
      "| Depression / Anxiety(1) | 0.32281553398058255 | 0.609704641350211   |\n",
      "+-------------------------+---------------------+---------------------+\n",
      "+----------------------------+---------------------+--------------------+\n",
      "| Endometriosis              | Endometriosis(0)    | Endometriosis(1)   |\n",
      "+----------------------------+---------------------+--------------------+\n",
      "| Pain During Intercourse(0) | 0.8786407766990292  | 0.3333333333333333 |\n",
      "+----------------------------+---------------------+--------------------+\n",
      "| Pain During Intercourse(1) | 0.12135922330097088 | 0.6666666666666666 |\n",
      "+----------------------------+---------------------+--------------------+\n",
      "+--------------------+---------------------+--------------------+\n",
      "| Endometriosis      | Endometriosis(0)    | Endometriosis(1)   |\n",
      "+--------------------+---------------------+--------------------+\n",
      "| Painful Periods(0) | 0.8810679611650486  | 0.1518987341772152 |\n",
      "+--------------------+---------------------+--------------------+\n",
      "| Painful Periods(1) | 0.11893203883495146 | 0.8481012658227848 |\n",
      "+--------------------+---------------------+--------------------+\n",
      "+------------------+----------------------+---------------------+\n",
      "| Endometriosis    | Endometriosis(0)     | Endometriosis(1)    |\n",
      "+------------------+----------------------+---------------------+\n",
      "| Ovarian Cysts(0) | 0.9878640776699029   | 0.569620253164557   |\n",
      "+------------------+----------------------+---------------------+\n",
      "| Ovarian Cysts(1) | 0.012135922330097087 | 0.43037974683544306 |\n",
      "+------------------+----------------------+---------------------+\n",
      "+----------------------------+----------------------+----------------------+\n",
      "| IBS-like Symptoms          | IBS-like Symptoms(0) | IBS-like Symptoms(1) |\n",
      "+----------------------------+----------------------+----------------------+\n",
      "| Painful Bowel Movements(0) | 0.8161244695898161   | 0.26256983240223464  |\n",
      "+----------------------------+----------------------+----------------------+\n",
      "| Painful Bowel Movements(1) | 0.18387553041018387  | 0.7374301675977654   |\n",
      "+----------------------------+----------------------+----------------------+\n",
      "+-------------------+----------------------+----------------------+\n",
      "| IBS-like Symptoms | IBS-like Symptoms(0) | IBS-like Symptoms(1) |\n",
      "+-------------------+----------------------+----------------------+\n",
      "| Diarrhea(0)       | 0.7765205091937766   | 0.3240223463687151   |\n",
      "+-------------------+----------------------+----------------------+\n",
      "| Diarrhea(1)       | 0.22347949080622348  | 0.6759776536312849   |\n",
      "+-------------------+----------------------+----------------------+\n",
      "+-------------------+----------------------+----------------------+\n",
      "| IBS-like Symptoms | IBS-like Symptoms(0) | IBS-like Symptoms(1) |\n",
      "+-------------------+----------------------+----------------------+\n",
      "| Nausea(0)         | 0.7072135785007072   | 0.2681564245810056   |\n",
      "+-------------------+----------------------+----------------------+\n",
      "| Nausea(1)         | 0.2927864214992928   | 0.7318435754189944   |\n",
      "+-------------------+----------------------+----------------------+\n",
      "+-------------------+----------------------+----------------------+\n",
      "| IBS-like Symptoms | IBS-like Symptoms(0) | IBS-like Symptoms(1) |\n",
      "+-------------------+----------------------+----------------------+\n",
      "| Bloating(0)       | 0.7043847241867044   | 0.2011173184357542   |\n",
      "+-------------------+----------------------+----------------------+\n",
      "| Bloating(1)       | 0.2956152758132956   | 0.7988826815642458   |\n",
      "+-------------------+----------------------+----------------------+\n",
      "+---------------------+----------------------+----------------------+\n",
      "| IBS-like Symptoms   | IBS-like Symptoms(0) | IBS-like Symptoms(1) |\n",
      "+---------------------+----------------------+----------------------+\n",
      "| Abdominal Cramps(0) | 0.695898161244696    | 0.1787709497206704   |\n",
      "+---------------------+----------------------+----------------------+\n",
      "| Abdominal Cramps(1) | 0.3041018387553041   | 0.8212290502793296   |\n",
      "+---------------------+----------------------+----------------------+\n"
     ]
    },
    {
     "name": "stderr",
     "output_type": "stream",
     "text": [
      "\n"
     ]
    }
   ],
   "source": [
    "# Second approach\n",
    "estimator = ExpectationMaximization(endobayes, data)\n",
    "cpds = estimator.get_parameters(seed=4)\n",
    "endobayes.add_cpds(*cpds)\n",
    "\n",
    "print('Checking the model...')\n",
    "print(f'The model is {endobayes.check_model()}\\n\\n')\n",
    "\n",
    "for cpd in endobayes.get_cpds():\n",
    "    print(cpd)"
   ]
  },
  {
   "cell_type": "code",
   "execution_count": 19,
   "id": "0WSu_WHqpL1E",
   "metadata": {
    "colab": {
     "base_uri": "https://localhost:8080/"
    },
    "id": "0WSu_WHqpL1E",
    "outputId": "3093f687-bc13-43ef-e5c2-55be4f195276"
   },
   "outputs": [
    {
     "data": {
      "text/plain": [
       "[]"
      ]
     },
     "execution_count": 19,
     "metadata": {},
     "output_type": "execute_result"
    }
   ],
   "source": [
    "# Remove the cpds we found with the second approach and check that the model\n",
    "# has no cpds anymore\n",
    "cpds = endobayes.get_cpds()\n",
    "endobayes.remove_cpds(*cpds)\n",
    "\n",
    "endobayes.get_cpds()"
   ]
  },
  {
   "cell_type": "code",
   "execution_count": 20,
   "id": "4ca11c56",
   "metadata": {
    "colab": {
     "base_uri": "https://localhost:8080/"
    },
    "id": "4ca11c56",
    "outputId": "0b246d05-30c3-481a-83df-0b68ac65fc19"
   },
   "outputs": [
    {
     "name": "stdout",
     "output_type": "stream",
     "text": [
      "+-------------------+-------+\n",
      "| Family History(0) | 0.907 |\n",
      "+-------------------+-------+\n",
      "| Family History(1) | 0.093 |\n",
      "+-------------------+-------+\n",
      "+------------------------------+-------+\n",
      "| Invasive Pelvic Procedure(0) | 0.881 |\n",
      "+------------------------------+-------+\n",
      "| Invasive Pelvic Procedure(1) | 0.119 |\n",
      "+------------------------------+-------+\n"
     ]
    }
   ],
   "source": [
    "# Third and final approach: first we define the prior probabilities and add them\n",
    "# to the netowrk\n",
    "\n",
    "# True in 9.3% of the times, false in 90.7%\n",
    "family_history_cpd = TabularCPD('Family History', 2, [[0.907], [0.093]],\n",
    "                                state_names={'Family History': [0, 1]})\n",
    "\n",
    "# True in 11.9% of the times, False in 88.1%\n",
    "invasive_procedure_cpd = TabularCPD('Invasive Pelvic Procedure', 2, [[0.881], [0.119]], \n",
    "                                    state_names={'Invasive Pelvic Procedure': [0, 1]})\n",
    "\n",
    "endobayes.add_cpds(family_history_cpd, invasive_procedure_cpd)\n",
    "for cpd in endobayes.get_cpds():\n",
    "    print(cpd)"
   ]
  },
  {
   "cell_type": "code",
   "execution_count": 21,
   "id": "0fef39b5",
   "metadata": {
    "colab": {
     "base_uri": "https://localhost:8080/"
    },
    "id": "0fef39b5",
    "outputId": "17ef4173-e6e5-4293-8929-8efc075c149c"
   },
   "outputs": [
    {
     "name": "stderr",
     "output_type": "stream",
     "text": [
      "WARNING:root:Replacing existing CPD for Family History\n",
      "WARNING:root:Replacing existing CPD for Invasive Pelvic Procedure\n"
     ]
    },
    {
     "name": "stdout",
     "output_type": "stream",
     "text": [
      "Using provided prior for Family History.\n",
      "Using provided prior for Invasive Pelvic Procedure.\n"
     ]
    },
    {
     "name": "stderr",
     "output_type": "stream",
     "text": [
      "  3%|██▍                                                                               | 3/100 [00:05<02:57,  1.83s/it]\n",
      "WARNING:root:Replacing existing CPD for Family History\n",
      "WARNING:root:Replacing existing CPD for Invasive Pelvic Procedure\n"
     ]
    },
    {
     "name": "stdout",
     "output_type": "stream",
     "text": [
      "\n",
      "Checking the model...\n",
      "The model is True\n",
      "\n",
      "\n",
      "+-------------------+----------+\n",
      "| Family History(0) | 0.848161 |\n",
      "+-------------------+----------+\n",
      "| Family History(1) | 0.151839 |\n",
      "+-------------------+----------+\n",
      "+------------------------------+---------+\n",
      "| Invasive Pelvic Procedure(0) | 0.84931 |\n",
      "+------------------------------+---------+\n",
      "| Invasive Pelvic Procedure(1) | 0.15069 |\n",
      "+------------------------------+---------+\n",
      "+---------------------------+------------------------------+------------------------------+------------------------------+------------------------------+\n",
      "| Family History            | Family History(0)            | Family History(0)            | Family History(1)            | Family History(1)            |\n",
      "+---------------------------+------------------------------+------------------------------+------------------------------+------------------------------+\n",
      "| Invasive Pelvic Procedure | Invasive Pelvic Procedure(0) | Invasive Pelvic Procedure(1) | Invasive Pelvic Procedure(0) | Invasive Pelvic Procedure(1) |\n",
      "+---------------------------+------------------------------+------------------------------+------------------------------+------------------------------+\n",
      "| Endometriosis(0)          | 0.5831643391229718           | 0.25641728924774326          | 0.05911274563559248          | 0.19807314278514024          |\n",
      "+---------------------------+------------------------------+------------------------------+------------------------------+------------------------------+\n",
      "| Endometriosis(1)          | 0.4168356608770281           | 0.7435827107522567           | 0.9408872543644076           | 0.8019268572148598           |\n",
      "+---------------------------+------------------------------+------------------------------+------------------------------+------------------------------+\n",
      "+----------------------+---------------------+---------------------+---------------------+--------------------+\n",
      "| Endometriosis        | Endometriosis(0)    | Endometriosis(0)    | Endometriosis(1)    | Endometriosis(1)   |\n",
      "+----------------------+---------------------+---------------------+---------------------+--------------------+\n",
      "| IBS                  | IBS(0)              | IBS(1)              | IBS(0)              | IBS(1)             |\n",
      "+----------------------+---------------------+---------------------+---------------------+--------------------+\n",
      "| IBS-like Symptoms(0) | 0.9871134020618557  | 0.8333333333333334  | 0.8272727272727273  | 0.2152777777777778 |\n",
      "+----------------------+---------------------+---------------------+---------------------+--------------------+\n",
      "| IBS-like Symptoms(1) | 0.01288659793814433 | 0.16666666666666666 | 0.17272727272727273 | 0.7847222222222222 |\n",
      "+----------------------+---------------------+---------------------+---------------------+--------------------+\n",
      "+---------------+---------------------+--------------------+\n",
      "| Endometriosis | Endometriosis(0)    | Endometriosis(1)   |\n",
      "+---------------+---------------------+--------------------+\n",
      "| IBS(0)        | 0.941747572815534   | 0.6962025316455697 |\n",
      "+---------------+---------------------+--------------------+\n",
      "| IBS(1)        | 0.05825242718446602 | 0.3037974683544304 |\n",
      "+---------------+---------------------+--------------------+\n",
      "+----------------+----------------------+--------------------+\n",
      "| Endometriosis  | Endometriosis(0)     | Endometriosis(1)   |\n",
      "+----------------+----------------------+--------------------+\n",
      "| Infertility(0) | 0.9441747572815534   | 0.6729957805907173 |\n",
      "+----------------+----------------------+--------------------+\n",
      "| Infertility(1) | 0.055825242718446605 | 0.3270042194092827 |\n",
      "+----------------+----------------------+--------------------+\n",
      "+--------------------+---------------------+--------------------+\n",
      "| Endometriosis      | Endometriosis(0)    | Endometriosis(1)   |\n",
      "+--------------------+---------------------+--------------------+\n",
      "| Chronic Fatigue(0) | 0.8907766990291263  | 0.2974683544303797 |\n",
      "+--------------------+---------------------+--------------------+\n",
      "| Chronic Fatigue(1) | 0.10922330097087378 | 0.7025316455696202 |\n",
      "+--------------------+---------------------+--------------------+\n",
      "+-----------------------------+---------------------+---------------------+\n",
      "| Endometriosis               | Endometriosis(0)    | Endometriosis(1)    |\n",
      "+-----------------------------+---------------------+---------------------+\n",
      "| Heavy Menstrual Bleeding(0) | 0.883495145631068   | 0.29324894514767935 |\n",
      "+-----------------------------+---------------------+---------------------+\n",
      "| Heavy Menstrual Bleeding(1) | 0.11650485436893204 | 0.7067510548523207  |\n",
      "+-----------------------------+---------------------+---------------------+\n",
      "+-------------------------+---------------------+---------------------+\n",
      "| Endometriosis           | Endometriosis(0)    | Endometriosis(1)    |\n",
      "+-------------------------+---------------------+---------------------+\n",
      "| Depression / Anxiety(0) | 0.6771844660194175  | 0.39029535864978904 |\n",
      "+-------------------------+---------------------+---------------------+\n",
      "| Depression / Anxiety(1) | 0.32281553398058255 | 0.609704641350211   |\n",
      "+-------------------------+---------------------+---------------------+\n",
      "+----------------------------+---------------------+--------------------+\n",
      "| Endometriosis              | Endometriosis(0)    | Endometriosis(1)   |\n",
      "+----------------------------+---------------------+--------------------+\n",
      "| Pain During Intercourse(0) | 0.8786407766990292  | 0.3333333333333333 |\n",
      "+----------------------------+---------------------+--------------------+\n",
      "| Pain During Intercourse(1) | 0.12135922330097089 | 0.6666666666666666 |\n",
      "+----------------------------+---------------------+--------------------+\n",
      "+--------------------+---------------------+--------------------+\n",
      "| Endometriosis      | Endometriosis(0)    | Endometriosis(1)   |\n",
      "+--------------------+---------------------+--------------------+\n",
      "| Painful Periods(0) | 0.8810679611650486  | 0.1518987341772152 |\n",
      "+--------------------+---------------------+--------------------+\n",
      "| Painful Periods(1) | 0.11893203883495146 | 0.8481012658227848 |\n",
      "+--------------------+---------------------+--------------------+\n",
      "+------------------+----------------------+---------------------+\n",
      "| Endometriosis    | Endometriosis(0)     | Endometriosis(1)    |\n",
      "+------------------+----------------------+---------------------+\n",
      "| Ovarian Cysts(0) | 0.9878640776699029   | 0.569620253164557   |\n",
      "+------------------+----------------------+---------------------+\n",
      "| Ovarian Cysts(1) | 0.012135922330097087 | 0.43037974683544306 |\n",
      "+------------------+----------------------+---------------------+\n",
      "+----------------------------+----------------------+----------------------+\n",
      "| IBS-like Symptoms          | IBS-like Symptoms(0) | IBS-like Symptoms(1) |\n",
      "+----------------------------+----------------------+----------------------+\n",
      "| Painful Bowel Movements(0) | 0.8161244695898161   | 0.26256983240223464  |\n",
      "+----------------------------+----------------------+----------------------+\n",
      "| Painful Bowel Movements(1) | 0.18387553041018387  | 0.7374301675977654   |\n",
      "+----------------------------+----------------------+----------------------+\n",
      "+-------------------+----------------------+----------------------+\n",
      "| IBS-like Symptoms | IBS-like Symptoms(0) | IBS-like Symptoms(1) |\n",
      "+-------------------+----------------------+----------------------+\n",
      "| Diarrhea(0)       | 0.7765205091937766   | 0.3240223463687151   |\n",
      "+-------------------+----------------------+----------------------+\n",
      "| Diarrhea(1)       | 0.22347949080622348  | 0.6759776536312849   |\n",
      "+-------------------+----------------------+----------------------+\n",
      "+-------------------+----------------------+----------------------+\n",
      "| IBS-like Symptoms | IBS-like Symptoms(0) | IBS-like Symptoms(1) |\n",
      "+-------------------+----------------------+----------------------+\n",
      "| Nausea(0)         | 0.7072135785007072   | 0.2681564245810056   |\n",
      "+-------------------+----------------------+----------------------+\n",
      "| Nausea(1)         | 0.2927864214992928   | 0.7318435754189944   |\n",
      "+-------------------+----------------------+----------------------+\n",
      "+-------------------+----------------------+----------------------+\n",
      "| IBS-like Symptoms | IBS-like Symptoms(0) | IBS-like Symptoms(1) |\n",
      "+-------------------+----------------------+----------------------+\n",
      "| Bloating(0)       | 0.7043847241867044   | 0.2011173184357542   |\n",
      "+-------------------+----------------------+----------------------+\n",
      "| Bloating(1)       | 0.2956152758132956   | 0.7988826815642458   |\n",
      "+-------------------+----------------------+----------------------+\n",
      "+---------------------+----------------------+----------------------+\n",
      "| IBS-like Symptoms   | IBS-like Symptoms(0) | IBS-like Symptoms(1) |\n",
      "+---------------------+----------------------+----------------------+\n",
      "| Abdominal Cramps(0) | 0.695898161244696    | 0.1787709497206704   |\n",
      "+---------------------+----------------------+----------------------+\n",
      "| Abdominal Cramps(1) | 0.3041018387553041   | 0.8212290502793296   |\n",
      "+---------------------+----------------------+----------------------+\n"
     ]
    }
   ],
   "source": [
    "# Now let's use the new EMWithPriors implementation to estimate the other cpds\n",
    "\n",
    "estimator = ExpectationMaximizationWithPriors(endobayes, data)\n",
    "cpds = estimator.get_parameters()\n",
    "endobayes.add_cpds(*cpds)\n",
    "\n",
    "print('\\nChecking the model...')\n",
    "print(f'The model is {endobayes.check_model()}\\n\\n')\n",
    "for cpd in endobayes.get_cpds():\n",
    "    print(cpd)"
   ]
  },
  {
   "cell_type": "markdown",
   "id": "f81a25ca",
   "metadata": {
    "id": "f81a25ca"
   },
   "source": [
    "## **Network Analysis**\n",
    "We'll now analyze our final architecture in terms of markov blankets and active trails. Regarding the idependencies, we can see that the model presents a V-structure between `Ivasive Pelvic Procedure`, `Family History` and `Endometriosis`, which implies that the two risk factors are independent from each other - something quite reasonable in our application. Finally, note however that this independency is no longer guarantee by the V-structure when the value for `Endometriosis `is known."
   ]
  },
  {
   "cell_type": "markdown",
   "id": "ceg4nRxJEmqs",
   "metadata": {
    "id": "ceg4nRxJEmqs"
   },
   "source": [
    "### **Markov Blankets**\n",
    "The Markov Blanket for a given node consists in the set of its parents, children and children's parents. Once we know its blanket, every variable A becomes independent from any other nodes in the network. \n",
    "\n",
    "Below we display, for each variable, its node in light orange, the corresponding Markov Blanket in red and the remaining nodes in gray."
   ]
  },
  {
   "cell_type": "code",
   "execution_count": 22,
   "id": "ea827722",
   "metadata": {
    "id": "ea827722"
   },
   "outputs": [],
   "source": [
    "def show_markov_blanket(network, filename, initial_node=None, blanket=[]):\n",
    "    net = Network(directed=True, notebook=True, layout=True, width=960)\n",
    "    nodes = network.nodes()\n",
    "    edges = network.edges()\n",
    "\n",
    "    node_levels = [1 if node in RISK_FACTORS else \n",
    "                   2 if node == 'Endometriosis' else 4 \n",
    "                   if node in ['Painful Bowel Movements', 'Diarrhea', 'Nausea', 'Bloating', 'Abdominal Cramps'] \n",
    "                   else 3 for node in nodes]\n",
    "    node_colors = ['#faaf96' if node == initial_node else\n",
    "                   '#f57382' if node in blanket else \n",
    "                   '#9996a1' for node in nodes]\n",
    "    \n",
    "    for node, level, color in zip(nodes, node_levels, node_colors):     \n",
    "        net.add_node(node, level=level, color=color)\n",
    "\n",
    "    net.add_edges(edges)\n",
    "\n",
    "    net.set_options(\"\"\"\n",
    "    var options = {\n",
    "      \"edges\": {\n",
    "        \"color\": {\n",
    "          \"inherit\": false\n",
    "        },\n",
    "        \"smooth\": false\n",
    "      },\n",
    "      \"layout\": {\n",
    "        \"hierarchical\": {\n",
    "          \"enabled\": true\n",
    "        }\n",
    "      },\n",
    "      \"physics\": {\n",
    "        \"hierarchicalRepulsion\": {\n",
    "          \"centralGravity\": 0,\n",
    "          \"nodeDistance\": 160\n",
    "        },\n",
    "        \"minVelocity\": 0.75,\n",
    "        \"solver\": \"hierarchicalRepulsion\"\n",
    "      }\n",
    "    }\n",
    "    \"\"\") \n",
    "    path = '../figures/markov_blankets/' + filename\n",
    "    return net, path\n",
    "        "
   ]
  },
  {
   "cell_type": "code",
   "execution_count": 23,
   "id": "57063929",
   "metadata": {
    "colab": {
     "base_uri": "https://localhost:8080/",
     "height": 1000
    },
    "id": "57063929",
    "outputId": "786fbc2d-afcc-4ac8-9a4e-041bfa30024c"
   },
   "outputs": [
    {
     "name": "stdout",
     "output_type": "stream",
     "text": [
      "\n",
      "Node:  Family History\n",
      "Markov Blanket:  ['Invasive Pelvic Procedure', 'Endometriosis']\n"
     ]
    },
    {
     "data": {
      "text/html": [
       "\n",
       "        <iframe\n",
       "            width=\"960\"\n",
       "            height=\"500px\"\n",
       "            src=\"../figures/markov_blankets/blanket_Family_History.html\"\n",
       "            frameborder=\"0\"\n",
       "            allowfullscreen\n",
       "        ></iframe>\n",
       "        "
      ],
      "text/plain": [
       "<IPython.lib.display.IFrame at 0x208b1426dc0>"
      ]
     },
     "metadata": {},
     "output_type": "display_data"
    },
    {
     "name": "stdout",
     "output_type": "stream",
     "text": [
      "\n",
      "Node:  Endometriosis\n",
      "Markov Blanket:  ['Family History', 'Infertility', 'IBS', 'Ovarian Cysts', 'Chronic Fatigue', 'Painful Periods', 'Pain During Intercourse', 'Depression / Anxiety', 'Heavy Menstrual Bleeding', 'Invasive Pelvic Procedure', 'IBS-like Symptoms']\n"
     ]
    },
    {
     "data": {
      "text/html": [
       "\n",
       "        <iframe\n",
       "            width=\"960\"\n",
       "            height=\"500px\"\n",
       "            src=\"../figures/markov_blankets/blanket_Endometriosis.html\"\n",
       "            frameborder=\"0\"\n",
       "            allowfullscreen\n",
       "        ></iframe>\n",
       "        "
      ],
      "text/plain": [
       "<IPython.lib.display.IFrame at 0x208b01b1e20>"
      ]
     },
     "metadata": {},
     "output_type": "display_data"
    },
    {
     "name": "stdout",
     "output_type": "stream",
     "text": [
      "\n",
      "Node:  Invasive Pelvic Procedure\n",
      "Markov Blanket:  ['Family History', 'Endometriosis']\n"
     ]
    },
    {
     "data": {
      "text/html": [
       "\n",
       "        <iframe\n",
       "            width=\"960\"\n",
       "            height=\"500px\"\n",
       "            src=\"../figures/markov_blankets/blanket_Invasive_Pelvic_Procedure.html\"\n",
       "            frameborder=\"0\"\n",
       "            allowfullscreen\n",
       "        ></iframe>\n",
       "        "
      ],
      "text/plain": [
       "<IPython.lib.display.IFrame at 0x208b00d3c10>"
      ]
     },
     "metadata": {},
     "output_type": "display_data"
    },
    {
     "name": "stdout",
     "output_type": "stream",
     "text": [
      "\n",
      "Node:  IBS-like Symptoms\n",
      "Markov Blanket:  ['Abdominal Cramps', 'IBS', 'Bloating', 'Painful Bowel Movements', 'Nausea', 'Diarrhea', 'Endometriosis']\n"
     ]
    },
    {
     "data": {
      "text/html": [
       "\n",
       "        <iframe\n",
       "            width=\"960\"\n",
       "            height=\"500px\"\n",
       "            src=\"../figures/markov_blankets/blanket_IBS-like_Symptoms.html\"\n",
       "            frameborder=\"0\"\n",
       "            allowfullscreen\n",
       "        ></iframe>\n",
       "        "
      ],
      "text/plain": [
       "<IPython.lib.display.IFrame at 0x208af61aee0>"
      ]
     },
     "metadata": {},
     "output_type": "display_data"
    },
    {
     "name": "stdout",
     "output_type": "stream",
     "text": [
      "\n",
      "Node:  IBS\n",
      "Markov Blanket:  ['IBS-like Symptoms', 'Endometriosis']\n"
     ]
    },
    {
     "data": {
      "text/html": [
       "\n",
       "        <iframe\n",
       "            width=\"960\"\n",
       "            height=\"500px\"\n",
       "            src=\"../figures/markov_blankets/blanket_IBS.html\"\n",
       "            frameborder=\"0\"\n",
       "            allowfullscreen\n",
       "        ></iframe>\n",
       "        "
      ],
      "text/plain": [
       "<IPython.lib.display.IFrame at 0x208b01b1250>"
      ]
     },
     "metadata": {},
     "output_type": "display_data"
    },
    {
     "name": "stdout",
     "output_type": "stream",
     "text": [
      "\n",
      "Node:  Infertility\n",
      "Markov Blanket:  ['Endometriosis']\n"
     ]
    },
    {
     "data": {
      "text/html": [
       "\n",
       "        <iframe\n",
       "            width=\"960\"\n",
       "            height=\"500px\"\n",
       "            src=\"../figures/markov_blankets/blanket_Infertility.html\"\n",
       "            frameborder=\"0\"\n",
       "            allowfullscreen\n",
       "        ></iframe>\n",
       "        "
      ],
      "text/plain": [
       "<IPython.lib.display.IFrame at 0x208af61a5e0>"
      ]
     },
     "metadata": {},
     "output_type": "display_data"
    },
    {
     "name": "stdout",
     "output_type": "stream",
     "text": [
      "\n",
      "Node:  Chronic Fatigue\n",
      "Markov Blanket:  ['Endometriosis']\n"
     ]
    },
    {
     "data": {
      "text/html": [
       "\n",
       "        <iframe\n",
       "            width=\"960\"\n",
       "            height=\"500px\"\n",
       "            src=\"../figures/markov_blankets/blanket_Chronic_Fatigue.html\"\n",
       "            frameborder=\"0\"\n",
       "            allowfullscreen\n",
       "        ></iframe>\n",
       "        "
      ],
      "text/plain": [
       "<IPython.lib.display.IFrame at 0x208aff925b0>"
      ]
     },
     "metadata": {},
     "output_type": "display_data"
    },
    {
     "name": "stdout",
     "output_type": "stream",
     "text": [
      "\n",
      "Node:  Heavy Menstrual Bleeding\n",
      "Markov Blanket:  ['Endometriosis']\n"
     ]
    },
    {
     "data": {
      "text/html": [
       "\n",
       "        <iframe\n",
       "            width=\"960\"\n",
       "            height=\"500px\"\n",
       "            src=\"../figures/markov_blankets/blanket_Heavy_Menstrual_Bleeding.html\"\n",
       "            frameborder=\"0\"\n",
       "            allowfullscreen\n",
       "        ></iframe>\n",
       "        "
      ],
      "text/plain": [
       "<IPython.lib.display.IFrame at 0x208afdcd670>"
      ]
     },
     "metadata": {},
     "output_type": "display_data"
    },
    {
     "name": "stdout",
     "output_type": "stream",
     "text": [
      "\n",
      "Node:  Depression / Anxiety\n",
      "Markov Blanket:  ['Endometriosis']\n"
     ]
    },
    {
     "data": {
      "text/html": [
       "\n",
       "        <iframe\n",
       "            width=\"960\"\n",
       "            height=\"500px\"\n",
       "            src=\"../figures/markov_blankets/blanket_Depression__Anxiety.html\"\n",
       "            frameborder=\"0\"\n",
       "            allowfullscreen\n",
       "        ></iframe>\n",
       "        "
      ],
      "text/plain": [
       "<IPython.lib.display.IFrame at 0x208b143a250>"
      ]
     },
     "metadata": {},
     "output_type": "display_data"
    },
    {
     "name": "stdout",
     "output_type": "stream",
     "text": [
      "\n",
      "Node:  Pain During Intercourse\n",
      "Markov Blanket:  ['Endometriosis']\n"
     ]
    },
    {
     "data": {
      "text/html": [
       "\n",
       "        <iframe\n",
       "            width=\"960\"\n",
       "            height=\"500px\"\n",
       "            src=\"../figures/markov_blankets/blanket_Pain_During_Intercourse.html\"\n",
       "            frameborder=\"0\"\n",
       "            allowfullscreen\n",
       "        ></iframe>\n",
       "        "
      ],
      "text/plain": [
       "<IPython.lib.display.IFrame at 0x208af61aee0>"
      ]
     },
     "metadata": {},
     "output_type": "display_data"
    },
    {
     "name": "stdout",
     "output_type": "stream",
     "text": [
      "\n",
      "Node:  Painful Periods\n",
      "Markov Blanket:  ['Endometriosis']\n"
     ]
    },
    {
     "data": {
      "text/html": [
       "\n",
       "        <iframe\n",
       "            width=\"960\"\n",
       "            height=\"500px\"\n",
       "            src=\"../figures/markov_blankets/blanket_Painful_Periods.html\"\n",
       "            frameborder=\"0\"\n",
       "            allowfullscreen\n",
       "        ></iframe>\n",
       "        "
      ],
      "text/plain": [
       "<IPython.lib.display.IFrame at 0x208b143ad30>"
      ]
     },
     "metadata": {},
     "output_type": "display_data"
    },
    {
     "name": "stdout",
     "output_type": "stream",
     "text": [
      "\n",
      "Node:  Ovarian Cysts\n",
      "Markov Blanket:  ['Endometriosis']\n"
     ]
    },
    {
     "data": {
      "text/html": [
       "\n",
       "        <iframe\n",
       "            width=\"960\"\n",
       "            height=\"500px\"\n",
       "            src=\"../figures/markov_blankets/blanket_Ovarian_Cysts.html\"\n",
       "            frameborder=\"0\"\n",
       "            allowfullscreen\n",
       "        ></iframe>\n",
       "        "
      ],
      "text/plain": [
       "<IPython.lib.display.IFrame at 0x208b1426df0>"
      ]
     },
     "metadata": {},
     "output_type": "display_data"
    },
    {
     "name": "stdout",
     "output_type": "stream",
     "text": [
      "\n",
      "Node:  Painful Bowel Movements\n",
      "Markov Blanket:  ['IBS-like Symptoms']\n"
     ]
    },
    {
     "data": {
      "text/html": [
       "\n",
       "        <iframe\n",
       "            width=\"960\"\n",
       "            height=\"500px\"\n",
       "            src=\"../figures/markov_blankets/blanket_Painful_Bowel_Movements.html\"\n",
       "            frameborder=\"0\"\n",
       "            allowfullscreen\n",
       "        ></iframe>\n",
       "        "
      ],
      "text/plain": [
       "<IPython.lib.display.IFrame at 0x208afe55760>"
      ]
     },
     "metadata": {},
     "output_type": "display_data"
    },
    {
     "name": "stdout",
     "output_type": "stream",
     "text": [
      "\n",
      "Node:  Diarrhea\n",
      "Markov Blanket:  ['IBS-like Symptoms']\n"
     ]
    },
    {
     "data": {
      "text/html": [
       "\n",
       "        <iframe\n",
       "            width=\"960\"\n",
       "            height=\"500px\"\n",
       "            src=\"../figures/markov_blankets/blanket_Diarrhea.html\"\n",
       "            frameborder=\"0\"\n",
       "            allowfullscreen\n",
       "        ></iframe>\n",
       "        "
      ],
      "text/plain": [
       "<IPython.lib.display.IFrame at 0x208b00faf10>"
      ]
     },
     "metadata": {},
     "output_type": "display_data"
    },
    {
     "name": "stdout",
     "output_type": "stream",
     "text": [
      "\n",
      "Node:  Nausea\n",
      "Markov Blanket:  ['IBS-like Symptoms']\n"
     ]
    },
    {
     "data": {
      "text/html": [
       "\n",
       "        <iframe\n",
       "            width=\"960\"\n",
       "            height=\"500px\"\n",
       "            src=\"../figures/markov_blankets/blanket_Nausea.html\"\n",
       "            frameborder=\"0\"\n",
       "            allowfullscreen\n",
       "        ></iframe>\n",
       "        "
      ],
      "text/plain": [
       "<IPython.lib.display.IFrame at 0x208b14413d0>"
      ]
     },
     "metadata": {},
     "output_type": "display_data"
    },
    {
     "name": "stdout",
     "output_type": "stream",
     "text": [
      "\n",
      "Node:  Bloating\n",
      "Markov Blanket:  ['IBS-like Symptoms']\n"
     ]
    },
    {
     "data": {
      "text/html": [
       "\n",
       "        <iframe\n",
       "            width=\"960\"\n",
       "            height=\"500px\"\n",
       "            src=\"../figures/markov_blankets/blanket_Bloating.html\"\n",
       "            frameborder=\"0\"\n",
       "            allowfullscreen\n",
       "        ></iframe>\n",
       "        "
      ],
      "text/plain": [
       "<IPython.lib.display.IFrame at 0x208b14413d0>"
      ]
     },
     "metadata": {},
     "output_type": "display_data"
    },
    {
     "name": "stdout",
     "output_type": "stream",
     "text": [
      "\n",
      "Node:  Abdominal Cramps\n",
      "Markov Blanket:  ['IBS-like Symptoms']\n"
     ]
    },
    {
     "data": {
      "text/html": [
       "\n",
       "        <iframe\n",
       "            width=\"960\"\n",
       "            height=\"500px\"\n",
       "            src=\"../figures/markov_blankets/blanket_Abdominal_Cramps.html\"\n",
       "            frameborder=\"0\"\n",
       "            allowfullscreen\n",
       "        ></iframe>\n",
       "        "
      ],
      "text/plain": [
       "<IPython.lib.display.IFrame at 0x208b00d3250>"
      ]
     },
     "metadata": {},
     "output_type": "display_data"
    }
   ],
   "source": [
    "for node in endobayes.nodes():\n",
    "    blanket = endobayes.get_markov_blanket(node)\n",
    "    filename = f\"blanket_{node.replace(' ', '_').replace('/', '')}.html\"\n",
    "    print('\\nNode: ', node)\n",
    "    print('Markov Blanket: ', blanket)\n",
    "    figure, path = show_markov_blanket(endobayes,\n",
    "                                       filename=filename,\n",
    "                                       initial_node=node, \n",
    "                                       blanket=blanket)\n",
    "    display(figure.show(path))"
   ]
  },
  {
   "cell_type": "markdown",
   "id": "cd984a30",
   "metadata": {
    "id": "cd984a30"
   },
   "source": [
    "### **Active Trails**\n",
    "When analyzing our network structure, we say that a path $X_1$ → $X_2$ → $\\cdots$ → $X_k$ is an active trail when variables $O = \\left\\{ X_{i1},…,X_{in} \\right\\} $ are observed if for each consecutive triplet in the trail:\n",
    "* The triplet is oth the form $X_{i-1}$ → $X_i$ → $X_{i+1}$ and $X_i$ is not observed ($X_i \\notin  O$). <br> Note that this must also be true when all the arrows point in the other direction and is called **head-to-tail** active trail.\n",
    "* The triplet is of the form $X_{i-1}$ ← $X_i$ → $X_{i+1}$ and $X_i$ is not observed ($X_i \\notin  O$). This is called **tail-to-tail** active trail.\n",
    "* The triplet is of the form $X_{i-1}$ → $X_i$ ← $X_{i+1}$  and $X_i$ or one of its descendents is observed. This is called **head-to-head** active trail.\n",
    "\n",
    "We also know that, two variables $X_i$ and $X_j$ in a bayesian network are independent if there's no active trail between them.\n",
    "\n",
    "We'll now show some simple active trails in our network and how they can be broken by new incoming evidence. In the code cells below, the starting node of the trail is depicted in yellow, while the ending node is in blue: the arcs taking part in the path between them are green when the trail is active and red otherwise."
   ]
  },
  {
   "cell_type": "code",
   "execution_count": 29,
   "id": "d491b47a",
   "metadata": {
    "id": "d491b47a"
   },
   "outputs": [],
   "source": [
    "ACTIVE_TRAILS_PATH = '../figures/active_trails/'\n",
    "\n",
    "def is_active_trail(model, start, end, observed):\n",
    "    return end in model.active_trail_nodes(start, observed, include_latents=True)[start]\n",
    "\n",
    "def show_active_trail(network, trail=[], evidence=[]):\n",
    "    net = Network(directed=True, notebook=True, layout=True, width=960)\n",
    "    nodes = network.nodes()\n",
    "    edges = network.edges()\n",
    "    \n",
    "    node_levels = [1 if node in RISK_FACTORS else \n",
    "                   2 if node == 'Endometriosis' else 4 \n",
    "                   if node in ['Painful Bowel Movements', 'Diarrhea', 'Nausea', 'Bloating', 'Abdominal Cramps'] \n",
    "                   else 3 for node in nodes]\n",
    "    \n",
    "    node_colors = ['#f3bd19' if node == trail[0] else\n",
    "                   '#2478b7' if node == trail[-1] else \n",
    "                   '#f8e7ee' if node in evidence else\n",
    "                   '#9996a1' for node in nodes]\n",
    "    \n",
    "    # Check if there's an active path between initial and final node\n",
    "    is_active = is_active_trail(network, start=trail[0], end=trail[-1], observed=evidence)\n",
    "    msg = 'active' if is_active else 'not active'\n",
    "    print('The provided trail is ' + msg + '.')\n",
    "        \n",
    "    for node, level, color in zip(nodes, node_levels, node_colors):     \n",
    "        net.add_node(node, level=level, color=color)\n",
    "    \n",
    "    trail_edges = []\n",
    "    for i in range(1, len(trail)):\n",
    "        if (trail[i-1], trail[i]) in edges:\n",
    "            trail_edges.append((trail[i-1], trail[i]))\n",
    "        else:\n",
    "            trail_edges.append((trail[i], trail[i-1]))\n",
    "            \n",
    "    edge_color = '#4abb5f' if is_active else '\t#da472d'\n",
    "        \n",
    "    for edge in edges:\n",
    "        if edge in trail_edges:\n",
    "            net.add_edge(edge[0], edge[1], color=edge_color, width=3)\n",
    "        else:\n",
    "            net.add_edge(edge[0], edge[1])\n",
    "            \n",
    "    net.set_options(\"\"\"\n",
    "    var options = {\n",
    "      \"edges\": {\n",
    "        \"color\": {\n",
    "          \"inherit\": false\n",
    "        },\n",
    "        \"smooth\": false\n",
    "      },\n",
    "      \"layout\": {\n",
    "        \"hierarchical\": {\n",
    "          \"enabled\": true\n",
    "        }\n",
    "      },\n",
    "      \"physics\": {\n",
    "        \"hierarchicalRepulsion\": {\n",
    "          \"centralGravity\": 0,\n",
    "          \"nodeDistance\": 160\n",
    "        },\n",
    "        \"minVelocity\": 0.75,\n",
    "        \"solver\": \"hierarchicalRepulsion\"\n",
    "      }\n",
    "    }\n",
    "    \"\"\") \n",
    "    return net"
   ]
  },
  {
   "cell_type": "markdown",
   "id": "d1e15be3",
   "metadata": {
    "id": "d1e15be3"
   },
   "source": [
    "**Head-to-Tail active trail**\n",
    "\n",
    "Without any evidence, we have two active trails going from `Endometriosis` to `Nausea`, which we'll show in the following cells. Note that, despite the arcs direction, these trails are also active when the information flows from `Nausea` to `Endometriosis`, (i.e.: when we are following an evidential resoning pattern instead of a causal one)."
   ]
  },
  {
   "cell_type": "code",
   "execution_count": 30,
   "id": "665bc15d",
   "metadata": {
    "colab": {
     "base_uri": "https://localhost:8080/",
     "height": 575
    },
    "id": "665bc15d",
    "outputId": "eabec993-0c0a-4229-f68f-94a4ae5f0881"
   },
   "outputs": [
    {
     "name": "stdout",
     "output_type": "stream",
     "text": [
      "The provided trail is active.\n"
     ]
    },
    {
     "data": {
      "text/html": [
       "\n",
       "        <iframe\n",
       "            width=\"960\"\n",
       "            height=\"500px\"\n",
       "            src=\"../figures/active_trails/endo_nausea_active1.html\"\n",
       "            frameborder=\"0\"\n",
       "            allowfullscreen\n",
       "        ></iframe>\n",
       "        "
      ],
      "text/plain": [
       "<IPython.lib.display.IFrame at 0x208af61a5e0>"
      ]
     },
     "execution_count": 30,
     "metadata": {},
     "output_type": "execute_result"
    }
   ],
   "source": [
    "figure = show_active_trail(endobayes, trail=['Endometriosis', 'IBS-like Symptoms', 'Nausea'])\n",
    "figure.show(ACTIVE_TRAILS_PATH + 'endo_nausea_active1.html')"
   ]
  },
  {
   "cell_type": "code",
   "execution_count": 31,
   "id": "234d7442",
   "metadata": {
    "colab": {
     "base_uri": "https://localhost:8080/",
     "height": 575
    },
    "id": "234d7442",
    "outputId": "32fd00fa-d240-4a1f-ec6d-337e4c4c827b"
   },
   "outputs": [
    {
     "name": "stdout",
     "output_type": "stream",
     "text": [
      "The provided trail is active.\n"
     ]
    },
    {
     "data": {
      "text/html": [
       "\n",
       "        <iframe\n",
       "            width=\"960\"\n",
       "            height=\"500px\"\n",
       "            src=\"../figures/active_trails/endo_nausea_active2.html\"\n",
       "            frameborder=\"0\"\n",
       "            allowfullscreen\n",
       "        ></iframe>\n",
       "        "
      ],
      "text/plain": [
       "<IPython.lib.display.IFrame at 0x208b00d45e0>"
      ]
     },
     "execution_count": 31,
     "metadata": {},
     "output_type": "execute_result"
    }
   ],
   "source": [
    "figure = show_active_trail(endobayes, trail=['Endometriosis', 'IBS', 'IBS-like Symptoms', 'Nausea'])\n",
    "figure.show(ACTIVE_TRAILS_PATH + 'endo_nausea_active2.html')"
   ]
  },
  {
   "cell_type": "markdown",
   "id": "90553413",
   "metadata": {
    "id": "90553413"
   },
   "source": [
    "If however we add `IBS` to our evidence, the second trail we've shown gets broken. Still, `Nausa` is reachable from `Endometriosis` - and vice versa - using the first trail: indeed, the information can still flow from `Endometriosis` to `Nausea` using the path `Endometriosis` -> `IBS-like Symptoms` -> `Nausea`, as we show now."
   ]
  },
  {
   "cell_type": "code",
   "execution_count": 32,
   "id": "2dea75dc",
   "metadata": {
    "colab": {
     "base_uri": "https://localhost:8080/",
     "height": 575
    },
    "id": "2dea75dc",
    "outputId": "b5c03db4-5cd7-468e-f088-b34273461678"
   },
   "outputs": [
    {
     "name": "stdout",
     "output_type": "stream",
     "text": [
      "The provided trail is active.\n"
     ]
    },
    {
     "data": {
      "text/html": [
       "\n",
       "        <iframe\n",
       "            width=\"960\"\n",
       "            height=\"500px\"\n",
       "            src=\"../figures/active_trails/endo_nauesa_broken_by_ibs.html\"\n",
       "            frameborder=\"0\"\n",
       "            allowfullscreen\n",
       "        ></iframe>\n",
       "        "
      ],
      "text/plain": [
       "<IPython.lib.display.IFrame at 0x208b00d4940>"
      ]
     },
     "execution_count": 32,
     "metadata": {},
     "output_type": "execute_result"
    }
   ],
   "source": [
    "figure = show_active_trail(endobayes, trail=['Endometriosis', 'IBS-like Symptoms', 'Nausea'], evidence=['IBS'])\n",
    "figure.show(ACTIVE_TRAILS_PATH + 'endo_nauesa_broken_by_ibs.html')"
   ]
  },
  {
   "cell_type": "markdown",
   "id": "3b4665eb",
   "metadata": {
    "id": "3b4665eb"
   },
   "source": [
    "Finally, having `IBS-like Symptoms` in our evidence breaks all the possible active trails between `Endoemtriosis` and `Nausea`, effectively making them independent one from the other once the evidence is known."
   ]
  },
  {
   "cell_type": "code",
   "execution_count": 33,
   "id": "7136ca38",
   "metadata": {
    "colab": {
     "base_uri": "https://localhost:8080/",
     "height": 575
    },
    "id": "7136ca38",
    "outputId": "907705d9-5652-4ddc-8d74-2a514354ca9f"
   },
   "outputs": [
    {
     "name": "stdout",
     "output_type": "stream",
     "text": [
      "The provided trail is not active.\n"
     ]
    },
    {
     "data": {
      "text/html": [
       "\n",
       "        <iframe\n",
       "            width=\"960\"\n",
       "            height=\"500px\"\n",
       "            src=\"../figures/active_trails/endo_nausea_broken1.html\"\n",
       "            frameborder=\"0\"\n",
       "            allowfullscreen\n",
       "        ></iframe>\n",
       "        "
      ],
      "text/plain": [
       "<IPython.lib.display.IFrame at 0x208b013c2b0>"
      ]
     },
     "execution_count": 33,
     "metadata": {},
     "output_type": "execute_result"
    }
   ],
   "source": [
    "figure = show_active_trail(endobayes, trail=['Endometriosis', 'IBS-like Symptoms', 'Nausea'], evidence=['IBS-like Symptoms'])\n",
    "figure.show(ACTIVE_TRAILS_PATH + 'endo_nausea_broken1.html')"
   ]
  },
  {
   "cell_type": "code",
   "execution_count": 34,
   "id": "05941f31",
   "metadata": {
    "colab": {
     "base_uri": "https://localhost:8080/",
     "height": 575
    },
    "id": "05941f31",
    "outputId": "61e6f75e-0a9a-44f3-920e-0c3305843ddd"
   },
   "outputs": [
    {
     "name": "stdout",
     "output_type": "stream",
     "text": [
      "The provided trail is not active.\n"
     ]
    },
    {
     "data": {
      "text/html": [
       "\n",
       "        <iframe\n",
       "            width=\"960\"\n",
       "            height=\"500px\"\n",
       "            src=\"../figures/active_trails/endo_nausea_broken2.html\"\n",
       "            frameborder=\"0\"\n",
       "            allowfullscreen\n",
       "        ></iframe>\n",
       "        "
      ],
      "text/plain": [
       "<IPython.lib.display.IFrame at 0x208b013c670>"
      ]
     },
     "execution_count": 34,
     "metadata": {},
     "output_type": "execute_result"
    }
   ],
   "source": [
    "figure = show_active_trail(endobayes, trail=['Endometriosis', 'IBS', 'IBS-like Symptoms', 'Nausea'], evidence=['IBS-like Symptoms'])\n",
    "figure.show(ACTIVE_TRAILS_PATH + 'endo_nausea_broken2.html')"
   ]
  },
  {
   "cell_type": "code",
   "execution_count": 35,
   "id": "bcb75edd",
   "metadata": {
    "colab": {
     "base_uri": "https://localhost:8080/",
     "height": 555
    },
    "id": "bcb75edd",
    "outputId": "44d60bdf-95df-4c21-e565-b1d3564ca5cf",
    "scrolled": true
   },
   "outputs": [
    {
     "name": "stdout",
     "output_type": "stream",
     "text": [
      "The provided trail is not active.\n"
     ]
    },
    {
     "data": {
      "text/html": [
       "\n",
       "        <iframe\n",
       "            width=\"960\"\n",
       "            height=\"500px\"\n",
       "            src=\"../figures/active_trails/nausea_endo_broken.html\"\n",
       "            frameborder=\"0\"\n",
       "            allowfullscreen\n",
       "        ></iframe>\n",
       "        "
      ],
      "text/plain": [
       "<IPython.lib.display.IFrame at 0x208aff925b0>"
      ]
     },
     "execution_count": 35,
     "metadata": {},
     "output_type": "execute_result"
    }
   ],
   "source": [
    "figure = show_active_trail(endobayes, trail=['Nausea', 'IBS-like Symptoms', 'IBS', 'Endometriosis'], evidence=['IBS-like Symptoms'])\n",
    "figure.show(ACTIVE_TRAILS_PATH + 'nausea_endo_broken.html')"
   ]
  },
  {
   "cell_type": "markdown",
   "id": "7505805e",
   "metadata": {
    "id": "7505805e"
   },
   "source": [
    "**Tail-to-tail active trail:** \n",
    "\n",
    "Let's now consider the trail going from `Chronic Fatigue` to `Ovarian Cysts` (and viceversa), which is initially active without any evidence"
   ]
  },
  {
   "cell_type": "code",
   "execution_count": 36,
   "id": "94ee9be3",
   "metadata": {
    "id": "94ee9be3"
   },
   "outputs": [
    {
     "name": "stdout",
     "output_type": "stream",
     "text": [
      "The provided trail is active.\n"
     ]
    },
    {
     "data": {
      "text/html": [
       "\n",
       "        <iframe\n",
       "            width=\"960\"\n",
       "            height=\"500px\"\n",
       "            src=\"../figures/active_trails/fatigue_cysts_active.html\"\n",
       "            frameborder=\"0\"\n",
       "            allowfullscreen\n",
       "        ></iframe>\n",
       "        "
      ],
      "text/plain": [
       "<IPython.lib.display.IFrame at 0x208b143a220>"
      ]
     },
     "execution_count": 36,
     "metadata": {},
     "output_type": "execute_result"
    }
   ],
   "source": [
    "figure = show_active_trail(endobayes, trail=['Chronic Fatigue', 'Endometriosis', 'Ovarian Cysts'])\n",
    "figure.show(ACTIVE_TRAILS_PATH + 'fatigue_cysts_active.html')"
   ]
  },
  {
   "cell_type": "markdown",
   "id": "1b3e3744",
   "metadata": {
    "id": "1b3e3744"
   },
   "source": [
    "We'll now show how knowing whether the patient suffers from `Endometriosis `blocks this path and makes the two variables independent one from the other given the evidence."
   ]
  },
  {
   "cell_type": "code",
   "execution_count": 37,
   "id": "b6853e76",
   "metadata": {
    "id": "b6853e76"
   },
   "outputs": [
    {
     "name": "stdout",
     "output_type": "stream",
     "text": [
      "The provided trail is not active.\n"
     ]
    },
    {
     "data": {
      "text/html": [
       "\n",
       "        <iframe\n",
       "            width=\"960\"\n",
       "            height=\"500px\"\n",
       "            src=\"../figures/active_trails/fatigue_cysts_broken.html\"\n",
       "            frameborder=\"0\"\n",
       "            allowfullscreen\n",
       "        ></iframe>\n",
       "        "
      ],
      "text/plain": [
       "<IPython.lib.display.IFrame at 0x208b07551c0>"
      ]
     },
     "execution_count": 37,
     "metadata": {},
     "output_type": "execute_result"
    }
   ],
   "source": [
    "figure = show_active_trail(endobayes, trail=['Chronic Fatigue', 'Endometriosis', 'Ovarian Cysts'], evidence=['Endometriosis'])\n",
    "figure.show(ACTIVE_TRAILS_PATH + 'fatigue_cysts_broken.html')"
   ]
  },
  {
   "cell_type": "markdown",
   "id": "312b55a6",
   "metadata": {
    "id": "312b55a6"
   },
   "source": [
    "**Head-to-Head active trail:** \n",
    "\n",
    "Finally, let's consider the variables `Family History` and `Invasive Pelvic Procedure`. Without any evidence, they are marginally independent and there's no active trail between them. However, as we'll show, when we have `Endometriosis` among our evidence, the path between them gets unblocked and we have an active trail, meaning that they are no longer independent."
   ]
  },
  {
   "cell_type": "code",
   "execution_count": 38,
   "id": "3d5ae3a8",
   "metadata": {
    "colab": {
     "base_uri": "https://localhost:8080/",
     "height": 575
    },
    "id": "3d5ae3a8",
    "outputId": "67ed1fa1-b9f4-42d5-a8fd-00cb08cf17b0"
   },
   "outputs": [
    {
     "name": "stdout",
     "output_type": "stream",
     "text": [
      "The provided trail is not active.\n"
     ]
    },
    {
     "data": {
      "text/html": [
       "\n",
       "        <iframe\n",
       "            width=\"960\"\n",
       "            height=\"500px\"\n",
       "            src=\"../figures/active_trails/family_pelvic_procedure_broken.html\"\n",
       "            frameborder=\"0\"\n",
       "            allowfullscreen\n",
       "        ></iframe>\n",
       "        "
      ],
      "text/plain": [
       "<IPython.lib.display.IFrame at 0x208aff9ddc0>"
      ]
     },
     "execution_count": 38,
     "metadata": {},
     "output_type": "execute_result"
    }
   ],
   "source": [
    "figure = show_active_trail(endobayes, trail=['Family History', 'Endometriosis', 'Invasive Pelvic Procedure'])\n",
    "figure.show(ACTIVE_TRAILS_PATH + 'family_pelvic_procedure_broken.html')"
   ]
  },
  {
   "cell_type": "code",
   "execution_count": 39,
   "id": "85546c27",
   "metadata": {
    "colab": {
     "base_uri": "https://localhost:8080/",
     "height": 555
    },
    "id": "85546c27",
    "outputId": "68996d7b-0e78-4ed6-ef84-f7a6485e3bfc"
   },
   "outputs": [
    {
     "name": "stdout",
     "output_type": "stream",
     "text": [
      "The provided trail is active.\n"
     ]
    },
    {
     "data": {
      "text/html": [
       "\n",
       "        <iframe\n",
       "            width=\"960\"\n",
       "            height=\"500px\"\n",
       "            src=\"../figures/active_trails/family_pelvic_procedure_active.html\"\n",
       "            frameborder=\"0\"\n",
       "            allowfullscreen\n",
       "        ></iframe>\n",
       "        "
      ],
      "text/plain": [
       "<IPython.lib.display.IFrame at 0x208b0755100>"
      ]
     },
     "execution_count": 39,
     "metadata": {},
     "output_type": "execute_result"
    }
   ],
   "source": [
    "figure = show_active_trail(endobayes, trail=['Family History', 'Endometriosis', 'Invasive Pelvic Procedure'], evidence=['Endometriosis'])\n",
    "figure.show(ACTIVE_TRAILS_PATH + 'family_pelvic_procedure_active.html')"
   ]
  },
  {
   "cell_type": "markdown",
   "id": "887650dc",
   "metadata": {
    "id": "887650dc"
   },
   "source": [
    "## **Inference**\n",
    "We'll now show how to do both exact and approximate inference on our network by using two simple case studies to mimic how this network can actually be used to help in diagnosis. In particular, exact inference on the model is done using pgmpy's `Variable Elimination` method, while for the approximate inference we choose to use `Gibbs Sampling`, a Markov chain Monte Carlo (MCMC) algorithm for generating a random sample from a posterior distribution."
   ]
  },
  {
   "cell_type": "markdown",
   "id": "3eaafe87",
   "metadata": {
    "id": "3eaafe87"
   },
   "source": [
    "### **Exact Inference: a case study**\n",
    "Our case study for exact inference will be the following: we need the probability that a patient has Endometriosis, kowing they have feel pain during intercourse, are bloated and have a family history of endometriosis, but they do not have neither IBS nor painful periods. As already stated, we'll use the VariableElimination method provided by pgmpy in order to compute the exact probability we require % Talk about the different variable orderings heuristics the method can use, how they differ + we decided to try them all to compare their performance on our task"
   ]
  },
  {
   "cell_type": "code",
   "execution_count": 62,
   "id": "f604425e",
   "metadata": {
    "colab": {
     "base_uri": "https://localhost:8080/",
     "height": 921
    },
    "id": "f604425e",
    "outputId": "d158daa0-34b2-403a-ce84-260d56336bb0"
   },
   "outputs": [],
   "source": [
    "EVIDENCE = {'Pain During Intercourse': 1,\n",
    "            'Painful Periods': 0,\n",
    "            'Bloating': 1,\n",
    "            'Family History': 1,\n",
    "            'IBS': 0}\n",
    "\n",
    "ordering_heuristics = ['MinFill', 'MinNeighbors','MinWeight','WeightedMinFill']\n",
    "inference = VariableElimination(endobayes)\n",
    "\n",
    "def run_query(target_var, evidence, print_output=True):\n",
    "    results = {\n",
    "        'Heuristic': [],\n",
    "        'Time': [],\n",
    "        'Variable Order': []\n",
    "    }\n",
    "    for order in ordering_heuristics:\n",
    "        if print_output:\n",
    "            print('Using ' + order)\n",
    "        start = time.time()\n",
    "        prob = inference.query([target_var],\n",
    "                              evidence,\n",
    "                              elimination_order=order,\n",
    "                              show_progress=False)\n",
    "        end = time.time() - start\n",
    "        results['Time'].append(end)\n",
    "        results['Heuristic'].append(order)\n",
    "        used_order = inference._get_elimination_order([target_var],\n",
    "                                                      evidence,\n",
    "                                                      elimination_order=order,\n",
    "                                                      show_progress=False)\n",
    "        results['Variable Order'].append(used_order)\n",
    "        if print_output:\n",
    "            print(prob)\n",
    "            print('----- Query solved in {:.4f} seconds -----\\n\\n'.format(end))\n",
    "    \n",
    "    res = pd.DataFrame(results)\n",
    "    return res"
   ]
  },
  {
   "cell_type": "code",
   "execution_count": 63,
   "id": "bASemQvMSwUA",
   "metadata": {
    "id": "bASemQvMSwUA"
   },
   "outputs": [
    {
     "name": "stdout",
     "output_type": "stream",
     "text": [
      "Using MinFill\n",
      "+------------------+----------------------+\n",
      "| Endometriosis    |   phi(Endometriosis) |\n",
      "+==================+======================+\n",
      "| Endometriosis(0) |               0.0894 |\n",
      "+------------------+----------------------+\n",
      "| Endometriosis(1) |               0.9106 |\n",
      "+------------------+----------------------+\n",
      "----- Query solved in 0.0210 seconds -----\n",
      "\n",
      "\n",
      "Using MinNeighbors\n",
      "+------------------+----------------------+\n",
      "| Endometriosis    |   phi(Endometriosis) |\n",
      "+==================+======================+\n",
      "| Endometriosis(0) |               0.0894 |\n",
      "+------------------+----------------------+\n",
      "| Endometriosis(1) |               0.9106 |\n",
      "+------------------+----------------------+\n",
      "----- Query solved in 0.0160 seconds -----\n",
      "\n",
      "\n",
      "Using MinWeight\n",
      "+------------------+----------------------+\n",
      "| Endometriosis    |   phi(Endometriosis) |\n",
      "+==================+======================+\n",
      "| Endometriosis(0) |               0.0894 |\n",
      "+------------------+----------------------+\n",
      "| Endometriosis(1) |               0.9106 |\n",
      "+------------------+----------------------+\n",
      "----- Query solved in 0.0140 seconds -----\n",
      "\n",
      "\n",
      "Using WeightedMinFill\n",
      "+------------------+----------------------+\n",
      "| Endometriosis    |   phi(Endometriosis) |\n",
      "+==================+======================+\n",
      "| Endometriosis(0) |               0.0894 |\n",
      "+------------------+----------------------+\n",
      "| Endometriosis(1) |               0.9106 |\n",
      "+------------------+----------------------+\n",
      "----- Query solved in 0.0130 seconds -----\n",
      "\n",
      "\n"
     ]
    },
    {
     "data": {
      "text/html": [
       "<div>\n",
       "<style scoped>\n",
       "    .dataframe tbody tr th:only-of-type {\n",
       "        vertical-align: middle;\n",
       "    }\n",
       "\n",
       "    .dataframe tbody tr th {\n",
       "        vertical-align: top;\n",
       "    }\n",
       "\n",
       "    .dataframe thead th {\n",
       "        text-align: right;\n",
       "    }\n",
       "</style>\n",
       "<table border=\"1\" class=\"dataframe\">\n",
       "  <thead>\n",
       "    <tr style=\"text-align: right;\">\n",
       "      <th></th>\n",
       "      <th>Heuristic</th>\n",
       "      <th>Time</th>\n",
       "      <th>Variable Order</th>\n",
       "    </tr>\n",
       "  </thead>\n",
       "  <tbody>\n",
       "    <tr>\n",
       "      <th>0</th>\n",
       "      <td>MinFill</td>\n",
       "      <td>0.021001</td>\n",
       "      <td>[Invasive Pelvic Procedure, IBS-like Symptoms]</td>\n",
       "    </tr>\n",
       "    <tr>\n",
       "      <th>1</th>\n",
       "      <td>MinNeighbors</td>\n",
       "      <td>0.016000</td>\n",
       "      <td>[Invasive Pelvic Procedure, IBS-like Symptoms]</td>\n",
       "    </tr>\n",
       "    <tr>\n",
       "      <th>2</th>\n",
       "      <td>MinWeight</td>\n",
       "      <td>0.014032</td>\n",
       "      <td>[Invasive Pelvic Procedure, IBS-like Symptoms]</td>\n",
       "    </tr>\n",
       "    <tr>\n",
       "      <th>3</th>\n",
       "      <td>WeightedMinFill</td>\n",
       "      <td>0.013002</td>\n",
       "      <td>[Invasive Pelvic Procedure, IBS-like Symptoms]</td>\n",
       "    </tr>\n",
       "  </tbody>\n",
       "</table>\n",
       "</div>"
      ],
      "text/plain": [
       "         Heuristic      Time                                  Variable Order\n",
       "0          MinFill  0.021001  [Invasive Pelvic Procedure, IBS-like Symptoms]\n",
       "1     MinNeighbors  0.016000  [Invasive Pelvic Procedure, IBS-like Symptoms]\n",
       "2        MinWeight  0.014032  [Invasive Pelvic Procedure, IBS-like Symptoms]\n",
       "3  WeightedMinFill  0.013002  [Invasive Pelvic Procedure, IBS-like Symptoms]"
      ]
     },
     "execution_count": 63,
     "metadata": {},
     "output_type": "execute_result"
    }
   ],
   "source": [
    "result = run_query(target_var='Endometriosis', evidence=EVIDENCE)\n",
    "result"
   ]
  },
  {
   "cell_type": "markdown",
   "id": "f8ecd4fa",
   "metadata": {
    "id": "f8ecd4fa"
   },
   "source": [
    "As we can see, in this case the elimination order is exactly the same, no matter which heuristic we choose. Also, from the timing results, it seems that `MinWeight` might need less time in order to reach a conclusion; however, in order to verify whether this claim is true (i.e.: MinWeight consistently performs better than the other three heuristics for this query, and the results we got now aren't just due to chance), we shall now repeat the experiment ten times per heuristics and average the results."
   ]
  },
  {
   "cell_type": "code",
   "execution_count": 83,
   "id": "0EFJDgw_S_Y0",
   "metadata": {
    "id": "0EFJDgw_S_Y0"
   },
   "outputs": [
    {
     "data": {
      "text/plain": [
       "MinFill            0.014499\n",
       "MinNeighbors       0.014499\n",
       "MinWeight          0.014499\n",
       "WeightedMinFill    0.014499\n",
       "dtype: float64"
      ]
     },
     "execution_count": 83,
     "metadata": {},
     "output_type": "execute_result"
    }
   ],
   "source": [
    "mean_times = {}\n",
    "for heuristic in ordering_heuristics:\n",
    "    mean_times[heuristic] = []\n",
    "\n",
    "for _ in range(10):\n",
    "    res = run_query(target_var='Endometriosis', \n",
    "                    evidence=EVIDENCE, \n",
    "                    print_output=False)\n",
    "    for heuristic in ordering_heuristics:\n",
    "        mean_times[heuristic].append(res[res['Heuristic'] == 'MinFill']['Time'][0])\n",
    "  \n",
    "mean_times = pd.DataFrame(mean_times)\n",
    "mean_times.agg('mean')"
   ]
  },
  {
   "cell_type": "markdown",
   "id": "6d7b0050",
   "metadata": {},
   "source": [
    "Then, it's easy to note that the difference in timing we could see before is not actually significant, as repeating each experiment 10 times and averaging the results produces the above results. We can thus conclude that, for our simple case study, all the variable ordering heruristics work equally well."
   ]
  },
  {
   "cell_type": "markdown",
   "id": "d0be3ff3",
   "metadata": {
    "id": "d0be3ff3"
   },
   "source": [
    "### **Approximate Inference: a case study**\n",
    "For approximate inference, instead, our case study is the following: we need to know how likely it is for a patient to also have IBS when they have Endometriosis and suffer from nausea, bloating and ovarian cysts. As I said, the required probability will be approximated using Gibbs Sampling; in particular, we'll try many different sample sizes and - since the sampling process has a random component - we'll also repeat every sampling 10 times in order to average the results. Finally, we'll show the estimated mean probability for every sample size along with the 95% confidence interval."
   ]
  },
  {
   "cell_type": "code",
   "execution_count": 84,
   "id": "83d9d6b0",
   "metadata": {
    "id": "83d9d6b0"
   },
   "outputs": [],
   "source": [
    "def get_query_string(evidence_dict):\n",
    "    query_string = \"\"\n",
    "    for var, value in evidence_dict.items():\n",
    "        query_string += \"`\" + var + \"`\" + ' == ' + str(value)\n",
    "        if var != list(evidence_dict.keys())[-1]:\n",
    "            query_string += \" & \"\n",
    "    return query_string\n",
    "\n",
    "\n",
    "def get_gibbs_prob(samples, query_var, query_evidence, pos=True):\n",
    "    query_str = get_query_string(query_evidence)\n",
    "    den = samples.query(query_str).shape[0]\n",
    "    num = samples.query(\"`\" + query_var + \"`\" + ' == ' + str(pos) + ' & ' + query_str).shape[0]\n",
    "    return num / den if den else 0"
   ]
  },
  {
   "cell_type": "code",
   "execution_count": 85,
   "id": "8089681a",
   "metadata": {
    "colab": {
     "base_uri": "https://localhost:8080/",
     "height": 200,
     "referenced_widgets": [
      "f442ffa8019f4772a7ac2af51a8127cf",
      "5c967e92a9be41fbad70db8cd68de8d2",
      "4ee848f58e2f4f97911f0c7b90991870",
      "b712e292eecd43dc8596b8e1ba0e22d1",
      "7d81dbb222fe4dea99a2a39d4e5b1c94",
      "a9ebbbee00724437a5262c3fff1ef140",
      "a0b2c7358d834a6480086f61f38a4504",
      "90555f9b79a64138b0830035b1ebc92b",
      "3e96abf2475b4d9da25427785f7513e8",
      "6c577c8e35e3444ebb2ed3dfc8f99a96",
      "86287c8b851848ab8f4d752762ad1b47",
      "0dbadd25aace4c9ab9514325e232be0f",
      "599ba178b7e94a07af23cd4b3b9a81f7",
      "440efe0f481a49dea139e278771d4449",
      "c7c036b3d2f4479bbb86886e941e70ed",
      "20801ec13a374ede98684ac274224900",
      "e022e4e82a3c480aabd2df46b803d533",
      "374a8fa3f8d4491d80d08bedcc9ff0d2",
      "0862ec464bd9415f9f025e01636e1ebd",
      "59031ef73bbf467dac819b23d72ad2b4",
      "a11ff8bd8b7d4273b4e2d9804175bc74",
      "5faf1f0a97f3439f890378e117a82d70"
     ]
    },
    "id": "8089681a",
    "outputId": "0abd83c2-6811-4dde-bbd1-112b593791e7"
   },
   "outputs": [
    {
     "name": "stderr",
     "output_type": "stream",
     "text": [
      "Finding Elimination Order: : 100%|██████████████████████████████████████████████████████| 1/1 [00:00<00:00, 494.03it/s]\n",
      "Eliminating: IBS-like Symptoms: 100%|██████████████████████████████████████████████████| 1/1 [00:00<00:00, 1000.31it/s]"
     ]
    },
    {
     "name": "stdout",
     "output_type": "stream",
     "text": [
      "+--------+------------+\n",
      "| IBS    |   phi(IBS) |\n",
      "+========+============+\n",
      "| IBS(0) |     0.4531 |\n",
      "+--------+------------+\n",
      "| IBS(1) |     0.5469 |\n",
      "+--------+------------+\n"
     ]
    },
    {
     "name": "stderr",
     "output_type": "stream",
     "text": [
      "\n"
     ]
    }
   ],
   "source": [
    "# Let's first compute the real probability\n",
    "real_prob = inference.query(['IBS'],\n",
    "                {'Endometriosis': 1, \n",
    "                 'Nausea': 1, \n",
    "                 'Bloating': 1, \n",
    "                 'Ovarian Cysts': 1},\n",
    "                show_progress=True)\n",
    "\n",
    "print(real_prob)"
   ]
  },
  {
   "cell_type": "code",
   "execution_count": 89,
   "id": "6e72dcf3",
   "metadata": {
    "id": "6e72dcf3"
   },
   "outputs": [],
   "source": [
    "CONFIDENCE = 0.95\n",
    "RANGE = range(10, 5200, 100)\n",
    "\n",
    "gibbs_sampler = GibbsSampling(endobayes)\n",
    "\n",
    "def run_gibbs_experiment(query_var, \n",
    "                         query_evidence, \n",
    "                         pos=True, \n",
    "                         num_runs=10, \n",
    "                         sample_sizes=RANGE):\n",
    "    data = {}\n",
    "    for size in sample_sizes:\n",
    "        probs = []\n",
    "        for _ in range(num_runs):\n",
    "            samples = gibbs_sampler.sample(size=size, include_latents=True)\n",
    "            prob = get_gibbs_prob(samples, query_var, query_evidence, pos=pos)\n",
    "            probs.append(prob)\n",
    "            data[size] = probs\n",
    "    data = pd.DataFrame(data)\n",
    "    return data"
   ]
  },
  {
   "cell_type": "code",
   "execution_count": 87,
   "id": "603671b3",
   "metadata": {
    "id": "603671b3"
   },
   "outputs": [],
   "source": [
    "def get_ci_and_mean(data, ci=0.95):\n",
    "    mean = []\n",
    "    lb = []\n",
    "    ub = []\n",
    "    for col in data.columns:\n",
    "        m, c, s = data[col].agg(['mean', 'count', 'std'])\n",
    "        mean.append(m)\n",
    "        lb.append(m - (1 + ci)*s/math.sqrt(c))\n",
    "        ub.append(m + (1 + ci)*s/math.sqrt(c))\n",
    "    return mean, lb, ub\n",
    "\n",
    "def display_gibbs_results(mean, lb, ub, true_prob, sample_sizes=RANGE):\n",
    "    plt.fill_between(sample_sizes, ub, lb, color= 'tab:orange', alpha=.5, label = '95% CI')\n",
    "    plt.axhline(y=true_prob, color='r', linestyle='--', label = 'True prob')\n",
    "    plt.plot(sample_sizes, mean, linestyle='-', label = 'Gibbs prob')\n",
    "    plt.legend(loc = 'best')\n",
    "    plt.xlabel('Sample size')\n",
    "    plt.ylabel('Average probability')\n",
    "    plt.rcParams[\"figure.figsize\"] = (20,10)\n",
    "    plt.show()"
   ]
  },
  {
   "cell_type": "code",
   "execution_count": 88,
   "id": "Ur_HDkGIP3KX",
   "metadata": {
    "colab": {
     "base_uri": "https://localhost:8080/",
     "height": 1000,
     "referenced_widgets": [
      "20bd4a0510774ee4b4af96d5694f67ce",
      "eb212fa4503248f0a594c9235a91ec92",
      "b9f7244b3ec349a59b55831ed4ade82d",
      "2b38845dbcbb41129b5332561de2b210",
      "f69a506691194b619d7fba195461d3ad",
      "27c350eff4c743278d795ecf4f87b175",
      "1818e0d74b1c4f21b12335537e8033e9",
      "a0fcba256c5c478c86de614301cf0d9f",
      "4d9d45d4091943d6bcd9955bb788d70a",
      "729c35b7d12b4dd69e403000c83b764a",
      "0c0ba536b7804e7580eca66670edb7c3",
      "5cff1d3a26ed43bf9557eb7e2ba56202",
      "a8bda1567c624617bd2614a3f9b6e7dd",
      "c347326378224dca81e8bf935ad37d27",
      "23ab900ecb4a4c609c76304144c2b262",
      "32ec2e671245407581b8a872c0c66dc3",
      "75da2fd1394c4dbaaa6a975679f03ca0",
      "c9a042af69904627a4126a854af815dd",
      "a348f0bcd9c84f28859f5acb9e40a81c",
      "66e5f63680134593bd053ebe440d096c",
      "c1fad3da07ad4393983ef21442272fa7",
      "f887794c9968496c9d8d7213e254fd90"
     ]
    },
    "id": "Ur_HDkGIP3KX",
    "outputId": "6755e864-5e90-44b3-ed3f-ecbde4ca5a7a"
   },
   "outputs": [
    {
     "ename": "NameError",
     "evalue": "name 'gibbs_sampler' is not defined",
     "output_type": "error",
     "traceback": [
      "\u001b[1;31m---------------------------------------------------------------------------\u001b[0m",
      "\u001b[1;31mNameError\u001b[0m                                 Traceback (most recent call last)",
      "\u001b[1;32m~\\AppData\\Local\\Temp/ipykernel_3060/572290254.py\u001b[0m in \u001b[0;36m<module>\u001b[1;34m\u001b[0m\n\u001b[0;32m      1\u001b[0m \u001b[1;31m# Plotting Gibbs Sampling approximation of IBS=True\u001b[0m\u001b[1;33m\u001b[0m\u001b[1;33m\u001b[0m\u001b[1;33m\u001b[0m\u001b[0m\n\u001b[1;32m----> 2\u001b[1;33m \u001b[0mdata\u001b[0m \u001b[1;33m=\u001b[0m \u001b[0mrun_gibbs_experiment\u001b[0m\u001b[1;33m(\u001b[0m\u001b[1;34m'IBS'\u001b[0m\u001b[1;33m,\u001b[0m \u001b[1;33m{\u001b[0m\u001b[1;34m'Endometriosis'\u001b[0m\u001b[1;33m:\u001b[0m \u001b[1;36m1\u001b[0m\u001b[1;33m,\u001b[0m \u001b[1;34m'Nausea'\u001b[0m\u001b[1;33m:\u001b[0m \u001b[1;36m1\u001b[0m\u001b[1;33m,\u001b[0m \u001b[1;34m'Bloating'\u001b[0m\u001b[1;33m:\u001b[0m \u001b[1;36m1\u001b[0m\u001b[1;33m,\u001b[0m \u001b[1;34m'Ovarian Cysts'\u001b[0m\u001b[1;33m:\u001b[0m \u001b[1;36m1\u001b[0m\u001b[1;33m}\u001b[0m\u001b[1;33m,\u001b[0m \u001b[0mpos\u001b[0m\u001b[1;33m=\u001b[0m\u001b[1;32mTrue\u001b[0m\u001b[1;33m)\u001b[0m\u001b[1;33m;\u001b[0m\u001b[1;33m\u001b[0m\u001b[1;33m\u001b[0m\u001b[0m\n\u001b[0m\u001b[0;32m      3\u001b[0m \u001b[0mmean\u001b[0m\u001b[1;33m,\u001b[0m \u001b[0mlb\u001b[0m\u001b[1;33m,\u001b[0m \u001b[0mub\u001b[0m \u001b[1;33m=\u001b[0m \u001b[0mget_ci_and_mean\u001b[0m\u001b[1;33m(\u001b[0m\u001b[0mdata\u001b[0m\u001b[1;33m,\u001b[0m \u001b[0mci\u001b[0m\u001b[1;33m=\u001b[0m\u001b[0mconfidence_interval\u001b[0m\u001b[1;33m)\u001b[0m\u001b[1;33m\u001b[0m\u001b[1;33m\u001b[0m\u001b[0m\n\u001b[0;32m      4\u001b[0m \u001b[0mdisplay_gibbs_results\u001b[0m\u001b[1;33m(\u001b[0m\u001b[0mmean\u001b[0m\u001b[1;33m,\u001b[0m \u001b[0mlb\u001b[0m\u001b[1;33m,\u001b[0m \u001b[0mub\u001b[0m\u001b[1;33m,\u001b[0m \u001b[0mtrue_prob\u001b[0m\u001b[1;33m.\u001b[0m\u001b[0mvalues\u001b[0m\u001b[1;33m[\u001b[0m\u001b[1;36m1\u001b[0m\u001b[1;33m]\u001b[0m\u001b[1;33m)\u001b[0m\u001b[1;33m\u001b[0m\u001b[1;33m\u001b[0m\u001b[0m\n",
      "\u001b[1;32m~\\AppData\\Local\\Temp/ipykernel_3060/2583953488.py\u001b[0m in \u001b[0;36mrun_gibbs_experiment\u001b[1;34m(query_var, query_evidence, pos, num_runs, sample_sizes)\u001b[0m\n\u001b[0;32m     10\u001b[0m         \u001b[0mprobs\u001b[0m \u001b[1;33m=\u001b[0m \u001b[1;33m[\u001b[0m\u001b[1;33m]\u001b[0m\u001b[1;33m\u001b[0m\u001b[1;33m\u001b[0m\u001b[0m\n\u001b[0;32m     11\u001b[0m         \u001b[1;32mfor\u001b[0m \u001b[0m_\u001b[0m \u001b[1;32min\u001b[0m \u001b[0mrange\u001b[0m\u001b[1;33m(\u001b[0m\u001b[0mnum_runs\u001b[0m\u001b[1;33m)\u001b[0m\u001b[1;33m:\u001b[0m\u001b[1;33m\u001b[0m\u001b[1;33m\u001b[0m\u001b[0m\n\u001b[1;32m---> 12\u001b[1;33m             \u001b[0msamples\u001b[0m \u001b[1;33m=\u001b[0m \u001b[0mgibbs_sampler\u001b[0m\u001b[1;33m.\u001b[0m\u001b[0msample\u001b[0m\u001b[1;33m(\u001b[0m\u001b[0msize\u001b[0m\u001b[1;33m=\u001b[0m\u001b[0msize\u001b[0m\u001b[1;33m,\u001b[0m \u001b[0minclude_latents\u001b[0m\u001b[1;33m=\u001b[0m\u001b[1;32mTrue\u001b[0m\u001b[1;33m)\u001b[0m\u001b[1;33m\u001b[0m\u001b[1;33m\u001b[0m\u001b[0m\n\u001b[0m\u001b[0;32m     13\u001b[0m             \u001b[0mprob\u001b[0m \u001b[1;33m=\u001b[0m \u001b[0mget_gibbs_prob\u001b[0m\u001b[1;33m(\u001b[0m\u001b[0msamples\u001b[0m\u001b[1;33m,\u001b[0m \u001b[0mquery_var\u001b[0m\u001b[1;33m,\u001b[0m \u001b[0mquery_evidence\u001b[0m\u001b[1;33m,\u001b[0m \u001b[0mpos\u001b[0m\u001b[1;33m=\u001b[0m\u001b[0mpos\u001b[0m\u001b[1;33m)\u001b[0m\u001b[1;33m\u001b[0m\u001b[1;33m\u001b[0m\u001b[0m\n\u001b[0;32m     14\u001b[0m             \u001b[0mprobs\u001b[0m\u001b[1;33m.\u001b[0m\u001b[0mappend\u001b[0m\u001b[1;33m(\u001b[0m\u001b[0mprob\u001b[0m\u001b[1;33m)\u001b[0m\u001b[1;33m\u001b[0m\u001b[1;33m\u001b[0m\u001b[0m\n",
      "\u001b[1;31mNameError\u001b[0m: name 'gibbs_sampler' is not defined"
     ]
    }
   ],
   "source": [
    "# Plotting Gibbs Sampling approximation of IBS=True\n",
    "data = run_gibbs_experiment('IBS', {'Endometriosis': 1, 'Nausea': 1, 'Bloating': 1, 'Ovarian Cysts': 1}, pos=True);\n",
    "mean, lb, ub = get_ci_and_mean(data, ci=CONFIDENCE)\n",
    "display_gibbs_results(mean, lb, ub, real_prob.values[1])"
   ]
  },
  {
   "cell_type": "code",
   "execution_count": null,
   "id": "UrQUAwkZQCze",
   "metadata": {
    "id": "UrQUAwkZQCze"
   },
   "outputs": [],
   "source": [
    "# Plotting Gibbs Sampling approximation of IBS=False\n",
    "data = run_gibbs_experiment('IBS', {'Endometriosis': 1, 'Nausea': 1, 'Bloating': 1, 'Ovarian Cysts': 1}, pos=False);\n",
    "mean, lb, ub = get_ci_and_mean(data, ci=CONFIDENCE)\n",
    "display_gibbs_results(mean, lb, ub, real_prob.values[0])"
   ]
  }
 ],
 "metadata": {
  "colab": {
   "collapsed_sections": [],
   "name": "EndoBayes.ipynb",
   "provenance": []
  },
  "interpreter": {
   "hash": "32689e1473444254f254939308039720b4e14fd6ef983efaab96b1b5ad85bf74"
  },
  "kernelspec": {
   "display_name": "Python [conda env:endobayes]",
   "language": "python",
   "name": "conda-env-endobayes-py"
  },
  "language_info": {
   "codemirror_mode": {
    "name": "ipython",
    "version": 3
   },
   "file_extension": ".py",
   "mimetype": "text/x-python",
   "name": "python",
   "nbconvert_exporter": "python",
   "pygments_lexer": "ipython3",
   "version": "3.8.11"
  },
  "widgets": {
   "application/vnd.jupyter.widget-state+json": {
    "0862ec464bd9415f9f025e01636e1ebd": {
     "model_module": "@jupyter-widgets/controls",
     "model_module_version": "1.5.0",
     "model_name": "ProgressStyleModel",
     "state": {
      "_model_module": "@jupyter-widgets/controls",
      "_model_module_version": "1.5.0",
      "_model_name": "ProgressStyleModel",
      "_view_count": null,
      "_view_module": "@jupyter-widgets/base",
      "_view_module_version": "1.2.0",
      "_view_name": "StyleView",
      "bar_color": null,
      "description_width": ""
     }
    },
    "0c0ba536b7804e7580eca66670edb7c3": {
     "model_module": "@jupyter-widgets/base",
     "model_module_version": "1.2.0",
     "model_name": "LayoutModel",
     "state": {
      "_model_module": "@jupyter-widgets/base",
      "_model_module_version": "1.2.0",
      "_model_name": "LayoutModel",
      "_view_count": null,
      "_view_module": "@jupyter-widgets/base",
      "_view_module_version": "1.2.0",
      "_view_name": "LayoutView",
      "align_content": null,
      "align_items": null,
      "align_self": null,
      "border": null,
      "bottom": null,
      "display": null,
      "flex": null,
      "flex_flow": null,
      "grid_area": null,
      "grid_auto_columns": null,
      "grid_auto_flow": null,
      "grid_auto_rows": null,
      "grid_column": null,
      "grid_gap": null,
      "grid_row": null,
      "grid_template_areas": null,
      "grid_template_columns": null,
      "grid_template_rows": null,
      "height": null,
      "justify_content": null,
      "justify_items": null,
      "left": null,
      "margin": null,
      "max_height": null,
      "max_width": null,
      "min_height": null,
      "min_width": null,
      "object_fit": null,
      "object_position": null,
      "order": null,
      "overflow": null,
      "overflow_x": null,
      "overflow_y": null,
      "padding": null,
      "right": null,
      "top": null,
      "visibility": null,
      "width": null
     }
    },
    "0dbadd25aace4c9ab9514325e232be0f": {
     "model_module": "@jupyter-widgets/controls",
     "model_module_version": "1.5.0",
     "model_name": "HBoxModel",
     "state": {
      "_dom_classes": [],
      "_model_module": "@jupyter-widgets/controls",
      "_model_module_version": "1.5.0",
      "_model_name": "HBoxModel",
      "_view_count": null,
      "_view_module": "@jupyter-widgets/controls",
      "_view_module_version": "1.5.0",
      "_view_name": "HBoxView",
      "box_style": "",
      "children": [
       "IPY_MODEL_440efe0f481a49dea139e278771d4449",
       "IPY_MODEL_c7c036b3d2f4479bbb86886e941e70ed",
       "IPY_MODEL_20801ec13a374ede98684ac274224900"
      ],
      "layout": "IPY_MODEL_599ba178b7e94a07af23cd4b3b9a81f7"
     }
    },
    "0f02ba1ad1754c0fa340ce182f80c8ac": {
     "model_module": "@jupyter-widgets/controls",
     "model_module_version": "1.5.0",
     "model_name": "DescriptionStyleModel",
     "state": {
      "_model_module": "@jupyter-widgets/controls",
      "_model_module_version": "1.5.0",
      "_model_name": "DescriptionStyleModel",
      "_view_count": null,
      "_view_module": "@jupyter-widgets/base",
      "_view_module_version": "1.2.0",
      "_view_name": "StyleView",
      "description_width": ""
     }
    },
    "1818e0d74b1c4f21b12335537e8033e9": {
     "model_module": "@jupyter-widgets/base",
     "model_module_version": "1.2.0",
     "model_name": "LayoutModel",
     "state": {
      "_model_module": "@jupyter-widgets/base",
      "_model_module_version": "1.2.0",
      "_model_name": "LayoutModel",
      "_view_count": null,
      "_view_module": "@jupyter-widgets/base",
      "_view_module_version": "1.2.0",
      "_view_name": "LayoutView",
      "align_content": null,
      "align_items": null,
      "align_self": null,
      "border": null,
      "bottom": null,
      "display": null,
      "flex": null,
      "flex_flow": null,
      "grid_area": null,
      "grid_auto_columns": null,
      "grid_auto_flow": null,
      "grid_auto_rows": null,
      "grid_column": null,
      "grid_gap": null,
      "grid_row": null,
      "grid_template_areas": null,
      "grid_template_columns": null,
      "grid_template_rows": null,
      "height": null,
      "justify_content": null,
      "justify_items": null,
      "left": null,
      "margin": null,
      "max_height": null,
      "max_width": null,
      "min_height": null,
      "min_width": null,
      "object_fit": null,
      "object_position": null,
      "order": null,
      "overflow": null,
      "overflow_x": null,
      "overflow_y": null,
      "padding": null,
      "right": null,
      "top": null,
      "visibility": null,
      "width": null
     }
    },
    "20801ec13a374ede98684ac274224900": {
     "model_module": "@jupyter-widgets/controls",
     "model_module_version": "1.5.0",
     "model_name": "HTMLModel",
     "state": {
      "_dom_classes": [],
      "_model_module": "@jupyter-widgets/controls",
      "_model_module_version": "1.5.0",
      "_model_name": "HTMLModel",
      "_view_count": null,
      "_view_module": "@jupyter-widgets/controls",
      "_view_module_version": "1.5.0",
      "_view_name": "HTMLView",
      "description": "",
      "description_tooltip": null,
      "layout": "IPY_MODEL_5faf1f0a97f3439f890378e117a82d70",
      "placeholder": "​",
      "style": "IPY_MODEL_a11ff8bd8b7d4273b4e2d9804175bc74",
      "value": " 1/1 [00:00&lt;00:00, 17.03it/s]"
     }
    },
    "20bd4a0510774ee4b4af96d5694f67ce": {
     "model_module": "@jupyter-widgets/controls",
     "model_module_version": "1.5.0",
     "model_name": "HBoxModel",
     "state": {
      "_dom_classes": [],
      "_model_module": "@jupyter-widgets/controls",
      "_model_module_version": "1.5.0",
      "_model_name": "HBoxModel",
      "_view_count": null,
      "_view_module": "@jupyter-widgets/controls",
      "_view_module_version": "1.5.0",
      "_view_name": "HBoxView",
      "box_style": "",
      "children": [
       "IPY_MODEL_b9f7244b3ec349a59b55831ed4ade82d",
       "IPY_MODEL_2b38845dbcbb41129b5332561de2b210",
       "IPY_MODEL_f69a506691194b619d7fba195461d3ad"
      ],
      "layout": "IPY_MODEL_eb212fa4503248f0a594c9235a91ec92"
     }
    },
    "23ab900ecb4a4c609c76304144c2b262": {
     "model_module": "@jupyter-widgets/controls",
     "model_module_version": "1.5.0",
     "model_name": "FloatProgressModel",
     "state": {
      "_dom_classes": [],
      "_model_module": "@jupyter-widgets/controls",
      "_model_module_version": "1.5.0",
      "_model_name": "FloatProgressModel",
      "_view_count": null,
      "_view_module": "@jupyter-widgets/controls",
      "_view_module_version": "1.5.0",
      "_view_name": "ProgressView",
      "bar_style": "success",
      "description": "",
      "description_tooltip": null,
      "layout": "IPY_MODEL_66e5f63680134593bd053ebe440d096c",
      "max": 9,
      "min": 0,
      "orientation": "horizontal",
      "style": "IPY_MODEL_a348f0bcd9c84f28859f5acb9e40a81c",
      "value": 9
     }
    },
    "27c350eff4c743278d795ecf4f87b175": {
     "model_module": "@jupyter-widgets/controls",
     "model_module_version": "1.5.0",
     "model_name": "DescriptionStyleModel",
     "state": {
      "_model_module": "@jupyter-widgets/controls",
      "_model_module_version": "1.5.0",
      "_model_name": "DescriptionStyleModel",
      "_view_count": null,
      "_view_module": "@jupyter-widgets/base",
      "_view_module_version": "1.2.0",
      "_view_name": "StyleView",
      "description_width": ""
     }
    },
    "2a5fd5fd6315452d871125ed58aaa6db": {
     "model_module": "@jupyter-widgets/controls",
     "model_module_version": "1.5.0",
     "model_name": "DescriptionStyleModel",
     "state": {
      "_model_module": "@jupyter-widgets/controls",
      "_model_module_version": "1.5.0",
      "_model_name": "DescriptionStyleModel",
      "_view_count": null,
      "_view_module": "@jupyter-widgets/base",
      "_view_module_version": "1.2.0",
      "_view_name": "StyleView",
      "description_width": ""
     }
    },
    "2b38845dbcbb41129b5332561de2b210": {
     "model_module": "@jupyter-widgets/controls",
     "model_module_version": "1.5.0",
     "model_name": "FloatProgressModel",
     "state": {
      "_dom_classes": [],
      "_model_module": "@jupyter-widgets/controls",
      "_model_module_version": "1.5.0",
      "_model_name": "FloatProgressModel",
      "_view_count": null,
      "_view_module": "@jupyter-widgets/controls",
      "_view_module_version": "1.5.0",
      "_view_name": "ProgressView",
      "bar_style": "success",
      "description": "",
      "description_tooltip": null,
      "layout": "IPY_MODEL_4d9d45d4091943d6bcd9955bb788d70a",
      "max": 9,
      "min": 0,
      "orientation": "horizontal",
      "style": "IPY_MODEL_a0fcba256c5c478c86de614301cf0d9f",
      "value": 9
     }
    },
    "32ec2e671245407581b8a872c0c66dc3": {
     "model_module": "@jupyter-widgets/controls",
     "model_module_version": "1.5.0",
     "model_name": "HTMLModel",
     "state": {
      "_dom_classes": [],
      "_model_module": "@jupyter-widgets/controls",
      "_model_module_version": "1.5.0",
      "_model_name": "HTMLModel",
      "_view_count": null,
      "_view_module": "@jupyter-widgets/controls",
      "_view_module_version": "1.5.0",
      "_view_name": "HTMLView",
      "description": "",
      "description_tooltip": null,
      "layout": "IPY_MODEL_f887794c9968496c9d8d7213e254fd90",
      "placeholder": "​",
      "style": "IPY_MODEL_c1fad3da07ad4393983ef21442272fa7",
      "value": " 9/9 [00:00&lt;00:00, 124.76it/s]"
     }
    },
    "374a8fa3f8d4491d80d08bedcc9ff0d2": {
     "model_module": "@jupyter-widgets/base",
     "model_module_version": "1.2.0",
     "model_name": "LayoutModel",
     "state": {
      "_model_module": "@jupyter-widgets/base",
      "_model_module_version": "1.2.0",
      "_model_name": "LayoutModel",
      "_view_count": null,
      "_view_module": "@jupyter-widgets/base",
      "_view_module_version": "1.2.0",
      "_view_name": "LayoutView",
      "align_content": null,
      "align_items": null,
      "align_self": null,
      "border": null,
      "bottom": null,
      "display": null,
      "flex": null,
      "flex_flow": null,
      "grid_area": null,
      "grid_auto_columns": null,
      "grid_auto_flow": null,
      "grid_auto_rows": null,
      "grid_column": null,
      "grid_gap": null,
      "grid_row": null,
      "grid_template_areas": null,
      "grid_template_columns": null,
      "grid_template_rows": null,
      "height": null,
      "justify_content": null,
      "justify_items": null,
      "left": null,
      "margin": null,
      "max_height": null,
      "max_width": null,
      "min_height": null,
      "min_width": null,
      "object_fit": null,
      "object_position": null,
      "order": null,
      "overflow": null,
      "overflow_x": null,
      "overflow_y": null,
      "padding": null,
      "right": null,
      "top": null,
      "visibility": null,
      "width": null
     }
    },
    "39ff42c196ba430abd5afeadab6e408d": {
     "model_module": "@jupyter-widgets/base",
     "model_module_version": "1.2.0",
     "model_name": "LayoutModel",
     "state": {
      "_model_module": "@jupyter-widgets/base",
      "_model_module_version": "1.2.0",
      "_model_name": "LayoutModel",
      "_view_count": null,
      "_view_module": "@jupyter-widgets/base",
      "_view_module_version": "1.2.0",
      "_view_name": "LayoutView",
      "align_content": null,
      "align_items": null,
      "align_self": null,
      "border": null,
      "bottom": null,
      "display": null,
      "flex": null,
      "flex_flow": null,
      "grid_area": null,
      "grid_auto_columns": null,
      "grid_auto_flow": null,
      "grid_auto_rows": null,
      "grid_column": null,
      "grid_gap": null,
      "grid_row": null,
      "grid_template_areas": null,
      "grid_template_columns": null,
      "grid_template_rows": null,
      "height": null,
      "justify_content": null,
      "justify_items": null,
      "left": null,
      "margin": null,
      "max_height": null,
      "max_width": null,
      "min_height": null,
      "min_width": null,
      "object_fit": null,
      "object_position": null,
      "order": null,
      "overflow": null,
      "overflow_x": null,
      "overflow_y": null,
      "padding": null,
      "right": null,
      "top": null,
      "visibility": null,
      "width": null
     }
    },
    "3e96abf2475b4d9da25427785f7513e8": {
     "model_module": "@jupyter-widgets/base",
     "model_module_version": "1.2.0",
     "model_name": "LayoutModel",
     "state": {
      "_model_module": "@jupyter-widgets/base",
      "_model_module_version": "1.2.0",
      "_model_name": "LayoutModel",
      "_view_count": null,
      "_view_module": "@jupyter-widgets/base",
      "_view_module_version": "1.2.0",
      "_view_name": "LayoutView",
      "align_content": null,
      "align_items": null,
      "align_self": null,
      "border": null,
      "bottom": null,
      "display": null,
      "flex": null,
      "flex_flow": null,
      "grid_area": null,
      "grid_auto_columns": null,
      "grid_auto_flow": null,
      "grid_auto_rows": null,
      "grid_column": null,
      "grid_gap": null,
      "grid_row": null,
      "grid_template_areas": null,
      "grid_template_columns": null,
      "grid_template_rows": null,
      "height": null,
      "justify_content": null,
      "justify_items": null,
      "left": null,
      "margin": null,
      "max_height": null,
      "max_width": null,
      "min_height": null,
      "min_width": null,
      "object_fit": null,
      "object_position": null,
      "order": null,
      "overflow": null,
      "overflow_x": null,
      "overflow_y": null,
      "padding": null,
      "right": null,
      "top": null,
      "visibility": null,
      "width": null
     }
    },
    "40df2b5acec84a92a2853ef4ee4cfaca": {
     "model_module": "@jupyter-widgets/base",
     "model_module_version": "1.2.0",
     "model_name": "LayoutModel",
     "state": {
      "_model_module": "@jupyter-widgets/base",
      "_model_module_version": "1.2.0",
      "_model_name": "LayoutModel",
      "_view_count": null,
      "_view_module": "@jupyter-widgets/base",
      "_view_module_version": "1.2.0",
      "_view_name": "LayoutView",
      "align_content": null,
      "align_items": null,
      "align_self": null,
      "border": null,
      "bottom": null,
      "display": null,
      "flex": null,
      "flex_flow": null,
      "grid_area": null,
      "grid_auto_columns": null,
      "grid_auto_flow": null,
      "grid_auto_rows": null,
      "grid_column": null,
      "grid_gap": null,
      "grid_row": null,
      "grid_template_areas": null,
      "grid_template_columns": null,
      "grid_template_rows": null,
      "height": null,
      "justify_content": null,
      "justify_items": null,
      "left": null,
      "margin": null,
      "max_height": null,
      "max_width": null,
      "min_height": null,
      "min_width": null,
      "object_fit": null,
      "object_position": null,
      "order": null,
      "overflow": null,
      "overflow_x": null,
      "overflow_y": null,
      "padding": null,
      "right": null,
      "top": null,
      "visibility": null,
      "width": null
     }
    },
    "440efe0f481a49dea139e278771d4449": {
     "model_module": "@jupyter-widgets/controls",
     "model_module_version": "1.5.0",
     "model_name": "HTMLModel",
     "state": {
      "_dom_classes": [],
      "_model_module": "@jupyter-widgets/controls",
      "_model_module_version": "1.5.0",
      "_model_name": "HTMLModel",
      "_view_count": null,
      "_view_module": "@jupyter-widgets/controls",
      "_view_module_version": "1.5.0",
      "_view_name": "HTMLView",
      "description": "",
      "description_tooltip": null,
      "layout": "IPY_MODEL_374a8fa3f8d4491d80d08bedcc9ff0d2",
      "placeholder": "​",
      "style": "IPY_MODEL_e022e4e82a3c480aabd2df46b803d533",
      "value": "Eliminating: IBS-like Symptoms: 100%"
     }
    },
    "4d9d45d4091943d6bcd9955bb788d70a": {
     "model_module": "@jupyter-widgets/base",
     "model_module_version": "1.2.0",
     "model_name": "LayoutModel",
     "state": {
      "_model_module": "@jupyter-widgets/base",
      "_model_module_version": "1.2.0",
      "_model_name": "LayoutModel",
      "_view_count": null,
      "_view_module": "@jupyter-widgets/base",
      "_view_module_version": "1.2.0",
      "_view_name": "LayoutView",
      "align_content": null,
      "align_items": null,
      "align_self": null,
      "border": null,
      "bottom": null,
      "display": null,
      "flex": null,
      "flex_flow": null,
      "grid_area": null,
      "grid_auto_columns": null,
      "grid_auto_flow": null,
      "grid_auto_rows": null,
      "grid_column": null,
      "grid_gap": null,
      "grid_row": null,
      "grid_template_areas": null,
      "grid_template_columns": null,
      "grid_template_rows": null,
      "height": null,
      "justify_content": null,
      "justify_items": null,
      "left": null,
      "margin": null,
      "max_height": null,
      "max_width": null,
      "min_height": null,
      "min_width": null,
      "object_fit": null,
      "object_position": null,
      "order": null,
      "overflow": null,
      "overflow_x": null,
      "overflow_y": null,
      "padding": null,
      "right": null,
      "top": null,
      "visibility": null,
      "width": null
     }
    },
    "4ee848f58e2f4f97911f0c7b90991870": {
     "model_module": "@jupyter-widgets/controls",
     "model_module_version": "1.5.0",
     "model_name": "HTMLModel",
     "state": {
      "_dom_classes": [],
      "_model_module": "@jupyter-widgets/controls",
      "_model_module_version": "1.5.0",
      "_model_name": "HTMLModel",
      "_view_count": null,
      "_view_module": "@jupyter-widgets/controls",
      "_view_module_version": "1.5.0",
      "_view_name": "HTMLView",
      "description": "",
      "description_tooltip": null,
      "layout": "IPY_MODEL_a0b2c7358d834a6480086f61f38a4504",
      "placeholder": "​",
      "style": "IPY_MODEL_a9ebbbee00724437a5262c3fff1ef140",
      "value": "Finding Elimination Order: : 100%"
     }
    },
    "59031ef73bbf467dac819b23d72ad2b4": {
     "model_module": "@jupyter-widgets/base",
     "model_module_version": "1.2.0",
     "model_name": "LayoutModel",
     "state": {
      "_model_module": "@jupyter-widgets/base",
      "_model_module_version": "1.2.0",
      "_model_name": "LayoutModel",
      "_view_count": null,
      "_view_module": "@jupyter-widgets/base",
      "_view_module_version": "1.2.0",
      "_view_name": "LayoutView",
      "align_content": null,
      "align_items": null,
      "align_self": null,
      "border": null,
      "bottom": null,
      "display": null,
      "flex": null,
      "flex_flow": null,
      "grid_area": null,
      "grid_auto_columns": null,
      "grid_auto_flow": null,
      "grid_auto_rows": null,
      "grid_column": null,
      "grid_gap": null,
      "grid_row": null,
      "grid_template_areas": null,
      "grid_template_columns": null,
      "grid_template_rows": null,
      "height": null,
      "justify_content": null,
      "justify_items": null,
      "left": null,
      "margin": null,
      "max_height": null,
      "max_width": null,
      "min_height": null,
      "min_width": null,
      "object_fit": null,
      "object_position": null,
      "order": null,
      "overflow": null,
      "overflow_x": null,
      "overflow_y": null,
      "padding": null,
      "right": null,
      "top": null,
      "visibility": null,
      "width": null
     }
    },
    "599ba178b7e94a07af23cd4b3b9a81f7": {
     "model_module": "@jupyter-widgets/base",
     "model_module_version": "1.2.0",
     "model_name": "LayoutModel",
     "state": {
      "_model_module": "@jupyter-widgets/base",
      "_model_module_version": "1.2.0",
      "_model_name": "LayoutModel",
      "_view_count": null,
      "_view_module": "@jupyter-widgets/base",
      "_view_module_version": "1.2.0",
      "_view_name": "LayoutView",
      "align_content": null,
      "align_items": null,
      "align_self": null,
      "border": null,
      "bottom": null,
      "display": null,
      "flex": null,
      "flex_flow": null,
      "grid_area": null,
      "grid_auto_columns": null,
      "grid_auto_flow": null,
      "grid_auto_rows": null,
      "grid_column": null,
      "grid_gap": null,
      "grid_row": null,
      "grid_template_areas": null,
      "grid_template_columns": null,
      "grid_template_rows": null,
      "height": null,
      "justify_content": null,
      "justify_items": null,
      "left": null,
      "margin": null,
      "max_height": null,
      "max_width": null,
      "min_height": null,
      "min_width": null,
      "object_fit": null,
      "object_position": null,
      "order": null,
      "overflow": null,
      "overflow_x": null,
      "overflow_y": null,
      "padding": null,
      "right": null,
      "top": null,
      "visibility": null,
      "width": null
     }
    },
    "5c967e92a9be41fbad70db8cd68de8d2": {
     "model_module": "@jupyter-widgets/base",
     "model_module_version": "1.2.0",
     "model_name": "LayoutModel",
     "state": {
      "_model_module": "@jupyter-widgets/base",
      "_model_module_version": "1.2.0",
      "_model_name": "LayoutModel",
      "_view_count": null,
      "_view_module": "@jupyter-widgets/base",
      "_view_module_version": "1.2.0",
      "_view_name": "LayoutView",
      "align_content": null,
      "align_items": null,
      "align_self": null,
      "border": null,
      "bottom": null,
      "display": null,
      "flex": null,
      "flex_flow": null,
      "grid_area": null,
      "grid_auto_columns": null,
      "grid_auto_flow": null,
      "grid_auto_rows": null,
      "grid_column": null,
      "grid_gap": null,
      "grid_row": null,
      "grid_template_areas": null,
      "grid_template_columns": null,
      "grid_template_rows": null,
      "height": null,
      "justify_content": null,
      "justify_items": null,
      "left": null,
      "margin": null,
      "max_height": null,
      "max_width": null,
      "min_height": null,
      "min_width": null,
      "object_fit": null,
      "object_position": null,
      "order": null,
      "overflow": null,
      "overflow_x": null,
      "overflow_y": null,
      "padding": null,
      "right": null,
      "top": null,
      "visibility": null,
      "width": null
     }
    },
    "5cff1d3a26ed43bf9557eb7e2ba56202": {
     "model_module": "@jupyter-widgets/controls",
     "model_module_version": "1.5.0",
     "model_name": "HBoxModel",
     "state": {
      "_dom_classes": [],
      "_model_module": "@jupyter-widgets/controls",
      "_model_module_version": "1.5.0",
      "_model_name": "HBoxModel",
      "_view_count": null,
      "_view_module": "@jupyter-widgets/controls",
      "_view_module_version": "1.5.0",
      "_view_name": "HBoxView",
      "box_style": "",
      "children": [
       "IPY_MODEL_c347326378224dca81e8bf935ad37d27",
       "IPY_MODEL_23ab900ecb4a4c609c76304144c2b262",
       "IPY_MODEL_32ec2e671245407581b8a872c0c66dc3"
      ],
      "layout": "IPY_MODEL_a8bda1567c624617bd2614a3f9b6e7dd"
     }
    },
    "5faf1f0a97f3439f890378e117a82d70": {
     "model_module": "@jupyter-widgets/base",
     "model_module_version": "1.2.0",
     "model_name": "LayoutModel",
     "state": {
      "_model_module": "@jupyter-widgets/base",
      "_model_module_version": "1.2.0",
      "_model_name": "LayoutModel",
      "_view_count": null,
      "_view_module": "@jupyter-widgets/base",
      "_view_module_version": "1.2.0",
      "_view_name": "LayoutView",
      "align_content": null,
      "align_items": null,
      "align_self": null,
      "border": null,
      "bottom": null,
      "display": null,
      "flex": null,
      "flex_flow": null,
      "grid_area": null,
      "grid_auto_columns": null,
      "grid_auto_flow": null,
      "grid_auto_rows": null,
      "grid_column": null,
      "grid_gap": null,
      "grid_row": null,
      "grid_template_areas": null,
      "grid_template_columns": null,
      "grid_template_rows": null,
      "height": null,
      "justify_content": null,
      "justify_items": null,
      "left": null,
      "margin": null,
      "max_height": null,
      "max_width": null,
      "min_height": null,
      "min_width": null,
      "object_fit": null,
      "object_position": null,
      "order": null,
      "overflow": null,
      "overflow_x": null,
      "overflow_y": null,
      "padding": null,
      "right": null,
      "top": null,
      "visibility": null,
      "width": null
     }
    },
    "63b0a3b2f4924d70a935fcd5a1932c62": {
     "model_module": "@jupyter-widgets/base",
     "model_module_version": "1.2.0",
     "model_name": "LayoutModel",
     "state": {
      "_model_module": "@jupyter-widgets/base",
      "_model_module_version": "1.2.0",
      "_model_name": "LayoutModel",
      "_view_count": null,
      "_view_module": "@jupyter-widgets/base",
      "_view_module_version": "1.2.0",
      "_view_name": "LayoutView",
      "align_content": null,
      "align_items": null,
      "align_self": null,
      "border": null,
      "bottom": null,
      "display": null,
      "flex": null,
      "flex_flow": null,
      "grid_area": null,
      "grid_auto_columns": null,
      "grid_auto_flow": null,
      "grid_auto_rows": null,
      "grid_column": null,
      "grid_gap": null,
      "grid_row": null,
      "grid_template_areas": null,
      "grid_template_columns": null,
      "grid_template_rows": null,
      "height": null,
      "justify_content": null,
      "justify_items": null,
      "left": null,
      "margin": null,
      "max_height": null,
      "max_width": null,
      "min_height": null,
      "min_width": null,
      "object_fit": null,
      "object_position": null,
      "order": null,
      "overflow": null,
      "overflow_x": null,
      "overflow_y": null,
      "padding": null,
      "right": null,
      "top": null,
      "visibility": null,
      "width": null
     }
    },
    "66e5f63680134593bd053ebe440d096c": {
     "model_module": "@jupyter-widgets/base",
     "model_module_version": "1.2.0",
     "model_name": "LayoutModel",
     "state": {
      "_model_module": "@jupyter-widgets/base",
      "_model_module_version": "1.2.0",
      "_model_name": "LayoutModel",
      "_view_count": null,
      "_view_module": "@jupyter-widgets/base",
      "_view_module_version": "1.2.0",
      "_view_name": "LayoutView",
      "align_content": null,
      "align_items": null,
      "align_self": null,
      "border": null,
      "bottom": null,
      "display": null,
      "flex": null,
      "flex_flow": null,
      "grid_area": null,
      "grid_auto_columns": null,
      "grid_auto_flow": null,
      "grid_auto_rows": null,
      "grid_column": null,
      "grid_gap": null,
      "grid_row": null,
      "grid_template_areas": null,
      "grid_template_columns": null,
      "grid_template_rows": null,
      "height": null,
      "justify_content": null,
      "justify_items": null,
      "left": null,
      "margin": null,
      "max_height": null,
      "max_width": null,
      "min_height": null,
      "min_width": null,
      "object_fit": null,
      "object_position": null,
      "order": null,
      "overflow": null,
      "overflow_x": null,
      "overflow_y": null,
      "padding": null,
      "right": null,
      "top": null,
      "visibility": null,
      "width": null
     }
    },
    "6c577c8e35e3444ebb2ed3dfc8f99a96": {
     "model_module": "@jupyter-widgets/controls",
     "model_module_version": "1.5.0",
     "model_name": "DescriptionStyleModel",
     "state": {
      "_model_module": "@jupyter-widgets/controls",
      "_model_module_version": "1.5.0",
      "_model_name": "DescriptionStyleModel",
      "_view_count": null,
      "_view_module": "@jupyter-widgets/base",
      "_view_module_version": "1.2.0",
      "_view_name": "StyleView",
      "description_width": ""
     }
    },
    "729c35b7d12b4dd69e403000c83b764a": {
     "model_module": "@jupyter-widgets/controls",
     "model_module_version": "1.5.0",
     "model_name": "DescriptionStyleModel",
     "state": {
      "_model_module": "@jupyter-widgets/controls",
      "_model_module_version": "1.5.0",
      "_model_name": "DescriptionStyleModel",
      "_view_count": null,
      "_view_module": "@jupyter-widgets/base",
      "_view_module_version": "1.2.0",
      "_view_name": "StyleView",
      "description_width": ""
     }
    },
    "75da2fd1394c4dbaaa6a975679f03ca0": {
     "model_module": "@jupyter-widgets/controls",
     "model_module_version": "1.5.0",
     "model_name": "DescriptionStyleModel",
     "state": {
      "_model_module": "@jupyter-widgets/controls",
      "_model_module_version": "1.5.0",
      "_model_name": "DescriptionStyleModel",
      "_view_count": null,
      "_view_module": "@jupyter-widgets/base",
      "_view_module_version": "1.2.0",
      "_view_name": "StyleView",
      "description_width": ""
     }
    },
    "7d81dbb222fe4dea99a2a39d4e5b1c94": {
     "model_module": "@jupyter-widgets/controls",
     "model_module_version": "1.5.0",
     "model_name": "HTMLModel",
     "state": {
      "_dom_classes": [],
      "_model_module": "@jupyter-widgets/controls",
      "_model_module_version": "1.5.0",
      "_model_name": "HTMLModel",
      "_view_count": null,
      "_view_module": "@jupyter-widgets/controls",
      "_view_module_version": "1.5.0",
      "_view_name": "HTMLView",
      "description": "",
      "description_tooltip": null,
      "layout": "IPY_MODEL_86287c8b851848ab8f4d752762ad1b47",
      "placeholder": "​",
      "style": "IPY_MODEL_6c577c8e35e3444ebb2ed3dfc8f99a96",
      "value": " 1/1 [00:45&lt;00:00, 45.97s/it]"
     }
    },
    "858c9e49d5804c838712d98efbd57f57": {
     "model_module": "@jupyter-widgets/base",
     "model_module_version": "1.2.0",
     "model_name": "LayoutModel",
     "state": {
      "_model_module": "@jupyter-widgets/base",
      "_model_module_version": "1.2.0",
      "_model_name": "LayoutModel",
      "_view_count": null,
      "_view_module": "@jupyter-widgets/base",
      "_view_module_version": "1.2.0",
      "_view_name": "LayoutView",
      "align_content": null,
      "align_items": null,
      "align_self": null,
      "border": null,
      "bottom": null,
      "display": null,
      "flex": null,
      "flex_flow": null,
      "grid_area": null,
      "grid_auto_columns": null,
      "grid_auto_flow": null,
      "grid_auto_rows": null,
      "grid_column": null,
      "grid_gap": null,
      "grid_row": null,
      "grid_template_areas": null,
      "grid_template_columns": null,
      "grid_template_rows": null,
      "height": null,
      "justify_content": null,
      "justify_items": null,
      "left": null,
      "margin": null,
      "max_height": null,
      "max_width": null,
      "min_height": null,
      "min_width": null,
      "object_fit": null,
      "object_position": null,
      "order": null,
      "overflow": null,
      "overflow_x": null,
      "overflow_y": null,
      "padding": null,
      "right": null,
      "top": null,
      "visibility": null,
      "width": null
     }
    },
    "86287c8b851848ab8f4d752762ad1b47": {
     "model_module": "@jupyter-widgets/base",
     "model_module_version": "1.2.0",
     "model_name": "LayoutModel",
     "state": {
      "_model_module": "@jupyter-widgets/base",
      "_model_module_version": "1.2.0",
      "_model_name": "LayoutModel",
      "_view_count": null,
      "_view_module": "@jupyter-widgets/base",
      "_view_module_version": "1.2.0",
      "_view_name": "LayoutView",
      "align_content": null,
      "align_items": null,
      "align_self": null,
      "border": null,
      "bottom": null,
      "display": null,
      "flex": null,
      "flex_flow": null,
      "grid_area": null,
      "grid_auto_columns": null,
      "grid_auto_flow": null,
      "grid_auto_rows": null,
      "grid_column": null,
      "grid_gap": null,
      "grid_row": null,
      "grid_template_areas": null,
      "grid_template_columns": null,
      "grid_template_rows": null,
      "height": null,
      "justify_content": null,
      "justify_items": null,
      "left": null,
      "margin": null,
      "max_height": null,
      "max_width": null,
      "min_height": null,
      "min_width": null,
      "object_fit": null,
      "object_position": null,
      "order": null,
      "overflow": null,
      "overflow_x": null,
      "overflow_y": null,
      "padding": null,
      "right": null,
      "top": null,
      "visibility": null,
      "width": null
     }
    },
    "90555f9b79a64138b0830035b1ebc92b": {
     "model_module": "@jupyter-widgets/controls",
     "model_module_version": "1.5.0",
     "model_name": "ProgressStyleModel",
     "state": {
      "_model_module": "@jupyter-widgets/controls",
      "_model_module_version": "1.5.0",
      "_model_name": "ProgressStyleModel",
      "_view_count": null,
      "_view_module": "@jupyter-widgets/base",
      "_view_module_version": "1.2.0",
      "_view_name": "StyleView",
      "bar_color": null,
      "description_width": ""
     }
    },
    "a0b2c7358d834a6480086f61f38a4504": {
     "model_module": "@jupyter-widgets/base",
     "model_module_version": "1.2.0",
     "model_name": "LayoutModel",
     "state": {
      "_model_module": "@jupyter-widgets/base",
      "_model_module_version": "1.2.0",
      "_model_name": "LayoutModel",
      "_view_count": null,
      "_view_module": "@jupyter-widgets/base",
      "_view_module_version": "1.2.0",
      "_view_name": "LayoutView",
      "align_content": null,
      "align_items": null,
      "align_self": null,
      "border": null,
      "bottom": null,
      "display": null,
      "flex": null,
      "flex_flow": null,
      "grid_area": null,
      "grid_auto_columns": null,
      "grid_auto_flow": null,
      "grid_auto_rows": null,
      "grid_column": null,
      "grid_gap": null,
      "grid_row": null,
      "grid_template_areas": null,
      "grid_template_columns": null,
      "grid_template_rows": null,
      "height": null,
      "justify_content": null,
      "justify_items": null,
      "left": null,
      "margin": null,
      "max_height": null,
      "max_width": null,
      "min_height": null,
      "min_width": null,
      "object_fit": null,
      "object_position": null,
      "order": null,
      "overflow": null,
      "overflow_x": null,
      "overflow_y": null,
      "padding": null,
      "right": null,
      "top": null,
      "visibility": null,
      "width": null
     }
    },
    "a0fcba256c5c478c86de614301cf0d9f": {
     "model_module": "@jupyter-widgets/controls",
     "model_module_version": "1.5.0",
     "model_name": "ProgressStyleModel",
     "state": {
      "_model_module": "@jupyter-widgets/controls",
      "_model_module_version": "1.5.0",
      "_model_name": "ProgressStyleModel",
      "_view_count": null,
      "_view_module": "@jupyter-widgets/base",
      "_view_module_version": "1.2.0",
      "_view_name": "StyleView",
      "bar_color": null,
      "description_width": ""
     }
    },
    "a11ff8bd8b7d4273b4e2d9804175bc74": {
     "model_module": "@jupyter-widgets/controls",
     "model_module_version": "1.5.0",
     "model_name": "DescriptionStyleModel",
     "state": {
      "_model_module": "@jupyter-widgets/controls",
      "_model_module_version": "1.5.0",
      "_model_name": "DescriptionStyleModel",
      "_view_count": null,
      "_view_module": "@jupyter-widgets/base",
      "_view_module_version": "1.2.0",
      "_view_name": "StyleView",
      "description_width": ""
     }
    },
    "a348f0bcd9c84f28859f5acb9e40a81c": {
     "model_module": "@jupyter-widgets/controls",
     "model_module_version": "1.5.0",
     "model_name": "ProgressStyleModel",
     "state": {
      "_model_module": "@jupyter-widgets/controls",
      "_model_module_version": "1.5.0",
      "_model_name": "ProgressStyleModel",
      "_view_count": null,
      "_view_module": "@jupyter-widgets/base",
      "_view_module_version": "1.2.0",
      "_view_name": "StyleView",
      "bar_color": null,
      "description_width": ""
     }
    },
    "a8bda1567c624617bd2614a3f9b6e7dd": {
     "model_module": "@jupyter-widgets/base",
     "model_module_version": "1.2.0",
     "model_name": "LayoutModel",
     "state": {
      "_model_module": "@jupyter-widgets/base",
      "_model_module_version": "1.2.0",
      "_model_name": "LayoutModel",
      "_view_count": null,
      "_view_module": "@jupyter-widgets/base",
      "_view_module_version": "1.2.0",
      "_view_name": "LayoutView",
      "align_content": null,
      "align_items": null,
      "align_self": null,
      "border": null,
      "bottom": null,
      "display": null,
      "flex": null,
      "flex_flow": null,
      "grid_area": null,
      "grid_auto_columns": null,
      "grid_auto_flow": null,
      "grid_auto_rows": null,
      "grid_column": null,
      "grid_gap": null,
      "grid_row": null,
      "grid_template_areas": null,
      "grid_template_columns": null,
      "grid_template_rows": null,
      "height": null,
      "justify_content": null,
      "justify_items": null,
      "left": null,
      "margin": null,
      "max_height": null,
      "max_width": null,
      "min_height": null,
      "min_width": null,
      "object_fit": null,
      "object_position": null,
      "order": null,
      "overflow": null,
      "overflow_x": null,
      "overflow_y": null,
      "padding": null,
      "right": null,
      "top": null,
      "visibility": null,
      "width": null
     }
    },
    "a9ebbbee00724437a5262c3fff1ef140": {
     "model_module": "@jupyter-widgets/controls",
     "model_module_version": "1.5.0",
     "model_name": "DescriptionStyleModel",
     "state": {
      "_model_module": "@jupyter-widgets/controls",
      "_model_module_version": "1.5.0",
      "_model_name": "DescriptionStyleModel",
      "_view_count": null,
      "_view_module": "@jupyter-widgets/base",
      "_view_module_version": "1.2.0",
      "_view_name": "StyleView",
      "description_width": ""
     }
    },
    "b01ffb6693664b9ba122b8b1b635dffc": {
     "model_module": "@jupyter-widgets/controls",
     "model_module_version": "1.5.0",
     "model_name": "HTMLModel",
     "state": {
      "_dom_classes": [],
      "_model_module": "@jupyter-widgets/controls",
      "_model_module_version": "1.5.0",
      "_model_name": "HTMLModel",
      "_view_count": null,
      "_view_module": "@jupyter-widgets/controls",
      "_view_module_version": "1.5.0",
      "_view_name": "HTMLView",
      "description": "",
      "description_tooltip": null,
      "layout": "IPY_MODEL_858c9e49d5804c838712d98efbd57f57",
      "placeholder": "​",
      "style": "IPY_MODEL_2a5fd5fd6315452d871125ed58aaa6db",
      "value": "  6%"
     }
    },
    "b04353fe653241ccaf8293bbbba36cb3": {
     "model_module": "@jupyter-widgets/controls",
     "model_module_version": "1.5.0",
     "model_name": "ProgressStyleModel",
     "state": {
      "_model_module": "@jupyter-widgets/controls",
      "_model_module_version": "1.5.0",
      "_model_name": "ProgressStyleModel",
      "_view_count": null,
      "_view_module": "@jupyter-widgets/base",
      "_view_module_version": "1.2.0",
      "_view_name": "StyleView",
      "bar_color": null,
      "description_width": ""
     }
    },
    "b712e292eecd43dc8596b8e1ba0e22d1": {
     "model_module": "@jupyter-widgets/controls",
     "model_module_version": "1.5.0",
     "model_name": "FloatProgressModel",
     "state": {
      "_dom_classes": [],
      "_model_module": "@jupyter-widgets/controls",
      "_model_module_version": "1.5.0",
      "_model_name": "FloatProgressModel",
      "_view_count": null,
      "_view_module": "@jupyter-widgets/controls",
      "_view_module_version": "1.5.0",
      "_view_name": "ProgressView",
      "bar_style": "success",
      "description": "",
      "description_tooltip": null,
      "layout": "IPY_MODEL_3e96abf2475b4d9da25427785f7513e8",
      "max": 1,
      "min": 0,
      "orientation": "horizontal",
      "style": "IPY_MODEL_90555f9b79a64138b0830035b1ebc92b",
      "value": 1
     }
    },
    "b9f7244b3ec349a59b55831ed4ade82d": {
     "model_module": "@jupyter-widgets/controls",
     "model_module_version": "1.5.0",
     "model_name": "HTMLModel",
     "state": {
      "_dom_classes": [],
      "_model_module": "@jupyter-widgets/controls",
      "_model_module_version": "1.5.0",
      "_model_name": "HTMLModel",
      "_view_count": null,
      "_view_module": "@jupyter-widgets/controls",
      "_view_module_version": "1.5.0",
      "_view_name": "HTMLView",
      "description": "",
      "description_tooltip": null,
      "layout": "IPY_MODEL_1818e0d74b1c4f21b12335537e8033e9",
      "placeholder": "​",
      "style": "IPY_MODEL_27c350eff4c743278d795ecf4f87b175",
      "value": "100%"
     }
    },
    "c1fad3da07ad4393983ef21442272fa7": {
     "model_module": "@jupyter-widgets/controls",
     "model_module_version": "1.5.0",
     "model_name": "DescriptionStyleModel",
     "state": {
      "_model_module": "@jupyter-widgets/controls",
      "_model_module_version": "1.5.0",
      "_model_name": "DescriptionStyleModel",
      "_view_count": null,
      "_view_module": "@jupyter-widgets/base",
      "_view_module_version": "1.2.0",
      "_view_name": "StyleView",
      "description_width": ""
     }
    },
    "c347326378224dca81e8bf935ad37d27": {
     "model_module": "@jupyter-widgets/controls",
     "model_module_version": "1.5.0",
     "model_name": "HTMLModel",
     "state": {
      "_dom_classes": [],
      "_model_module": "@jupyter-widgets/controls",
      "_model_module_version": "1.5.0",
      "_model_name": "HTMLModel",
      "_view_count": null,
      "_view_module": "@jupyter-widgets/controls",
      "_view_module_version": "1.5.0",
      "_view_name": "HTMLView",
      "description": "",
      "description_tooltip": null,
      "layout": "IPY_MODEL_c9a042af69904627a4126a854af815dd",
      "placeholder": "​",
      "style": "IPY_MODEL_75da2fd1394c4dbaaa6a975679f03ca0",
      "value": "100%"
     }
    },
    "c7c036b3d2f4479bbb86886e941e70ed": {
     "model_module": "@jupyter-widgets/controls",
     "model_module_version": "1.5.0",
     "model_name": "FloatProgressModel",
     "state": {
      "_dom_classes": [],
      "_model_module": "@jupyter-widgets/controls",
      "_model_module_version": "1.5.0",
      "_model_name": "FloatProgressModel",
      "_view_count": null,
      "_view_module": "@jupyter-widgets/controls",
      "_view_module_version": "1.5.0",
      "_view_name": "ProgressView",
      "bar_style": "success",
      "description": "",
      "description_tooltip": null,
      "layout": "IPY_MODEL_59031ef73bbf467dac819b23d72ad2b4",
      "max": 1,
      "min": 0,
      "orientation": "horizontal",
      "style": "IPY_MODEL_0862ec464bd9415f9f025e01636e1ebd",
      "value": 1
     }
    },
    "c9a042af69904627a4126a854af815dd": {
     "model_module": "@jupyter-widgets/base",
     "model_module_version": "1.2.0",
     "model_name": "LayoutModel",
     "state": {
      "_model_module": "@jupyter-widgets/base",
      "_model_module_version": "1.2.0",
      "_model_name": "LayoutModel",
      "_view_count": null,
      "_view_module": "@jupyter-widgets/base",
      "_view_module_version": "1.2.0",
      "_view_name": "LayoutView",
      "align_content": null,
      "align_items": null,
      "align_self": null,
      "border": null,
      "bottom": null,
      "display": null,
      "flex": null,
      "flex_flow": null,
      "grid_area": null,
      "grid_auto_columns": null,
      "grid_auto_flow": null,
      "grid_auto_rows": null,
      "grid_column": null,
      "grid_gap": null,
      "grid_row": null,
      "grid_template_areas": null,
      "grid_template_columns": null,
      "grid_template_rows": null,
      "height": null,
      "justify_content": null,
      "justify_items": null,
      "left": null,
      "margin": null,
      "max_height": null,
      "max_width": null,
      "min_height": null,
      "min_width": null,
      "object_fit": null,
      "object_position": null,
      "order": null,
      "overflow": null,
      "overflow_x": null,
      "overflow_y": null,
      "padding": null,
      "right": null,
      "top": null,
      "visibility": null,
      "width": null
     }
    },
    "cf1bbdf1f2244c18a6807c4150612234": {
     "model_module": "@jupyter-widgets/controls",
     "model_module_version": "1.5.0",
     "model_name": "FloatProgressModel",
     "state": {
      "_dom_classes": [],
      "_model_module": "@jupyter-widgets/controls",
      "_model_module_version": "1.5.0",
      "_model_name": "FloatProgressModel",
      "_view_count": null,
      "_view_module": "@jupyter-widgets/controls",
      "_view_module_version": "1.5.0",
      "_view_name": "ProgressView",
      "bar_style": "danger",
      "description": "",
      "description_tooltip": null,
      "layout": "IPY_MODEL_63b0a3b2f4924d70a935fcd5a1932c62",
      "max": 100,
      "min": 0,
      "orientation": "horizontal",
      "style": "IPY_MODEL_b04353fe653241ccaf8293bbbba36cb3",
      "value": 6
     }
    },
    "cf7a4909e55e4fd6a0bdcdb8dc6b4fbb": {
     "model_module": "@jupyter-widgets/controls",
     "model_module_version": "1.5.0",
     "model_name": "HBoxModel",
     "state": {
      "_dom_classes": [],
      "_model_module": "@jupyter-widgets/controls",
      "_model_module_version": "1.5.0",
      "_model_name": "HBoxModel",
      "_view_count": null,
      "_view_module": "@jupyter-widgets/controls",
      "_view_module_version": "1.5.0",
      "_view_name": "HBoxView",
      "box_style": "",
      "children": [
       "IPY_MODEL_b01ffb6693664b9ba122b8b1b635dffc",
       "IPY_MODEL_cf1bbdf1f2244c18a6807c4150612234",
       "IPY_MODEL_d0bec14860d34cbabdc6090d63b7656f"
      ],
      "layout": "IPY_MODEL_39ff42c196ba430abd5afeadab6e408d"
     }
    },
    "d0bec14860d34cbabdc6090d63b7656f": {
     "model_module": "@jupyter-widgets/controls",
     "model_module_version": "1.5.0",
     "model_name": "HTMLModel",
     "state": {
      "_dom_classes": [],
      "_model_module": "@jupyter-widgets/controls",
      "_model_module_version": "1.5.0",
      "_model_name": "HTMLModel",
      "_view_count": null,
      "_view_module": "@jupyter-widgets/controls",
      "_view_module_version": "1.5.0",
      "_view_name": "HTMLView",
      "description": "",
      "description_tooltip": null,
      "layout": "IPY_MODEL_40df2b5acec84a92a2853ef4ee4cfaca",
      "placeholder": "​",
      "style": "IPY_MODEL_0f02ba1ad1754c0fa340ce182f80c8ac",
      "value": " 6/100 [00:13&lt;03:01,  1.93s/it]"
     }
    },
    "e022e4e82a3c480aabd2df46b803d533": {
     "model_module": "@jupyter-widgets/controls",
     "model_module_version": "1.5.0",
     "model_name": "DescriptionStyleModel",
     "state": {
      "_model_module": "@jupyter-widgets/controls",
      "_model_module_version": "1.5.0",
      "_model_name": "DescriptionStyleModel",
      "_view_count": null,
      "_view_module": "@jupyter-widgets/base",
      "_view_module_version": "1.2.0",
      "_view_name": "StyleView",
      "description_width": ""
     }
    },
    "eb212fa4503248f0a594c9235a91ec92": {
     "model_module": "@jupyter-widgets/base",
     "model_module_version": "1.2.0",
     "model_name": "LayoutModel",
     "state": {
      "_model_module": "@jupyter-widgets/base",
      "_model_module_version": "1.2.0",
      "_model_name": "LayoutModel",
      "_view_count": null,
      "_view_module": "@jupyter-widgets/base",
      "_view_module_version": "1.2.0",
      "_view_name": "LayoutView",
      "align_content": null,
      "align_items": null,
      "align_self": null,
      "border": null,
      "bottom": null,
      "display": null,
      "flex": null,
      "flex_flow": null,
      "grid_area": null,
      "grid_auto_columns": null,
      "grid_auto_flow": null,
      "grid_auto_rows": null,
      "grid_column": null,
      "grid_gap": null,
      "grid_row": null,
      "grid_template_areas": null,
      "grid_template_columns": null,
      "grid_template_rows": null,
      "height": null,
      "justify_content": null,
      "justify_items": null,
      "left": null,
      "margin": null,
      "max_height": null,
      "max_width": null,
      "min_height": null,
      "min_width": null,
      "object_fit": null,
      "object_position": null,
      "order": null,
      "overflow": null,
      "overflow_x": null,
      "overflow_y": null,
      "padding": null,
      "right": null,
      "top": null,
      "visibility": null,
      "width": null
     }
    },
    "f442ffa8019f4772a7ac2af51a8127cf": {
     "model_module": "@jupyter-widgets/controls",
     "model_module_version": "1.5.0",
     "model_name": "HBoxModel",
     "state": {
      "_dom_classes": [],
      "_model_module": "@jupyter-widgets/controls",
      "_model_module_version": "1.5.0",
      "_model_name": "HBoxModel",
      "_view_count": null,
      "_view_module": "@jupyter-widgets/controls",
      "_view_module_version": "1.5.0",
      "_view_name": "HBoxView",
      "box_style": "",
      "children": [
       "IPY_MODEL_4ee848f58e2f4f97911f0c7b90991870",
       "IPY_MODEL_b712e292eecd43dc8596b8e1ba0e22d1",
       "IPY_MODEL_7d81dbb222fe4dea99a2a39d4e5b1c94"
      ],
      "layout": "IPY_MODEL_5c967e92a9be41fbad70db8cd68de8d2"
     }
    },
    "f69a506691194b619d7fba195461d3ad": {
     "model_module": "@jupyter-widgets/controls",
     "model_module_version": "1.5.0",
     "model_name": "HTMLModel",
     "state": {
      "_dom_classes": [],
      "_model_module": "@jupyter-widgets/controls",
      "_model_module_version": "1.5.0",
      "_model_name": "HTMLModel",
      "_view_count": null,
      "_view_module": "@jupyter-widgets/controls",
      "_view_module_version": "1.5.0",
      "_view_name": "HTMLView",
      "description": "",
      "description_tooltip": null,
      "layout": "IPY_MODEL_0c0ba536b7804e7580eca66670edb7c3",
      "placeholder": "​",
      "style": "IPY_MODEL_729c35b7d12b4dd69e403000c83b764a",
      "value": " 9/9 [00:00&lt;00:00, 146.19it/s]"
     }
    },
    "f887794c9968496c9d8d7213e254fd90": {
     "model_module": "@jupyter-widgets/base",
     "model_module_version": "1.2.0",
     "model_name": "LayoutModel",
     "state": {
      "_model_module": "@jupyter-widgets/base",
      "_model_module_version": "1.2.0",
      "_model_name": "LayoutModel",
      "_view_count": null,
      "_view_module": "@jupyter-widgets/base",
      "_view_module_version": "1.2.0",
      "_view_name": "LayoutView",
      "align_content": null,
      "align_items": null,
      "align_self": null,
      "border": null,
      "bottom": null,
      "display": null,
      "flex": null,
      "flex_flow": null,
      "grid_area": null,
      "grid_auto_columns": null,
      "grid_auto_flow": null,
      "grid_auto_rows": null,
      "grid_column": null,
      "grid_gap": null,
      "grid_row": null,
      "grid_template_areas": null,
      "grid_template_columns": null,
      "grid_template_rows": null,
      "height": null,
      "justify_content": null,
      "justify_items": null,
      "left": null,
      "margin": null,
      "max_height": null,
      "max_width": null,
      "min_height": null,
      "min_width": null,
      "object_fit": null,
      "object_position": null,
      "order": null,
      "overflow": null,
      "overflow_x": null,
      "overflow_y": null,
      "padding": null,
      "right": null,
      "top": null,
      "visibility": null,
      "width": null
     }
    }
   }
  }
 },
 "nbformat": 4,
 "nbformat_minor": 5
}
